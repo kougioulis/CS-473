{
  "nbformat": 4,
  "nbformat_minor": 0,
  "metadata": {
    "colab": {
      "provenance": []
    },
    "kernelspec": {
      "name": "python3",
      "display_name": "Python 3"
    },
    "language_info": {
      "name": "python"
    }
  },
  "cells": [
    {
      "cell_type": "markdown",
      "source": [
        "# **CS-473 (Pattern Recognition)**\n",
        "\n",
        "## Assignment 1 - Bayesian Classifier\n",
        "\n",
        "##### Nikolaos Kougioulis (csdp1285)\n",
        "\n",
        "---\n",
        "\n",
        "In this assignment the task is to familiarize with Bayesian Decision Theory. Assignment’s 1 task is the implementation of a Bayesian classifier and its evaluation on the given Wine dataset. Please use the *’parameters.txt’* file for any variables/information that you might need."
      ],
      "metadata": {
        "id": "u9eYXD0P04GR"
      }
    },
    {
      "cell_type": "code",
      "source": [
        "import math \n",
        "import numpy as np\n",
        "import matplotlib.pyplot as plt\n",
        "import pandas as pd\n",
        "\n",
        "#import random \n",
        "#import scipy.stats"
      ],
      "metadata": {
        "id": "Qyq8Z8Onbbbs"
      },
      "execution_count": null,
      "outputs": []
    },
    {
      "cell_type": "code",
      "source": [
        "from google.colab import files\n",
        "uploaded = files.upload()\n",
        "\n",
        "df = pd.read_csv(\"data.csv\", sep=\",\") #wines dataset"
      ],
      "metadata": {
        "colab": {
          "base_uri": "https://localhost:8080/",
          "height": 75
        },
        "id": "Qrjp5TmOeNzA",
        "outputId": "742c0db5-d2b2-465f-ebdf-f9018f0d66f0"
      },
      "execution_count": null,
      "outputs": [
        {
          "output_type": "display_data",
          "data": {
            "text/plain": [
              "<IPython.core.display.HTML object>"
            ],
            "text/html": [
              "\n",
              "     <input type=\"file\" id=\"files-8618d608-5636-4f1e-8eeb-5f3080409aa0\" name=\"files[]\" multiple disabled\n",
              "        style=\"border:none\" />\n",
              "     <output id=\"result-8618d608-5636-4f1e-8eeb-5f3080409aa0\">\n",
              "      Upload widget is only available when the cell has been executed in the\n",
              "      current browser session. Please rerun this cell to enable.\n",
              "      </output>\n",
              "      <script>// Copyright 2017 Google LLC\n",
              "//\n",
              "// Licensed under the Apache License, Version 2.0 (the \"License\");\n",
              "// you may not use this file except in compliance with the License.\n",
              "// You may obtain a copy of the License at\n",
              "//\n",
              "//      http://www.apache.org/licenses/LICENSE-2.0\n",
              "//\n",
              "// Unless required by applicable law or agreed to in writing, software\n",
              "// distributed under the License is distributed on an \"AS IS\" BASIS,\n",
              "// WITHOUT WARRANTIES OR CONDITIONS OF ANY KIND, either express or implied.\n",
              "// See the License for the specific language governing permissions and\n",
              "// limitations under the License.\n",
              "\n",
              "/**\n",
              " * @fileoverview Helpers for google.colab Python module.\n",
              " */\n",
              "(function(scope) {\n",
              "function span(text, styleAttributes = {}) {\n",
              "  const element = document.createElement('span');\n",
              "  element.textContent = text;\n",
              "  for (const key of Object.keys(styleAttributes)) {\n",
              "    element.style[key] = styleAttributes[key];\n",
              "  }\n",
              "  return element;\n",
              "}\n",
              "\n",
              "// Max number of bytes which will be uploaded at a time.\n",
              "const MAX_PAYLOAD_SIZE = 100 * 1024;\n",
              "\n",
              "function _uploadFiles(inputId, outputId) {\n",
              "  const steps = uploadFilesStep(inputId, outputId);\n",
              "  const outputElement = document.getElementById(outputId);\n",
              "  // Cache steps on the outputElement to make it available for the next call\n",
              "  // to uploadFilesContinue from Python.\n",
              "  outputElement.steps = steps;\n",
              "\n",
              "  return _uploadFilesContinue(outputId);\n",
              "}\n",
              "\n",
              "// This is roughly an async generator (not supported in the browser yet),\n",
              "// where there are multiple asynchronous steps and the Python side is going\n",
              "// to poll for completion of each step.\n",
              "// This uses a Promise to block the python side on completion of each step,\n",
              "// then passes the result of the previous step as the input to the next step.\n",
              "function _uploadFilesContinue(outputId) {\n",
              "  const outputElement = document.getElementById(outputId);\n",
              "  const steps = outputElement.steps;\n",
              "\n",
              "  const next = steps.next(outputElement.lastPromiseValue);\n",
              "  return Promise.resolve(next.value.promise).then((value) => {\n",
              "    // Cache the last promise value to make it available to the next\n",
              "    // step of the generator.\n",
              "    outputElement.lastPromiseValue = value;\n",
              "    return next.value.response;\n",
              "  });\n",
              "}\n",
              "\n",
              "/**\n",
              " * Generator function which is called between each async step of the upload\n",
              " * process.\n",
              " * @param {string} inputId Element ID of the input file picker element.\n",
              " * @param {string} outputId Element ID of the output display.\n",
              " * @return {!Iterable<!Object>} Iterable of next steps.\n",
              " */\n",
              "function* uploadFilesStep(inputId, outputId) {\n",
              "  const inputElement = document.getElementById(inputId);\n",
              "  inputElement.disabled = false;\n",
              "\n",
              "  const outputElement = document.getElementById(outputId);\n",
              "  outputElement.innerHTML = '';\n",
              "\n",
              "  const pickedPromise = new Promise((resolve) => {\n",
              "    inputElement.addEventListener('change', (e) => {\n",
              "      resolve(e.target.files);\n",
              "    });\n",
              "  });\n",
              "\n",
              "  const cancel = document.createElement('button');\n",
              "  inputElement.parentElement.appendChild(cancel);\n",
              "  cancel.textContent = 'Cancel upload';\n",
              "  const cancelPromise = new Promise((resolve) => {\n",
              "    cancel.onclick = () => {\n",
              "      resolve(null);\n",
              "    };\n",
              "  });\n",
              "\n",
              "  // Wait for the user to pick the files.\n",
              "  const files = yield {\n",
              "    promise: Promise.race([pickedPromise, cancelPromise]),\n",
              "    response: {\n",
              "      action: 'starting',\n",
              "    }\n",
              "  };\n",
              "\n",
              "  cancel.remove();\n",
              "\n",
              "  // Disable the input element since further picks are not allowed.\n",
              "  inputElement.disabled = true;\n",
              "\n",
              "  if (!files) {\n",
              "    return {\n",
              "      response: {\n",
              "        action: 'complete',\n",
              "      }\n",
              "    };\n",
              "  }\n",
              "\n",
              "  for (const file of files) {\n",
              "    const li = document.createElement('li');\n",
              "    li.append(span(file.name, {fontWeight: 'bold'}));\n",
              "    li.append(span(\n",
              "        `(${file.type || 'n/a'}) - ${file.size} bytes, ` +\n",
              "        `last modified: ${\n",
              "            file.lastModifiedDate ? file.lastModifiedDate.toLocaleDateString() :\n",
              "                                    'n/a'} - `));\n",
              "    const percent = span('0% done');\n",
              "    li.appendChild(percent);\n",
              "\n",
              "    outputElement.appendChild(li);\n",
              "\n",
              "    const fileDataPromise = new Promise((resolve) => {\n",
              "      const reader = new FileReader();\n",
              "      reader.onload = (e) => {\n",
              "        resolve(e.target.result);\n",
              "      };\n",
              "      reader.readAsArrayBuffer(file);\n",
              "    });\n",
              "    // Wait for the data to be ready.\n",
              "    let fileData = yield {\n",
              "      promise: fileDataPromise,\n",
              "      response: {\n",
              "        action: 'continue',\n",
              "      }\n",
              "    };\n",
              "\n",
              "    // Use a chunked sending to avoid message size limits. See b/62115660.\n",
              "    let position = 0;\n",
              "    do {\n",
              "      const length = Math.min(fileData.byteLength - position, MAX_PAYLOAD_SIZE);\n",
              "      const chunk = new Uint8Array(fileData, position, length);\n",
              "      position += length;\n",
              "\n",
              "      const base64 = btoa(String.fromCharCode.apply(null, chunk));\n",
              "      yield {\n",
              "        response: {\n",
              "          action: 'append',\n",
              "          file: file.name,\n",
              "          data: base64,\n",
              "        },\n",
              "      };\n",
              "\n",
              "      let percentDone = fileData.byteLength === 0 ?\n",
              "          100 :\n",
              "          Math.round((position / fileData.byteLength) * 100);\n",
              "      percent.textContent = `${percentDone}% done`;\n",
              "\n",
              "    } while (position < fileData.byteLength);\n",
              "  }\n",
              "\n",
              "  // All done.\n",
              "  yield {\n",
              "    response: {\n",
              "      action: 'complete',\n",
              "    }\n",
              "  };\n",
              "}\n",
              "\n",
              "scope.google = scope.google || {};\n",
              "scope.google.colab = scope.google.colab || {};\n",
              "scope.google.colab._files = {\n",
              "  _uploadFiles,\n",
              "  _uploadFilesContinue,\n",
              "};\n",
              "})(self);\n",
              "</script> "
            ]
          },
          "metadata": {}
        },
        {
          "output_type": "stream",
          "name": "stdout",
          "text": [
            "Saving data.csv to data.csv\n"
          ]
        }
      ]
    },
    {
      "cell_type": "markdown",
      "source": [
        "### **Question A:** The model\n",
        "\n",
        "1. Implement a function that computes the prior probabilities for each class.\n",
        "2. Compute the posterior probabilities for each sample.\n",
        "   1. Implement a function that takes as input one sample (one point in the 2-dimensional space), a mean and a covariance matrix and returns the likelihood of that point belonging to the class whose distribution is described by the given mean and covariance matrix.\n",
        "   2. Implement a function that computes the posterior probabilities for each sample.\n",
        "3. Save and print the predicted class for each sample, according to the posterior probabilities. What’s the accuracy of your classifier?\n",
        "\n",
        "---"
      ],
      "metadata": {
        "id": "jIviAdDYd5Qs"
      }
    },
    {
      "cell_type": "markdown",
      "source": [
        "#### **Solution**\n",
        "\n",
        "We use the given and pre-computed means vector and variance-covariance matrix, although even if not given, computation is straightforward using Maximum Likelihood estimators.\n"
      ],
      "metadata": {
        "id": "s_WX1hbnUgoc"
      }
    },
    {
      "cell_type": "code",
      "source": [
        "number_of_classes = df[\"labels\"].unique() #3\n",
        "\n",
        "#means for each class for alcohol, color_intensity (given & pre-computed)\n",
        "means = np.array([\n",
        "    [13.744746, 5.528305], \n",
        "    [12.278732, 3.086620], \n",
        "    [13.15375, 7.39625]\n",
        "])\n",
        "\n",
        "#variance-covariance matrix for each class for alcohol, color_intensity (given & pre-computed)\n",
        "covs = np.array([\n",
        "    [\n",
        "        [0.213560, 0.233696], \n",
        "        [0.233696, 1.534063]\n",
        "    ],\n",
        "    [\n",
        "        [0.289406, 0.134241], \n",
        "        [0.134241, 0.855494]\n",
        "    ],\n",
        "    [\n",
        "        [0.281156, 0.429338], \n",
        "        [0.429338, 5.340454]\n",
        "    ]\n",
        "])"
      ],
      "metadata": {
        "id": "QU2LOOzciUDS"
      },
      "execution_count": null,
      "outputs": []
    },
    {
      "cell_type": "markdown",
      "source": [
        "As a helper function (instead of using scipy) the *multivariate_normal* function computes the multivariate normal pdf of an n-dimensional random vector $\\displaystyle X \\sim \\mathcal{N}(\\boldsymbol{\\mu}, \\Sigma)$ with $$\\begin{split}\n",
        "f(\\boldsymbol{x};\\boldsymbol{\\mu}, \\Sigma_k) = \\frac{1}{(2\\pi)^{(n/2)} |\\Sigma|^{1/2}} \\exp \\left\\{- \\frac{1}{2} \\left(\\boldsymbol{x}-\\boldsymbol{\\mu} \\right)^{'} \\Sigma^{-1} \\left(\\boldsymbol{x}-\\boldsymbol{\\mu} \\right)  \\right\\}\n",
        "\\end{split}$$"
      ],
      "metadata": {
        "id": "AYbUlQW1r4lF"
      }
    },
    {
      "cell_type": "code",
      "source": [
        "def multivariate_normal(x, mean, cov):\n",
        "    n = len(x)\n",
        "    inv = np.linalg.inv(cov)\n",
        "    det = np.linalg.det(cov)\n",
        "       \n",
        "    val = 1/ (math.pow((2*math.pi), float(n)/2) * math.pow(det, 1/2)) * math.exp(-0.5 * (x-mean).T.dot(inv).dot((x-mean)))\n",
        "    return val"
      ],
      "metadata": {
        "id": "00Z3MPSBr5Ap"
      },
      "execution_count": null,
      "outputs": []
    },
    {
      "cell_type": "markdown",
      "source": [
        "For the classses $\\omega_j, ~j=1,2,3$, the class priors are computing from the sample using Maximum LIkelihood Estimation which results in $\\displaystyle p(\\omega_j) = \\frac{N(\\omega_j)}{N}$, where $N(\\omega_j)$ is the frequency of the $\\omega_j$ class in our sample, divided by the total number of samples.\n"
      ],
      "metadata": {
        "id": "2EtfdVkwtj2U"
      }
    },
    {
      "cell_type": "code",
      "source": [
        "def class_priors(df):\n",
        "    #returns the prior aprobabilities for each class, P(\\omega_j)\n",
        "\n",
        "    total_samples = df.shape[0]\n",
        "    class_counts = df[\"labels\"].value_counts()\n",
        "\n",
        "    priors = np.array([i/total_samples for i in class_counts])\n",
        "\n",
        "    return priors\n",
        "\n",
        "print(class_priors(df))"
      ],
      "metadata": {
        "id": "nIR3jnlrjLif",
        "colab": {
          "base_uri": "https://localhost:8080/"
        },
        "outputId": "8e47af40-10cf-4234-c2cf-54c57c33a11e"
      },
      "execution_count": null,
      "outputs": [
        {
          "output_type": "stream",
          "name": "stdout",
          "text": [
            "[0.33333333 0.33333333 0.33333333]\n"
          ]
        }
      ]
    },
    {
      "cell_type": "markdown",
      "source": [
        "Regarding the likelihood $p(\\boldsymbol{x} | \\omega_j), ~j=1,2,3$, computation is straightforward using the *find_likelihood* function, given the mean vector and variance-covariance matrix of each class, assuming they are normally distributed:"
      ],
      "metadata": {
        "id": "gcuYTooX3cDF"
      }
    },
    {
      "cell_type": "code",
      "source": [
        "def find_likelihood(x, mean, cov):\n",
        "    #returns the likelihood a sample of features x belongs to the given class with multivariate normal distribution given a mean vector and \n",
        "    #a covariance matrix\n",
        "\n",
        "    det = np.linalg.det(cov)\n",
        "    inverse = np.linalg.inv(cov)\n",
        "    mean = np.array(mean)\n",
        "    \n",
        "    #return scipy.stats.multivariate_normal.pdf(x, mean, cov)\n",
        "    return multivariate_normal(x, mean, cov)\n",
        "\n",
        "#example: likelihood for two random feature vectors, the first around the region of the first class, and the second around the third class\n",
        "print(\"Likelihood of feature vector (11,13.58) to belong to class 1: \", find_likelihood([12.32,3.41], means[0], covs[0]), \"\\n\")\n",
        "print(\"Likelihood of feature vector (15,11) to belong to class 1: \", find_likelihood([16.91,11.67], means[0], covs[0]))"
      ],
      "metadata": {
        "colab": {
          "base_uri": "https://localhost:8080/"
        },
        "id": "JWhaaqOf3f8K",
        "outputId": "bffd9e65-c659-4eba-c965-55190cf6d65d"
      },
      "execution_count": null,
      "outputs": [
        {
          "output_type": "stream",
          "name": "stdout",
          "text": [
            "Likelihood of feature vector (11,13.58) to belong to class 1:  0.00232604069278424 \n",
            "\n",
            "Likelihood of feature vector (15,11) to belong to class 1:  1.1977910764918446e-12\n"
          ]
        }
      ]
    },
    {
      "cell_type": "markdown",
      "source": [
        "By definition, likelihood is quite misleading. Note that these likelihoods are very close to zero. If we want to be mathematically strict, for continuous variables one computes probabilities at intervals and not at a point, so such numerical values have no value on their own. In a more general sense, without going into details, our above evaluation around a point $p \\in \\mathbb{R}^2$ is the probability to find the point around a small enough interval.\n",
        "\n",
        "Given a class $\\omega_j$ and a feature vector $\\boldsymbol{x}$, we can now compute the posterior probabilities using Bayes' formula $\\displaystyle p(\\omega_j | \\boldsymbol{x}) = \\frac{p(\\omega_j,x)}{p(\\boldsymbol{x})} = \\frac{p(\\boldsymbol{x}|\\omega_j)p(\\omega_j)}{p(\\boldsymbol{x})}$, where the predicted prior probability $p(\\boldsymbol{x})$ is $\\displaystyle p(\\boldsymbol{x}) = \\sum_{j=1}^{3} p(\\boldsymbol{x}|\\omega_j)p(\\omega_j)$."
      ],
      "metadata": {
        "id": "H6QP1GhxwAmv"
      }
    },
    {
      "cell_type": "code",
      "source": [
        "def find_posterior(df, means, covs): \n",
        "    #returns the posterior probability for each class for each sample\n",
        "    #given the mean vectors and variance-covariance matrices of the classes\n",
        "\n",
        "    priors = np.array([1/3, 1/3, 1/3])\n",
        "    \n",
        "    #likelihood array for every class\n",
        "    likelihoods = np.array([find_likelihood([df[\"alcohol\"][k], df[\"color_intensity\"][k]], means[l], covs[l])\n",
        "                             for k in range(df.shape[0]) for l in range(3)]).reshape(df.shape[0], 3)\n",
        "                             \n",
        "    #sum of the three conditional probabilities of each sample given the class\n",
        "    predicted_prior = np.sum(likelihoods)*priors\n",
        "\n",
        "    return likelihoods * priors / (predicted_prior) #rows are samples, columns are classes\n",
        "\n",
        "posteriors = find_posterior(df, means, covs)\n",
        "\n",
        "print(\"Posteriors: \\n\", posteriors[:10])"
      ],
      "metadata": {
        "id": "qTU6YNtiwCES",
        "colab": {
          "base_uri": "https://localhost:8080/"
        },
        "outputId": "eef08cf7-1f64-42ad-b141-5570f11e2ae4"
      },
      "execution_count": null,
      "outputs": [
        {
          "output_type": "stream",
          "name": "stdout",
          "text": [
            "Posteriors: \n",
            " [[7.12299920e-04 2.87524596e-11 1.26963808e-03]\n",
            " [9.20833366e-03 9.00644668e-07 3.30683009e-04]\n",
            " [1.02110673e-02 5.19335957e-06 3.20835224e-04]\n",
            " [6.19178216e-03 6.00165611e-04 6.04744215e-04]\n",
            " [4.90241028e-03 3.86964575e-06 1.00450167e-04]\n",
            " [5.95692730e-03 1.48827429e-03 5.06310914e-03]\n",
            " [3.51142491e-04 1.92213254e-11 2.85047031e-03]\n",
            " [1.36110972e-02 2.76880145e-05 4.40739495e-03]\n",
            " [1.06861221e-02 1.83048464e-03 3.23741175e-03]\n",
            " [3.53038257e-03 7.32195487e-03 2.03306403e-03]]\n"
          ]
        }
      ]
    },
    {
      "cell_type": "markdown",
      "source": [
        "To predict the class of each sample, using the vector of feautures $\\boldsymbol{x}$ according to the posterior probabilities, we simply select the class with the highest posterior, that is, for a sample $s$ with feauture vector $\\boldsymbol{x}:$\n",
        "\n",
        "$$\\omega_{\\boldsymbol{x}} = \\text{argmax}_{i} \\left\\{p(\\omega_i | \\boldsymbol{x}), ~i=1,2,3 \\right\\}$$"
      ],
      "metadata": {
        "id": "ib0IVkbEwEPF"
      }
    },
    {
      "cell_type": "code",
      "source": [
        "predicted_classes = np.argmax(find_posterior(df, means, covs), axis=1)\n",
        "\n",
        "print(\"Predicted Classes: \\n\", predicted_classes)\n",
        "\n",
        "accuracy = np.sum(predicted_classes == df[\"labels\"])/df.shape[0]\n",
        "print(\"Accuracy: \", accuracy)"
      ],
      "metadata": {
        "id": "k-yRup6OwJAT",
        "colab": {
          "base_uri": "https://localhost:8080/"
        },
        "outputId": "1fb66f65-a7ca-4a00-e750-9bbfaf96fcc3"
      },
      "execution_count": null,
      "outputs": [
        {
          "output_type": "stream",
          "name": "stdout",
          "text": [
            "Predicted Classes: \n",
            " [2 0 0 0 0 0 2 0 0 1 0 0 0 2 0 0 0 0 0 0 0 1 0 0 0 0 0 0 0 0 1 1 1 1 1 1 0\n",
            " 1 1 1 1 1 1 1 1 1 1 1 1 1 1 1 1 1 1 1 1 1 1 2 2 2 2 2 0 2 2 2 2 0 2 2 2 2\n",
            " 2 0 2 2 0 2 2 2 0 2 2 2 1 2 0 2]\n",
            "Accuracy:  0.8444444444444444\n"
          ]
        }
      ]
    },
    {
      "cell_type": "markdown",
      "source": [
        "### **Question B:** Conditional Risk\n",
        "1. Compute the conditional risk for every sample.\n",
        "2. Save and print the predicted class for each sample, in order to minimize the conditional risk. What’s the accuracy now? What do you notice and why do you think this is the case?"
      ],
      "metadata": {
        "id": "MJ8hGmiZyEtj"
      }
    },
    {
      "cell_type": "markdown",
      "source": [
        "#### **Solution**"
      ],
      "metadata": {
        "id": "mLBgyGUhVT_2"
      }
    },
    {
      "cell_type": "code",
      "source": [
        "#negation of Kronecher's delta, \\delta(x,y) = 1 for x=y, 0 elsewhere \n",
        "'''\n",
        "def neg_kronechers_delta(x,y):\n",
        "    if x ==y :\n",
        "        return 0 \n",
        "    else:\n",
        "        return 1\n",
        "'''\n",
        "#price of each wine class\n",
        "price_0, price_1, price_2 = 10, 12, 14\n",
        "\n",
        "#loss matrix for each action and true class\n",
        "loss_matrix = np.array([\n",
        "    [0, price_1/price_0, price_2/price_0],\n",
        "    [price_0/price_1, 0, price_2/price_1],\n",
        "    [price_0/price_2, price_1/price_2, 0]\n",
        "    ])"
      ],
      "metadata": {
        "id": "O3XpL-09yF2X"
      },
      "execution_count": null,
      "outputs": []
    },
    {
      "cell_type": "markdown",
      "source": [
        "Suppose we observe $\\mathbf{x}$ and take action $a_i$. If the true state of nature is $w_j$, we incur the loss $\\lambda (a_i | w_j)$. The expected loss with taking action $a_i$ is \n",
        "\n",
        "$$\\displaystyle R(a_i|\\mathbf{x}) = \\sum_{j=1}^{n} \\lambda(a_i|\\omega_j)P(\\omega_j | \\mathbf{x})$$\n",
        "\n",
        "where $\\lambda$ is the loss function.\n",
        "\n",
        "We define our loss function as the relative profit loss, using the respective selling prices of the three wine classes. More precisely, $\\lambda(\\alpha_i | \\omega_j) = \\frac{\\text{price}_i}{\\text{price}_j}, ~\\forall i\\neq j, ~\\lambda(\\alpha_i, \\omega_j) = 0$ otherwise. This results in the loss matrix \n",
        "\n",
        " $$\\begin{pmatrix} 0 & 12/10 & 14/10\\\\ 10/12 & 0 & 14/12 \\\\ 10/14 & 12/14 & 0 \\end{pmatrix}$$ "
      ],
      "metadata": {
        "id": "8uXb7IZdyGvi"
      }
    },
    {
      "cell_type": "code",
      "source": [
        "def conditional_risk(df, means, covs):\n",
        "    #returns the conditional risks for each class given the sample\n",
        "\n",
        "    number_of_classes = df[\"labels\"].unique()\n",
        "\n",
        "    #one-two loss function defined using Kronecher's delta\n",
        "    #loss = np.array([comp_kronechers_delta(i, j) for i in range(3) for j in range(3)]).reshape(3, 3)\n",
        "    loss = np.array([loss_matrix[i][j] for i in range(3) for j in range(3)]).reshape(3, 3)\n",
        "\n",
        "    print(\"loss matrix: \", loss)\n",
        "\n",
        "    #compute the posterior probability for each class for each sample\n",
        "    posterior = find_posterior(df, means, covs)\n",
        "    \n",
        "    print(\"Posterior probabilities: \\n\", posterior[:10])\n",
        "\n",
        "    #FIXME: Conditional risk using loss_matrix instead of zero-one loss function\n",
        "    #conditional_risk = np.array([np.sum(posterior[i]*loss[kronechers_delta(df[\"labels\"][i], j)]) for i in range(df.shape[0]) for j in range(3)]).reshape(df.shape[0], 3)\n",
        "    #DONE\n",
        "    conditional_risk = np.array([np.sum(posterior[i]*loss[:,j]) for i in range(df.shape[0]) for j in range(3)]).reshape(df.shape[0], 3)\n",
        "\n",
        "    return conditional_risk\n",
        "\n",
        "print(\"Conditional risks for each class: \\n\", conditional_risk(df, means, covs)[:10])"
      ],
      "metadata": {
        "id": "ODP7Drk6yLQG",
        "colab": {
          "base_uri": "https://localhost:8080/"
        },
        "outputId": "ea6ec05e-430d-4fee-c240-90a526afb166"
      },
      "execution_count": null,
      "outputs": [
        {
          "output_type": "stream",
          "name": "stdout",
          "text": [
            "loss matrix:  [[0.         1.2        1.4       ]\n",
            " [0.83333333 0.         1.16666667]\n",
            " [0.71428571 0.85714286 0.        ]]\n",
            "Posterior probabilities: \n",
            " [[7.12299920e-04 2.87524596e-11 1.26963808e-03]\n",
            " [9.20833366e-03 9.00644668e-07 3.30683009e-04]\n",
            " [1.02110673e-02 5.19335957e-06 3.20835224e-04]\n",
            " [6.19178216e-03 6.00165611e-04 6.04744215e-04]\n",
            " [4.90241028e-03 3.86964575e-06 1.00450167e-04]\n",
            " [5.95692730e-03 1.48827429e-03 5.06310914e-03]\n",
            " [3.51142491e-04 1.92213254e-11 2.85047031e-03]\n",
            " [1.36110972e-02 2.76880145e-05 4.40739495e-03]\n",
            " [1.06861221e-02 1.83048464e-03 3.23741175e-03]\n",
            " [3.53038257e-03 7.32195487e-03 2.03306403e-03]]\n",
            "Conditional risks for each class: \n",
            " [[9.06884368e-04 1.94302112e-03 9.97219921e-04]\n",
            " [2.36952687e-04 1.13334430e-02 1.28927179e-02]\n",
            " [2.33495817e-04 1.25282824e-02 1.43015532e-02]\n",
            " [9.32098162e-04 7.94849077e-03 9.36868823e-03]\n",
            " [7.49748244e-05 5.96899248e-03 6.86788898e-03]\n",
            " [4.85673510e-03 1.14881206e-02 1.00760182e-02]\n",
            " [2.03605024e-03 2.86463126e-03 4.91599510e-04]\n",
            " [3.17121260e-03 2.01110838e-02 1.90878388e-02]\n",
            " [3.83784083e-03 1.55982708e-02 1.70961363e-02]\n",
            " [7.55381765e-03 5.97908539e-03 1.34848163e-02]]\n"
          ]
        }
      ]
    },
    {
      "cell_type": "markdown",
      "source": [
        "To predict the optimal class using the conditional risk defined above, one simply selects the action (class) with the minimum conditional risk, that is, for an observed feature $\\boldsymbol{x}$:\n",
        "\n",
        " $$\\displaystyle \\omega_{\\boldsymbol{x}} = \\text{argmin}_i  \\left\\{ R(a_i|\\mathbf{x}) / ~i=1,2,3 \\right\\} = \\left\\{ \\sum_{j=1}^{n} \\lambda(a_i|\\omega_j)P(\\omega_j | \\mathbf{x}) ~/ i=1,2,3 \\right\\}$$"
      ],
      "metadata": {
        "id": "ScfXuOUTyME-"
      }
    },
    {
      "cell_type": "code",
      "source": [
        "#select the class with the minimum conditional risk for each sample\n",
        "risk_predicted_classes = np.argmin(conditional_risk(df, means, covs), axis=1)\n",
        "\n",
        "print(\"Predicted classes using the conditional risk: \\n\", risk_predicted_classes)\n",
        "\n",
        "risk_accuracy = np.sum(risk_predicted_classes == df[\"labels\"])/df.shape[0]\n",
        "print(\"Accuracy using the conditional risk: \", risk_accuracy)\n"
      ],
      "metadata": {
        "id": "KgcnVCmUyOIp",
        "colab": {
          "base_uri": "https://localhost:8080/"
        },
        "outputId": "57d686be-496b-4cb4-b294-15e3fcfd37b5"
      },
      "execution_count": null,
      "outputs": [
        {
          "output_type": "stream",
          "name": "stdout",
          "text": [
            "loss matrix:  [[0.         1.2        1.4       ]\n",
            " [0.83333333 0.         1.16666667]\n",
            " [0.71428571 0.85714286 0.        ]]\n",
            "Posterior probabilities: \n",
            " [[7.12299920e-04 2.87524596e-11 1.26963808e-03]\n",
            " [9.20833366e-03 9.00644668e-07 3.30683009e-04]\n",
            " [1.02110673e-02 5.19335957e-06 3.20835224e-04]\n",
            " [6.19178216e-03 6.00165611e-04 6.04744215e-04]\n",
            " [4.90241028e-03 3.86964575e-06 1.00450167e-04]\n",
            " [5.95692730e-03 1.48827429e-03 5.06310914e-03]\n",
            " [3.51142491e-04 1.92213254e-11 2.85047031e-03]\n",
            " [1.36110972e-02 2.76880145e-05 4.40739495e-03]\n",
            " [1.06861221e-02 1.83048464e-03 3.23741175e-03]\n",
            " [3.53038257e-03 7.32195487e-03 2.03306403e-03]]\n",
            "Predicted classes using the conditional risk: \n",
            " [0 0 0 0 0 0 2 0 0 1 0 0 0 2 0 0 0 0 0 0 0 1 0 0 0 0 0 0 0 0 1 1 1 1 1 1 0\n",
            " 1 1 1 1 1 1 1 1 1 1 1 1 1 1 1 1 1 1 1 1 1 1 2 2 2 2 2 0 0 2 2 2 0 2 2 2 2\n",
            " 2 0 2 2 0 2 2 2 0 2 2 2 1 2 0 0]\n",
            "Accuracy using the conditional risk:  0.8333333333333334\n"
          ]
        }
      ]
    },
    {
      "cell_type": "markdown",
      "source": [
        "Note that the accuracy using the conditional risk is a bit lower than the one we used before by taking the maximum class of each posterior. This is directly dependent on the choice of the loss function and is highly subjective based on the expect's knowledge. Here the loss function is selected by relation to our profit, since what we are looking for is to maximize our own profit and not the emotional \"profit\" of our customers by offering them a more expensive wine at a lower price.\n",
        "\n",
        "For example if we have chosen the *zero-one loss function* $\\lambda(\\alpha_i | \\omega_j) = 0$ for $i=j$ and $\\lambda(\\alpha_i | \\omega_j) = 1$ otherwise, we would have obtained a different score due to our subjective change of loss."
      ],
      "metadata": {
        "id": "H0PjBOXw7bmW"
      }
    },
    {
      "cell_type": "markdown",
      "source": [
        "### **Question C**: Plot Results\n",
        "\n",
        "1. Create a scatter plot that also shows the distribution of each class and the decision boundaries of your\n",
        "classifier."
      ],
      "metadata": {
        "id": "Vt7r8ubYVdE2"
      }
    },
    {
      "cell_type": "markdown",
      "source": [
        "#### **Solution**\n",
        "\n",
        "The theoretical implementation would be to consider the general multivariate case (Chapter 2.6.3) and algebrically obtain the decision surfaces (and then the boundaries) by solving \n",
        "\n",
        "$$g_0(x) = g_1(x), ~g_0(x) = g_2(x), ~g_1(x) = g_2(x)$$\n",
        "\n",
        "(a total of $\\binom{3}{2} = 3$ decision surfaces)\n",
        "\n",
        "with the inherently quadratic discriminant functions\n",
        "\n",
        "$g_i (\\boldsymbol{x}) = \\boldsymbol{x}^{'} \\boldsymbol{W}_i \\boldsymbol{x} + \\boldsymbol{w}^{'}_{i} \\boldsymbol{x} + \\boldsymbol{w}_{i0}$\n",
        "\n",
        "where $\\boldsymbol{W}_i = -\\frac{1}{2} \\boldsymbol{\\Sigma}^{-1}$, $\\boldsymbol{w}_i = \\boldsymbol{\\Sigma}^{-1}_{i} \\boldsymbol{\\mu}_i $  and $w_{i0} = -\\frac{1}{2} \\boldsymbol{\\mu}^{'}_{i} \\boldsymbol{\\Sigma}^{-1}_{i} - \\frac{1}{2} \\ln | \\boldsymbol{\\Sigma}_i | + \\ln p(\\omega_i)$.\n",
        "\n",
        "For computational purposes, we create a meshgrid by 50 generated feature samples and then plot the decision boundaries based on the predicted class of each generated sample."
      ],
      "metadata": {
        "id": "U02hoBdrxtur"
      }
    },
    {
      "cell_type": "code",
      "source": [
        "plt.scatter(x=df[\"alcohol\"], y=df[\"color_intensity\"], c=df[\"labels\"])\n",
        "plt.xlabel(\"Alcohol\")\n",
        "plt.ylabel(\"Color intensity\")\n",
        "plt.title(\"Label of wine\")\n",
        "\n",
        "# Set the space on which the discrimination functions will be plotted\n",
        "xlim = (11, 15.5)\n",
        "ylim = (2, 12)\n",
        "sample_rate = 50 \n",
        "\n",
        "# Define the space\n",
        "xg = np.linspace(xlim[0], xlim[1], sample_rate)\n",
        "yg = np.linspace(ylim[0], ylim[1], sample_rate)\n",
        "\n",
        "xx, yy = np.meshgrid(xg, yg)\n",
        "Xgrid = np.vstack([xx.ravel(), yy.ravel()]).T\n",
        "\n",
        "#print(Xgrid.shape)\n",
        "#print(Xgrid)\n",
        "\n",
        "plt.plot(Xgrid[:,0], Xgrid[:,1], 'o', color='black', markersize=1)\n",
        "\n",
        "Xgrid_df = pd.DataFrame(Xgrid, columns=[\"alcohol\", \"color_intensity\"])\n",
        "\n",
        "print(Xgrid_df.head)\n",
        "\n",
        "#compute the posterior probability for each class for each sample\n",
        "posterior = find_posterior(Xgrid_df, means, covs)\n",
        "\n",
        "print(posterior)"
      ],
      "metadata": {
        "id": "izmXPdybxwTw",
        "colab": {
          "base_uri": "https://localhost:8080/",
          "height": 660
        },
        "outputId": "fb3eff21-a77c-45c4-ab32-8d082e2fd116"
      },
      "execution_count": null,
      "outputs": [
        {
          "output_type": "stream",
          "name": "stdout",
          "text": [
            "<bound method NDFrame.head of         alcohol  color_intensity\n",
            "0     11.000000              2.0\n",
            "1     11.091837              2.0\n",
            "2     11.183673              2.0\n",
            "3     11.275510              2.0\n",
            "4     11.367347              2.0\n",
            "...         ...              ...\n",
            "2495  15.132653             12.0\n",
            "2496  15.224490             12.0\n",
            "2497  15.316327             12.0\n",
            "2498  15.408163             12.0\n",
            "2499  15.500000             12.0\n",
            "\n",
            "[2500 rows x 2 columns]>\n",
            "[[3.91271851e-11 1.10536586e-04 1.47656527e-07]\n",
            " [1.19364752e-10 1.59000638e-04 2.75395416e-07]\n",
            " [3.47289108e-10 2.21636756e-04 4.96374923e-07]\n",
            " ...\n",
            " [8.96024393e-10 9.93766738e-26 1.85000497e-07]\n",
            " [6.46788942e-10 5.58290498e-26 9.33013038e-08]\n",
            " [4.45269460e-10 3.03938779e-26 4.54727898e-08]]\n"
          ]
        },
        {
          "output_type": "display_data",
          "data": {
            "text/plain": [
              "<Figure size 432x288 with 1 Axes>"
            ],
            "image/png": "[encoded data removed]"
          },
          "metadata": {
            "needs_background": "light"
          }
        }
      ]
    },
    {
      "cell_type": "code",
      "source": [
        "#predict the class for each point in the grid \n",
        "predicted = np.argmax(posterior, axis=1)\n",
        "\n",
        "#print(\"First 50 predicted classes: \", predicted[:50])\n",
        "\n",
        "colors = ['red', 'green', 'blue']\n",
        "\n",
        "plt.scatter(x=df[\"alcohol\"], y=df[\"color_intensity\"], c=df[\"labels\"])\n",
        "plt.contour(xx, yy, predicted.reshape(xx.shape), colors=colors, alpha=0.13)\n",
        "\n",
        "plt.xlabel(\"Alcohol\")\n",
        "plt.ylabel(\"Color intensity\")\n",
        "\n",
        "plt.title(\"Decision Boundary for the three labels of wine\")\n",
        "plt.show()"
      ],
      "metadata": {
        "id": "9iCPBVvXx0QI",
        "colab": {
          "base_uri": "https://localhost:8080/",
          "height": 295
        },
        "outputId": "5fdddb98-c685-47e8-92ba-e17397baed53"
      },
      "execution_count": null,
      "outputs": [
        {
          "output_type": "display_data",
          "data": {
            "text/plain": [
              "<Figure size 432x288 with 1 Axes>"
            ],
            "image/png": "[encoded data removed]"
          },
          "metadata": {
            "needs_background": "light"
          }
        }
      ]
    }
  ]
}