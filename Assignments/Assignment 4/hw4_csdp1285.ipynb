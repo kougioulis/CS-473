{
  "nbformat": 4,
  "nbformat_minor": 0,
  "metadata": {
    "colab": {
      "provenance": []
    },
    "kernelspec": {
      "name": "python3",
      "display_name": "Python 3"
    },
    "language_info": {
      "name": "python"
    }
  },
  "cells": [
    {
      "cell_type": "markdown",
      "source": [
        "# **CS-473 (Pattern Recognition)**\n",
        "\n",
        "## Assignment 4\n",
        "\n",
        "##### Nikolaos Kougioulis (csdp1285)\n",
        "\n",
        "---\n",
        "\n",
        "\n",
        "### **Question 1** \n",
        "\n",
        "The scope of this exercise is to get you familiar with training a linear classifier with Gradient Descent.\n",
        "\n",
        "**Data:** For this exercise, you will use the dataset in the dataset.csv file that consists of 1000 2-dimensional data samples and their labels.\n",
        "\n",
        "**Equation:**\n",
        "$$\\text{learning_rate}_i = \\frac{1}{\\sqrt{k_i}}$$\n",
        "\n",
        "where $k_i = k_{i-1} + (i \\mod n), ~k_0 = 0, i \\geq 1, i = \\text{iteration index}, n = \\text{number of samples.}$"
      ],
      "metadata": {
        "id": "49nJZ5_EmIXo"
      }
    },
    {
      "cell_type": "code",
      "source": [
        "!python --version"
      ],
      "metadata": {
        "colab": {
          "base_uri": "https://localhost:8080/"
        },
        "id": "3VANP4u2mLgg",
        "outputId": "f8ee2a74-6dc5-4a98-94e9-37114cf067ec"
      },
      "execution_count": null,
      "outputs": [
        {
          "output_type": "stream",
          "name": "stdout",
          "text": [
            "Python 3.10.11\n"
          ]
        }
      ]
    },
    {
      "cell_type": "code",
      "execution_count": null,
      "metadata": {
        "id": "4lk9x2yyMl2X"
      },
      "outputs": [],
      "source": [
        "import math \n",
        "import numpy as np\n",
        "import pandas as pd\n",
        "\n",
        "import matplotlib.pyplot as plt\n",
        "\n",
        "from tqdm import tqdm\n",
        "import random "
      ]
    },
    {
      "cell_type": "code",
      "source": [
        "from google.colab import files\n",
        "uploaded = files.upload()"
      ],
      "metadata": {
        "colab": {
          "base_uri": "https://localhost:8080/",
          "height": 75
        },
        "id": "j2m6MUHYMvnB",
        "outputId": "d6768ca5-2adc-4cb1-fb70-73598609f1fe"
      },
      "execution_count": null,
      "outputs": [
        {
          "output_type": "display_data",
          "data": {
            "text/plain": [
              "<IPython.core.display.HTML object>"
            ],
            "text/html": [
              "\n",
              "     <input type=\"file\" id=\"files-01b61d0d-db17-418e-b5a7-0afc104f2ffe\" name=\"files[]\" multiple disabled\n",
              "        style=\"border:none\" />\n",
              "     <output id=\"result-01b61d0d-db17-418e-b5a7-0afc104f2ffe\">\n",
              "      Upload widget is only available when the cell has been executed in the\n",
              "      current browser session. Please rerun this cell to enable.\n",
              "      </output>\n",
              "      <script>// Copyright 2017 Google LLC\n",
              "//\n",
              "// Licensed under the Apache License, Version 2.0 (the \"License\");\n",
              "// you may not use this file except in compliance with the License.\n",
              "// You may obtain a copy of the License at\n",
              "//\n",
              "//      http://www.apache.org/licenses/LICENSE-2.0\n",
              "//\n",
              "// Unless required by applicable law or agreed to in writing, software\n",
              "// distributed under the License is distributed on an \"AS IS\" BASIS,\n",
              "// WITHOUT WARRANTIES OR CONDITIONS OF ANY KIND, either express or implied.\n",
              "// See the License for the specific language governing permissions and\n",
              "// limitations under the License.\n",
              "\n",
              "/**\n",
              " * @fileoverview Helpers for google.colab Python module.\n",
              " */\n",
              "(function(scope) {\n",
              "function span(text, styleAttributes = {}) {\n",
              "  const element = document.createElement('span');\n",
              "  element.textContent = text;\n",
              "  for (const key of Object.keys(styleAttributes)) {\n",
              "    element.style[key] = styleAttributes[key];\n",
              "  }\n",
              "  return element;\n",
              "}\n",
              "\n",
              "// Max number of bytes which will be uploaded at a time.\n",
              "const MAX_PAYLOAD_SIZE = 100 * 1024;\n",
              "\n",
              "function _uploadFiles(inputId, outputId) {\n",
              "  const steps = uploadFilesStep(inputId, outputId);\n",
              "  const outputElement = document.getElementById(outputId);\n",
              "  // Cache steps on the outputElement to make it available for the next call\n",
              "  // to uploadFilesContinue from Python.\n",
              "  outputElement.steps = steps;\n",
              "\n",
              "  return _uploadFilesContinue(outputId);\n",
              "}\n",
              "\n",
              "// This is roughly an async generator (not supported in the browser yet),\n",
              "// where there are multiple asynchronous steps and the Python side is going\n",
              "// to poll for completion of each step.\n",
              "// This uses a Promise to block the python side on completion of each step,\n",
              "// then passes the result of the previous step as the input to the next step.\n",
              "function _uploadFilesContinue(outputId) {\n",
              "  const outputElement = document.getElementById(outputId);\n",
              "  const steps = outputElement.steps;\n",
              "\n",
              "  const next = steps.next(outputElement.lastPromiseValue);\n",
              "  return Promise.resolve(next.value.promise).then((value) => {\n",
              "    // Cache the last promise value to make it available to the next\n",
              "    // step of the generator.\n",
              "    outputElement.lastPromiseValue = value;\n",
              "    return next.value.response;\n",
              "  });\n",
              "}\n",
              "\n",
              "/**\n",
              " * Generator function which is called between each async step of the upload\n",
              " * process.\n",
              " * @param {string} inputId Element ID of the input file picker element.\n",
              " * @param {string} outputId Element ID of the output display.\n",
              " * @return {!Iterable<!Object>} Iterable of next steps.\n",
              " */\n",
              "function* uploadFilesStep(inputId, outputId) {\n",
              "  const inputElement = document.getElementById(inputId);\n",
              "  inputElement.disabled = false;\n",
              "\n",
              "  const outputElement = document.getElementById(outputId);\n",
              "  outputElement.innerHTML = '';\n",
              "\n",
              "  const pickedPromise = new Promise((resolve) => {\n",
              "    inputElement.addEventListener('change', (e) => {\n",
              "      resolve(e.target.files);\n",
              "    });\n",
              "  });\n",
              "\n",
              "  const cancel = document.createElement('button');\n",
              "  inputElement.parentElement.appendChild(cancel);\n",
              "  cancel.textContent = 'Cancel upload';\n",
              "  const cancelPromise = new Promise((resolve) => {\n",
              "    cancel.onclick = () => {\n",
              "      resolve(null);\n",
              "    };\n",
              "  });\n",
              "\n",
              "  // Wait for the user to pick the files.\n",
              "  const files = yield {\n",
              "    promise: Promise.race([pickedPromise, cancelPromise]),\n",
              "    response: {\n",
              "      action: 'starting',\n",
              "    }\n",
              "  };\n",
              "\n",
              "  cancel.remove();\n",
              "\n",
              "  // Disable the input element since further picks are not allowed.\n",
              "  inputElement.disabled = true;\n",
              "\n",
              "  if (!files) {\n",
              "    return {\n",
              "      response: {\n",
              "        action: 'complete',\n",
              "      }\n",
              "    };\n",
              "  }\n",
              "\n",
              "  for (const file of files) {\n",
              "    const li = document.createElement('li');\n",
              "    li.append(span(file.name, {fontWeight: 'bold'}));\n",
              "    li.append(span(\n",
              "        `(${file.type || 'n/a'}) - ${file.size} bytes, ` +\n",
              "        `last modified: ${\n",
              "            file.lastModifiedDate ? file.lastModifiedDate.toLocaleDateString() :\n",
              "                                    'n/a'} - `));\n",
              "    const percent = span('0% done');\n",
              "    li.appendChild(percent);\n",
              "\n",
              "    outputElement.appendChild(li);\n",
              "\n",
              "    const fileDataPromise = new Promise((resolve) => {\n",
              "      const reader = new FileReader();\n",
              "      reader.onload = (e) => {\n",
              "        resolve(e.target.result);\n",
              "      };\n",
              "      reader.readAsArrayBuffer(file);\n",
              "    });\n",
              "    // Wait for the data to be ready.\n",
              "    let fileData = yield {\n",
              "      promise: fileDataPromise,\n",
              "      response: {\n",
              "        action: 'continue',\n",
              "      }\n",
              "    };\n",
              "\n",
              "    // Use a chunked sending to avoid message size limits. See b/62115660.\n",
              "    let position = 0;\n",
              "    do {\n",
              "      const length = Math.min(fileData.byteLength - position, MAX_PAYLOAD_SIZE);\n",
              "      const chunk = new Uint8Array(fileData, position, length);\n",
              "      position += length;\n",
              "\n",
              "      const base64 = btoa(String.fromCharCode.apply(null, chunk));\n",
              "      yield {\n",
              "        response: {\n",
              "          action: 'append',\n",
              "          file: file.name,\n",
              "          data: base64,\n",
              "        },\n",
              "      };\n",
              "\n",
              "      let percentDone = fileData.byteLength === 0 ?\n",
              "          100 :\n",
              "          Math.round((position / fileData.byteLength) * 100);\n",
              "      percent.textContent = `${percentDone}% done`;\n",
              "\n",
              "    } while (position < fileData.byteLength);\n",
              "  }\n",
              "\n",
              "  // All done.\n",
              "  yield {\n",
              "    response: {\n",
              "      action: 'complete',\n",
              "    }\n",
              "  };\n",
              "}\n",
              "\n",
              "scope.google = scope.google || {};\n",
              "scope.google.colab = scope.google.colab || {};\n",
              "scope.google.colab._files = {\n",
              "  _uploadFiles,\n",
              "  _uploadFilesContinue,\n",
              "};\n",
              "})(self);\n",
              "</script> "
            ]
          },
          "metadata": {}
        },
        {
          "output_type": "stream",
          "name": "stdout",
          "text": [
            "Saving dataset.csv to dataset (1).csv\n"
          ]
        }
      ]
    },
    {
      "cell_type": "code",
      "source": [
        "df = pd.read_csv(\"dataset.csv\", sep=\",\")\n",
        "df = df.iloc[: , 1:] #remove id collumn\n",
        "print(df.head())"
      ],
      "metadata": {
        "colab": {
          "base_uri": "https://localhost:8080/"
        },
        "id": "l7fcK1v_ZEcE",
        "outputId": "8ec70230-cdf4-493a-a95d-1698c9e20be8"
      },
      "execution_count": null,
      "outputs": [
        {
          "output_type": "stream",
          "name": "stdout",
          "text": [
            "   feature_0  feature_1  labels\n",
            "0   2.185032   2.022557       0\n",
            "1   0.866080   3.897338       0\n",
            "2   2.545462   1.349999       1\n",
            "3   0.846336   2.862082       0\n",
            "4   2.603855   4.222687       0\n"
          ]
        }
      ]
    },
    {
      "cell_type": "markdown",
      "source": [
        "**Questions:**\n",
        "\n",
        "1. Create a scatter plot of the dataset. Is the dataset linearly separable? Justify your answer in 1-2 sentences."
      ],
      "metadata": {
        "id": "TApiZ4qamcSQ"
      }
    },
    {
      "cell_type": "markdown",
      "source": [
        "**Solution**"
      ],
      "metadata": {
        "id": "zTzmRA8D5M3F"
      }
    },
    {
      "cell_type": "code",
      "source": [
        "labels = df[\"labels\"]\n",
        "\n",
        "plt.scatter(df[\"feature_0\"], df[\"feature_1\"], c=labels)\n",
        "plt.xlabel('X')\n",
        "plt.ylabel('Y')\n",
        "plt.title('Scatter Plot')\n",
        "plt.show()"
      ],
      "metadata": {
        "colab": {
          "base_uri": "https://localhost:8080/",
          "height": 472
        },
        "id": "ymgeCL9lM1pG",
        "outputId": "710ad07b-e4aa-4681-a5f3-ebec2dafea98"
      },
      "execution_count": null,
      "outputs": [
        {
          "output_type": "display_data",
          "data": {
            "text/plain": [
              "<Figure size 640x480 with 1 Axes>"
            ],
            "image/png": "[encoded data removed]"
          },
          "metadata": {}
        }
      ]
    },
    {
      "cell_type": "markdown",
      "source": [
        "The provided data are not linearly separable, as there is no distinct hyperplane (in this case since we are dealing with two dimensional features, a line) that clearly separates the two classes. Notice that in the middle of the plot, some points coincide with the cluster of the points in the opposite class, thus making it clear that a linear classifier, eg a perceptron, would not perform adequately. \n",
        "\n",
        "In more detail, given a set of observations $\\left\\{ (\\mathbf{x}_i, y_i \\right\\}_{i=1,2,\\ldots,n}$ where $\\mathbf{x}$ is a vector of features and $y_i \\in \\left\\{-1,1\\right\\}$ the corresponding binary class of the feature vector $\\mathbf{x}_i$, the set is said to be *linearly separable* if there exists a vector of weights $\\mathbf{w}$ and a bias term $b$ such that the corresponding hyperplane perfectly separates the two classes, that is for an observed feature vector $\\mathbf{x}$,\n",
        "\n",
        "$$y = \\text{sign}(\\mathbf{w} \\cdot \\mathbf{x} + b) = \\begin{cases} \\text{class 1}, ~\\text{if} ~\\mathbf{w} \\cdot \\mathbf{x} + b >0 \\\\ \\text{class -1}, ~\\text{if} ~\\mathbf{w} \\cdot \\mathbf{x} + b < 0 \\end{cases}$$"
      ],
      "metadata": {
        "id": "VlnpyZ2dmhQQ"
      }
    },
    {
      "cell_type": "markdown",
      "source": [
        "2. Create a function called *train single sample* that implements the Fixed-Increment Single-Sample Perceptron algorithm. The arguments of the function should be:\n",
        "\n",
        " (a) a := weights + bias (bias trick)\n",
        "\n",
        " (b) y := data + 1s (bias trick)\n",
        "\n",
        " (c) labels\n",
        "\n",
        " (d) n iterations := the number of iterations/updates\n",
        "\n",
        " (e) lr := learning rate\n",
        "\n",
        " (f) variable lr := boolean \n",
        " \n",
        " and the function should return:\n",
        "\n",
        " (a) a := trained model\n",
        "\n",
        " (b) acc history := list of accuracy values\n",
        "\n",
        "The algorithm should be implemented according to the notes. Extra functionalities include computing and printing the model's accuracy every *n_samples* iterations. Also, you should save and return only the best\n",
        "model. **Bonus 2.5%:** Use the tqdm library to print the progress of the model along with the accuracy during training."
      ],
      "metadata": {
        "id": "uni34mg22vi_"
      }
    },
    {
      "cell_type": "markdown",
      "source": [
        "**Solution**\n",
        "\n",
        "The pseudocode for the fixed-increment single-sample perceptron is the following [1]:\n",
        "\n",
        "**Algorithm** fixed-increment single-sample perceptron:\n",
        "\n",
        "---\n",
        "**begin:** initialize $\\mathbf{a}, ~k=0$\n",
        "**do** $k = (k+1)\\text{mod}n$ where $n$, is the number of samples\n",
        "\n",
        "  **if** $\\mathbf{y}_k$ is misclassified by $\\mathbf{a}$ then update $\\mathbf{a}$ by $\\mathbf{a} \\leftarrow a - \\lambda \\mathbf{y}_k$\n",
        "\n",
        "  **until** all patterns are properly classified or after a fixed number of iterations\n",
        "\n",
        "**end**\n",
        "\n",
        "where $\\lambda$ is the learning rate.\n",
        "\n",
        "We utilize the *tqdm* library for monitoring the training progress using a tqdm iterator object and compute the accuracy every *n_samples* iterations and print using *tqdm.write*. The function *train_single_sample is illustrated bellow:"
      ],
      "metadata": {
        "id": "PGEY-Hgl5ScC"
      }
    },
    {
      "cell_type": "code",
      "source": [
        "def train_single_sample(a, y, labels, n_iterations, lr, variable_lr):\n",
        "    acc_history = []\n",
        "    best_accuracy = float(\"-inf\")\n",
        "    best_model = None\n",
        "    \n",
        "    labels = np.where(labels == 0, -1, labels) #change labels to -1,1 for practical reasons\n",
        "    n_samples = len(labels)\n",
        "\n",
        "    for iteration in tqdm(range(n_iterations), desc=\"Single-sample Perceptron Training\"):\n",
        "        correct_predictions = 0\n",
        "        #print(iteration)\n",
        "        k = iteration % n_samples\n",
        "        x = y[k].astype(a.dtype)\n",
        "        label = labels[k]\n",
        "            \n",
        "        if np.sign(np.dot(a, x)) != label:\n",
        "            a = a - lr * x.astype(a.dtype)\n",
        "      \n",
        "        #compute accuracy every n_samples iterations\n",
        "        if (iteration) % n_samples == 0: \n",
        "            accuracy = 0\n",
        "            for j in range(n_samples):\n",
        "                x = y[j].astype(a.dtype)\n",
        "                label = labels[j]\n",
        "                if np.sign(np.dot(a, x)) == label:\n",
        "                    accuracy += 1\n",
        "            accuracy /= n_samples\n",
        "            acc_history.append(accuracy)\n",
        "            tqdm.write(f\"Accuracy: {accuracy:.2f}\")\n",
        "\n",
        "            if accuracy > best_accuracy:\n",
        "                best_accuracy = accuracy\n",
        "                best_model = a \n",
        "\n",
        "    if best_model is None:\n",
        "        best_accuracy = 0\n",
        "        best_model = np.zeros_like(a)\n",
        "    \n",
        "    return best_model, acc_history"
      ],
      "metadata": {
        "id": "s9yga-cJMnws"
      },
      "execution_count": null,
      "outputs": []
    },
    {
      "cell_type": "markdown",
      "source": [
        "3. Create a function called *plot model* that takes as input the trained weights (+ bias), the data, and the labels and returns a scatter plot with the decision boundaries of the model (Hint: Use contourf)"
      ],
      "metadata": {
        "id": "I2DFKcLS8BOc"
      }
    },
    {
      "cell_type": "markdown",
      "source": [
        "**Solution**\n",
        "\n",
        "After generating a meshgrid, we compute the predicted class for each point in the meshgrid and color the decision boundary using contourf. This is illustrated in the *plot_model* function below:"
      ],
      "metadata": {
        "id": "xN2c-m-L8D4K"
      }
    },
    {
      "cell_type": "code",
      "source": [
        "def plot_model(a, y, labels):\n",
        "    x_1 = np.linspace(-10, 10, 100)\n",
        "    x_2 = np.linspace(-10, 10, 100)\n",
        "    xx_1, xx_2 = np.meshgrid(x_1, x_2)\n",
        "    Z = np.zeros((len(x_1), len(x_2)))\n",
        "    for i in range(len(x_1)):\n",
        "        for j in range(len(x_2)):\n",
        "            Z[i, j] = np.dot(a, np.array([x_1[i], x_2[j], 1]))\n",
        "    Z = np.sign(Z)\n",
        "\n",
        "    plt.contourf(xx_1, xx_2, Z, cmap=plt.cm.Paired, alpha=0.8)\n",
        "\n",
        "    plt.scatter(y[:, 0], y[:, 1], c=labels, cmap=plt.cm.Paired)\n",
        "\n",
        "    plt.xlabel('Feature 1')\n",
        "    plt.ylabel('Feature 2')\n",
        "    plt.legend()\n",
        "    plt.show()"
      ],
      "metadata": {
        "id": "j-vNiXIW_y0O"
      },
      "execution_count": null,
      "outputs": []
    },
    {
      "cell_type": "markdown",
      "source": [
        "4. Train a linear model using the functions you have implemented. Use the following hyperparameters: (a) n iterations = 100000 (b) lr = 100000 (c) variable lr = False"
      ],
      "metadata": {
        "id": "Z0bfZV1k8Kll"
      }
    },
    {
      "cell_type": "markdown",
      "source": [
        "**Solution**\n",
        "\n",
        "We add 1s using the bias trick and call the function with the requested hyperparameters:"
      ],
      "metadata": {
        "id": "mC_qxYUi8SB4"
      }
    },
    {
      "cell_type": "code",
      "source": [
        "y = df[['feature_0', 'feature_1']].to_numpy()\n",
        "labels = df['labels'].to_numpy()\n",
        "\n",
        "#print(y.shape)\n",
        "#print(labels.shape)\n",
        "\n",
        "#add 1s (bias trick)\n",
        "#y = np.hstack((y, np.ones((y.shape[0], 1))))\n",
        "bias_trick = np.ones((len(y), 1))\n",
        "y = np.concatenate((y, bias_trick), axis=1)"
      ],
      "metadata": {
        "id": "jjxT-k9h8Too"
      },
      "execution_count": null,
      "outputs": []
    },
    {
      "cell_type": "code",
      "source": [
        "#initial weights and bias (including bias trick)\n",
        "\n",
        "a = np.random.rand(1,3) #random 1x3 np array\n",
        "a[:-1] = 1 #bias trick\n",
        "\n",
        "n_iterations = 10**5\n",
        "lr = 1\n",
        "variable_lr = False \n",
        "\n",
        "best_model, acc_history = train_single_sample(a, y, labels, n_iterations, lr, variable_lr)"
      ],
      "metadata": {
        "colab": {
          "base_uri": "https://localhost:8080/"
        },
        "id": "ua0oYMDI8VQb",
        "outputId": "14251cb1-1d20-4f0c-ffa8-1c4295254f2a"
      },
      "execution_count": null,
      "outputs": [
        {
          "output_type": "stream",
          "name": "stderr",
          "text": [
            "Single Sample Perceptron Training:  12%|█▏        | 12001/100000 [00:00<00:01, 56985.54it/s]"
          ]
        },
        {
          "output_type": "stream",
          "name": "stdout",
          "text": [
            "Accuracy: 0.47\n",
            "Accuracy: 0.50\n",
            "Accuracy: 0.50\n",
            "Accuracy: 0.50\n",
            "Accuracy: 0.50\n",
            "Accuracy: 0.50\n",
            "Accuracy: 0.50\n",
            "Accuracy: 0.50\n",
            "Accuracy: 0.50\n",
            "Accuracy: 0.50\n",
            "Accuracy: 0.50\n",
            "Accuracy: 0.50\n",
            "Accuracy: 0.50\n"
          ]
        },
        {
          "output_type": "stream",
          "name": "stderr",
          "text": [
            "Single Sample Perceptron Training:  18%|█▊        | 17704/100000 [00:00<00:01, 52576.53it/s]"
          ]
        },
        {
          "output_type": "stream",
          "name": "stdout",
          "text": [
            "Accuracy: 0.50\n",
            "Accuracy: 0.50\n",
            "Accuracy: 0.50\n",
            "Accuracy: 0.50\n",
            "Accuracy: 0.50\n",
            "Accuracy: 0.50\n",
            "Accuracy: 0.50\n",
            "Accuracy: 0.50\n",
            "Accuracy: 0.50\n",
            "Accuracy: 0.50\n"
          ]
        },
        {
          "output_type": "stream",
          "name": "stderr",
          "text": [
            "Single Sample Perceptron Training:  33%|███▎      | 33472/100000 [00:00<00:01, 49952.33it/s]"
          ]
        },
        {
          "output_type": "stream",
          "name": "stdout",
          "text": [
            "Accuracy: 0.50\n",
            "Accuracy: 0.50\n",
            "Accuracy: 0.50\n",
            "Accuracy: 0.50\n",
            "Accuracy: 0.50\n",
            "Accuracy: 0.50\n",
            "Accuracy: 0.50\n",
            "Accuracy: 0.50\n",
            "Accuracy: 0.50\n",
            "Accuracy: 0.50\n",
            "Accuracy: 0.50\n"
          ]
        },
        {
          "output_type": "stream",
          "name": "stderr",
          "text": [
            "Single Sample Perceptron Training:  44%|████▍     | 44001/100000 [00:00<00:01, 50983.04it/s]"
          ]
        },
        {
          "output_type": "stream",
          "name": "stdout",
          "text": [
            "Accuracy: 0.50\n",
            "Accuracy: 0.50\n",
            "Accuracy: 0.50\n",
            "Accuracy: 0.50\n",
            "Accuracy: 0.50\n",
            "Accuracy: 0.50\n",
            "Accuracy: 0.50\n",
            "Accuracy: 0.50\n",
            "Accuracy: 0.50\n",
            "Accuracy: 0.50\n",
            "Accuracy: 0.50\n"
          ]
        },
        {
          "output_type": "stream",
          "name": "stderr",
          "text": [
            "Single Sample Perceptron Training:  54%|█████▍    | 54165/100000 [00:01<00:00, 48649.56it/s]"
          ]
        },
        {
          "output_type": "stream",
          "name": "stdout",
          "text": [
            "Accuracy: 0.50\n",
            "Accuracy: 0.50\n",
            "Accuracy: 0.50\n",
            "Accuracy: 0.50\n",
            "Accuracy: 0.50\n",
            "Accuracy: 0.50\n",
            "Accuracy: 0.50\n",
            "Accuracy: 0.50\n",
            "Accuracy: 0.50\n",
            "Accuracy: 0.50\n"
          ]
        },
        {
          "output_type": "stream",
          "name": "stderr",
          "text": [
            "Single Sample Perceptron Training:  64%|██████▍   | 64001/100000 [00:01<00:00, 47077.02it/s]"
          ]
        },
        {
          "output_type": "stream",
          "name": "stdout",
          "text": [
            "Accuracy: 0.50\n",
            "Accuracy: 0.50\n",
            "Accuracy: 0.50\n",
            "Accuracy: 0.50\n",
            "Accuracy: 0.50\n",
            "Accuracy: 0.50\n",
            "Accuracy: 0.50\n",
            "Accuracy: 0.50\n",
            "Accuracy: 0.50\n",
            "Accuracy: 0.50\n"
          ]
        },
        {
          "output_type": "stream",
          "name": "stderr",
          "text": [
            "Single Sample Perceptron Training:  74%|███████▍  | 74001/100000 [00:01<00:00, 47540.39it/s]"
          ]
        },
        {
          "output_type": "stream",
          "name": "stdout",
          "text": [
            "Accuracy: 0.50\n",
            "Accuracy: 0.50\n",
            "Accuracy: 0.50\n",
            "Accuracy: 0.50\n",
            "Accuracy: 0.50\n",
            "Accuracy: 0.50\n",
            "Accuracy: 0.50\n",
            "Accuracy: 0.50\n",
            "Accuracy: 0.50\n",
            "Accuracy: 0.50\n",
            "Accuracy: 0.50\n"
          ]
        },
        {
          "output_type": "stream",
          "name": "stderr",
          "text": []
        },
        {
          "output_type": "stream",
          "name": "stdout",
          "text": [
            "Accuracy: 0.50\n",
            "Accuracy: 0.50\n",
            "Accuracy: 0.50\n",
            "Accuracy: 0.50\n",
            "Accuracy: 0.50\n",
            "Accuracy: 0.50\n",
            "Accuracy: 0.50\n",
            "Accuracy: 0.50\n",
            "Accuracy: 0.50\n"
          ]
        },
        {
          "output_type": "stream",
          "name": "stderr",
          "text": [
            "Single Sample Perceptron Training:  95%|█████████▌| 95001/100000 [00:01<00:00, 49582.47it/s]"
          ]
        },
        {
          "output_type": "stream",
          "name": "stdout",
          "text": [
            "Accuracy: 0.50\n",
            "Accuracy: 0.50\n",
            "Accuracy: 0.50\n",
            "Accuracy: 0.50\n",
            "Accuracy: 0.50\n",
            "Accuracy: 0.50\n",
            "Accuracy: 0.50\n",
            "Accuracy: 0.50\n",
            "Accuracy: 0.50\n",
            "Accuracy: 0.50\n",
            "Accuracy: 0.50\n"
          ]
        },
        {
          "output_type": "stream",
          "name": "stderr",
          "text": [
            "Single Sample Perceptron Training: 100%|██████████| 100000/100000 [00:02<00:00, 49017.63it/s]"
          ]
        },
        {
          "output_type": "stream",
          "name": "stdout",
          "text": [
            "Accuracy: 0.50\n",
            "Accuracy: 0.50\n",
            "Accuracy: 0.50\n",
            "Accuracy: 0.50\n"
          ]
        },
        {
          "output_type": "stream",
          "name": "stderr",
          "text": [
            "\n"
          ]
        }
      ]
    },
    {
      "cell_type": "markdown",
      "source": [
        "5. Plot the history of the accuracy during training."
      ],
      "metadata": {
        "id": "bki_JT6a8dUp"
      }
    },
    {
      "cell_type": "markdown",
      "source": [
        "**Solution**\n"
      ],
      "metadata": {
        "id": "2McXscHs8gPj"
      }
    },
    {
      "cell_type": "code",
      "source": [
        "print(\"Best Model:\", best_model)\n",
        "print(\"Accuracy History:\", acc_history)\n",
        "#print(\"Best accuracy:\", max(acc_history))\n",
        "plt.plot(acc_history)\n",
        "plt.xlabel(\"Epochs\")\n",
        "plt.ylabel(\"Accuracy\")\n",
        "plt.title(\"Single-sample perceptron\")\n",
        "plt.show()"
      ],
      "metadata": {
        "colab": {
          "base_uri": "https://localhost:8080/",
          "height": 527
        },
        "id": "6hsVlF6r8htz",
        "outputId": "d9672e23-69ce-4681-b7e9-f2934eda7e54"
      },
      "execution_count": null,
      "outputs": [
        {
          "output_type": "stream",
          "name": "stdout",
          "text": [
            "Best Model: [[2.04808885 0.13603999 4.16612967]]\n",
            "Accuracy History: [0.468, 0.5, 0.5, 0.5, 0.5, 0.5, 0.5, 0.5, 0.5, 0.5, 0.5, 0.5, 0.5, 0.5, 0.5, 0.5, 0.5, 0.5, 0.5, 0.5, 0.5, 0.5, 0.5, 0.5, 0.5, 0.5, 0.5, 0.5, 0.5, 0.5, 0.5, 0.5, 0.5, 0.5, 0.5, 0.5, 0.5, 0.5, 0.5, 0.5, 0.5, 0.5, 0.5, 0.5, 0.5, 0.5, 0.5, 0.5, 0.5, 0.5, 0.5, 0.5, 0.5, 0.5, 0.5, 0.5, 0.5, 0.5, 0.5, 0.5, 0.5, 0.5, 0.5, 0.5, 0.5, 0.5, 0.5, 0.5, 0.5, 0.5, 0.5, 0.5, 0.5, 0.5, 0.5, 0.5, 0.5, 0.5, 0.5, 0.5, 0.5, 0.5, 0.5, 0.5, 0.5, 0.5, 0.5, 0.5, 0.5, 0.5, 0.5, 0.5, 0.5, 0.5, 0.5, 0.5, 0.5, 0.5, 0.5, 0.5]\n"
          ]
        },
        {
          "output_type": "display_data",
          "data": {
            "text/plain": [
              "<Figure size 640x480 with 1 Axes>"
            ],
            "image/png": "[encoded data removed]"
          },
          "metadata": {}
        }
      ]
    },
    {
      "cell_type": "markdown",
      "source": [
        "6. Plot the data along and the trained model. Use the *plot model* function you implemented before."
      ],
      "metadata": {
        "id": "7R5MLfJM8kY9"
      }
    },
    {
      "cell_type": "markdown",
      "source": [
        "**Solution**"
      ],
      "metadata": {
        "id": "02jSpGxs8lzN"
      }
    },
    {
      "cell_type": "markdown",
      "source": [
        "This question is answered by calling the *plot_model* function defined previously."
      ],
      "metadata": {
        "id": "Z2FV7DBGOs1c"
      }
    },
    {
      "cell_type": "code",
      "source": [
        "plot_model(best_model,y,labels)"
      ],
      "metadata": {
        "colab": {
          "base_uri": "https://localhost:8080/",
          "height": 472
        },
        "id": "MKijBIMz8o4i",
        "outputId": "75cb72b1-1543-4776-aaeb-cb8c4d34dc5b"
      },
      "execution_count": null,
      "outputs": [
        {
          "output_type": "stream",
          "name": "stderr",
          "text": [
            "WARNING:matplotlib.legend:No artists with labels found to put in legend.  Note that artists whose label start with an underscore are ignored when legend() is called with no argument.\n"
          ]
        },
        {
          "output_type": "display_data",
          "data": {
            "text/plain": [
              "<Figure size 640x480 with 1 Axes>"
            ],
            "image/png": "[encoded data removed]"
          },
          "metadata": {}
        }
      ]
    },
    {
      "cell_type": "markdown",
      "source": [
        "7. Now we are going to retrain our model but with a variable learning rate. Create a *Scheduler* class that implements a function *get next lr* that every time it is called returns the next learning rate. The object should work according to the function at the beginning of the assignment. Test your object by initializing it and plotting the learning rate over 100 steps. Now configure the training function to use this object when *variable lr = True*"
      ],
      "metadata": {
        "id": "_fLOwV498zrR"
      }
    },
    {
      "cell_type": "markdown",
      "source": [
        "**Solution**"
      ],
      "metadata": {
        "id": "koxnZgg881fD"
      }
    },
    {
      "cell_type": "markdown",
      "source": [
        "Our implemented scheduler class is the following, where $\\text{learning_rate}_i = \\frac{1}{\\sqrt{k_i}}$ with $k_i = k_{i-1} + (i \\mod n), ~k_0 = 0, i \\geq 1, i = \\text{iteration index}, n = \\text{number of samples.}$"
      ],
      "metadata": {
        "id": "d0Gy7CvMA3w6"
      }
    },
    {
      "cell_type": "code",
      "source": [
        "class Scheduler:\n",
        "    def __init__(self, lr, n_samples):\n",
        "        self.lr = lr\n",
        "        self.n_samples = n_samples\n",
        "        self.k = 0\n",
        "\n",
        "    def get_next_lr(self):\n",
        "        lr = 1 / np.sqrt(self.k + 1)\n",
        "        self.k = self.k + (i % self.n_samples)\n",
        "        return lr"
      ],
      "metadata": {
        "id": "o0G7M824zx4K"
      },
      "execution_count": null,
      "outputs": []
    },
    {
      "cell_type": "markdown",
      "source": [
        "We can confirm our scheduler works as expected by initializing the learning rate to $1$ and then plotting the decaying learning rate for 100 steps."
      ],
      "metadata": {
        "id": "3JIs2p3xO2K_"
      }
    },
    {
      "cell_type": "code",
      "source": [
        "scheduler = Scheduler(lr=1, n_samples=100)\n",
        "\n",
        "rates = []\n",
        "for i in range(100):\n",
        "    learning_rate = scheduler.get_next_lr()\n",
        "    rates.append(learning_rate)\n",
        "\n",
        "plt.plot(range(1, 101), rates)\n",
        "plt.xlabel('Iteration')\n",
        "plt.ylabel('Learning Rate')\n",
        "plt.title('Variable Learning Rate for 100 iterations')\n",
        "plt.show()"
      ],
      "metadata": {
        "colab": {
          "base_uri": "https://localhost:8080/",
          "height": 472
        },
        "id": "_aw48JeL8Pp2",
        "outputId": "dfe57e98-a9af-415e-b797-1ea21d8c9880"
      },
      "execution_count": null,
      "outputs": [
        {
          "output_type": "display_data",
          "data": {
            "text/plain": [
              "<Figure size 640x480 with 1 Axes>"
            ],
            "image/png": "[encoded data removed]"
          },
          "metadata": {}
        }
      ]
    },
    {
      "cell_type": "markdown",
      "source": [
        "8. Retrain the model with a variable learning rate. Plot the dataset and the trained model as before. What is the main difference compared to training with a fixed learning rate? What method do you think is better? Justify your answer."
      ],
      "metadata": {
        "id": "eSdtVcBq9L2-"
      }
    },
    {
      "cell_type": "markdown",
      "source": [
        "**Solution**"
      ],
      "metadata": {
        "id": "sHrF-RNi9NPj"
      }
    },
    {
      "cell_type": "markdown",
      "source": [
        "We re-write the *train_single_sample* function in order to take into account the Scheduler class and when the *variable_lr* argument is equal to True.\n",
        "\n",
        "The main difference betwen training with a fixed learning rate and a variable (also called decaying) learning rate is that instead of updating the weights by a constant factor at each iteration, which often leads to slower convergence of the optimization method and being trapped in a local extrema instead of convering to the global extrema. In many cases, learning with a variable learning rate allows for faster convergence of the approximation method (in our case, the update rule of the perceptron learning is gradient descent optimization) and allows to avoid being trapped in local extrema like the fixed learning rate. All in all, although learning is an optimization problem and not an explicitely defined one, as it heavily depends on the starting configurations at $t=0$ and the characteristics of the data, variable learning rate is often preffered due to its added flexibility.\n",
        "\n",
        "\n",
        "\n",
        "---\n",
        "\n",
        "\n",
        "[Versloot, C. (2019,November 11) Problems with fixed and decaying learning rates](https://github.com/christianversloot/machine-learning-articles/blob/main/problems-with-fixed-and-decaying-learning-rates.md)\n",
        "\n",
        "[Lau, S. (2017, August 1). Learning Rate Schedules and Adaptive Learning Rate Methods for Deep Learning](https://towardsdatascience.com/learning-rate-schedules-and-adaptive-learning-rate-methods-for-deep-learning-2c8f433990d1)\n",
        "\n"
      ],
      "metadata": {
        "id": "Enr-1fuL9eQN"
      }
    },
    {
      "cell_type": "code",
      "source": [
        "def train_single_sample(a, y, labels, n_iterations, lr, variable_lr):\n",
        "    acc_history = []\n",
        "    best_accuracy = float(\"-inf\")\n",
        "    best_model = None\n",
        "    \n",
        "    labels = np.where(labels == 0, -1, labels)\n",
        "    n_samples = len(labels)\n",
        "\n",
        "    if variable_lr:\n",
        "        scheduler = Scheduler(lr, n_samples)\n",
        "\n",
        "    for iteration in tqdm(range(n_iterations), desc=\"Single Sample Perceptron Training\"):\n",
        "        correct_predictions = 0\n",
        "        \n",
        "        k = (iteration +1) % n_samples\n",
        "        x = y[k].astype(a.dtype)\n",
        "        label = labels[k]\n",
        "            \n",
        "        if np.sign(np.dot(a, x)) == -1:\n",
        "          a += lr * x.astype(a.dtype)\n",
        "\n",
        "          if variable_lr:\n",
        "            lr = scheduler.get_next_lr()\n",
        "      \n",
        "        #compute the accuracy every n_samples iterations\n",
        "        if iteration % n_samples == 0:\n",
        "            accuracy = 0\n",
        "            for j in range(n_samples):\n",
        "                x = y[j].astype(a.dtype)\n",
        "                label = labels[j]\n",
        "                if np.sign(np.dot(a, x)) == label:\n",
        "                    accuracy += 1\n",
        "            accuracy /= n_samples\n",
        "            acc_history.append(accuracy)\n",
        "            tqdm.write(f\"Accuracy: {accuracy:.2f}\")\n",
        "\n",
        "            if accuracy > best_accuracy:\n",
        "                best_accuracy = accuracy\n",
        "                best_model = a \n",
        "\n",
        "        if best_model is None:\n",
        "         best_accuracy = 0\n",
        "         best_model = np.zeros_like(a)\n",
        "    \n",
        "    return best_model, acc_history"
      ],
      "metadata": {
        "id": "lqWmSVBt0r2n"
      },
      "execution_count": null,
      "outputs": []
    },
    {
      "cell_type": "code",
      "source": [
        "a = np.random.rand(1,3)\n",
        "a[:-1] = 1 #bias trick\n",
        "\n",
        "n_iterations = 10**5 \n",
        "lr = 1\n",
        "variable_lr = True\n",
        "\n",
        "best_model, acc_history = train_single_sample(a, y, labels, n_iterations, lr, variable_lr)\n",
        "\n",
        "print(\"Best Model:\", best_model)\n",
        "\n",
        "plt.plot(acc_history)\n",
        "plt.xlabel(\"Iterations per sample count - Epochs\")\n",
        "plt.ylabel(\"Accuracy\")\n",
        "plt.title(\"Single-sample perceptron\")\n",
        "\n",
        "plt.show()"
      ],
      "metadata": {
        "colab": {
          "base_uri": "https://localhost:8080/",
          "height": 1000
        },
        "id": "91koH7ts2n4C",
        "outputId": "89d96a80-038b-4e6d-95a7-807f2a6088a1"
      },
      "execution_count": null,
      "outputs": [
        {
          "output_type": "stream",
          "name": "stderr",
          "text": [
            "Single Sample Perceptron Training:  11%|█▏        | 11424/100000 [00:00<00:01, 55859.43it/s]"
          ]
        },
        {
          "output_type": "stream",
          "name": "stdout",
          "text": [
            "Accuracy: 0.47\n",
            "Accuracy: 0.50\n",
            "Accuracy: 0.50\n",
            "Accuracy: 0.50\n",
            "Accuracy: 0.50\n",
            "Accuracy: 0.50\n",
            "Accuracy: 0.50\n",
            "Accuracy: 0.50\n",
            "Accuracy: 0.50\n",
            "Accuracy: 0.50\n",
            "Accuracy: 0.50\n",
            "Accuracy: 0.50\n"
          ]
        },
        {
          "output_type": "stream",
          "name": "stderr",
          "text": []
        },
        {
          "output_type": "stream",
          "name": "stdout",
          "text": [
            "Accuracy: 0.50\n",
            "Accuracy: 0.50\n",
            "Accuracy: 0.50\n",
            "Accuracy: 0.50\n",
            "Accuracy: 0.50\n",
            "Accuracy: 0.50\n",
            "Accuracy: 0.50\n",
            "Accuracy: 0.50\n",
            "Accuracy: 0.50\n",
            "Accuracy: 0.50\n"
          ]
        },
        {
          "output_type": "stream",
          "name": "stderr",
          "text": [
            "Single Sample Perceptron Training:  28%|██▊       | 28001/100000 [00:00<00:01, 51026.29it/s]"
          ]
        },
        {
          "output_type": "stream",
          "name": "stdout",
          "text": [
            "Accuracy: 0.50\n",
            "Accuracy: 0.50\n",
            "Accuracy: 0.50\n",
            "Accuracy: 0.50\n",
            "Accuracy: 0.50\n",
            "Accuracy: 0.50\n",
            "Accuracy: 0.50\n",
            "Accuracy: 0.50\n",
            "Accuracy: 0.50\n",
            "Accuracy: 0.50\n",
            "Accuracy: 0.50\n"
          ]
        },
        {
          "output_type": "stream",
          "name": "stderr",
          "text": [
            "Single Sample Perceptron Training:  39%|███▉      | 39001/100000 [00:00<00:01, 50800.66it/s]"
          ]
        },
        {
          "output_type": "stream",
          "name": "stdout",
          "text": [
            "Accuracy: 0.50\n",
            "Accuracy: 0.50\n",
            "Accuracy: 0.50\n",
            "Accuracy: 0.50\n",
            "Accuracy: 0.50\n",
            "Accuracy: 0.50\n",
            "Accuracy: 0.50\n",
            "Accuracy: 0.50\n",
            "Accuracy: 0.50\n",
            "Accuracy: 0.50\n",
            "Accuracy: 0.50\n",
            "Accuracy: 0.50\n"
          ]
        },
        {
          "output_type": "stream",
          "name": "stderr",
          "text": [
            "Single Sample Perceptron Training:  50%|█████     | 50410/100000 [00:01<00:00, 51686.75it/s]"
          ]
        },
        {
          "output_type": "stream",
          "name": "stdout",
          "text": [
            "Accuracy: 0.50\n",
            "Accuracy: 0.50\n",
            "Accuracy: 0.50\n",
            "Accuracy: 0.50\n",
            "Accuracy: 0.50\n",
            "Accuracy: 0.50\n",
            "Accuracy: 0.50\n",
            "Accuracy: 0.50\n",
            "Accuracy: 0.50\n",
            "Accuracy: 0.50\n",
            "Accuracy: 0.50\n"
          ]
        },
        {
          "output_type": "stream",
          "name": "stderr",
          "text": [
            "Single Sample Perceptron Training:  61%|██████    | 60932/100000 [00:01<00:00, 49744.93it/s]"
          ]
        },
        {
          "output_type": "stream",
          "name": "stdout",
          "text": [
            "Accuracy: 0.50\n",
            "Accuracy: 0.50\n",
            "Accuracy: 0.50\n",
            "Accuracy: 0.50\n",
            "Accuracy: 0.50\n",
            "Accuracy: 0.50\n",
            "Accuracy: 0.50\n",
            "Accuracy: 0.50\n",
            "Accuracy: 0.50\n",
            "Accuracy: 0.50\n"
          ]
        },
        {
          "output_type": "stream",
          "name": "stderr",
          "text": [
            "Single Sample Perceptron Training:  77%|███████▋  | 76579/100000 [00:01<00:00, 51278.75it/s]"
          ]
        },
        {
          "output_type": "stream",
          "name": "stdout",
          "text": [
            "Accuracy: 0.50\n",
            "Accuracy: 0.50\n",
            "Accuracy: 0.50\n",
            "Accuracy: 0.50\n",
            "Accuracy: 0.50\n",
            "Accuracy: 0.50\n",
            "Accuracy: 0.50\n",
            "Accuracy: 0.50\n",
            "Accuracy: 0.50\n",
            "Accuracy: 0.50\n",
            "Accuracy: 0.50\n"
          ]
        },
        {
          "output_type": "stream",
          "name": "stderr",
          "text": []
        },
        {
          "output_type": "stream",
          "name": "stdout",
          "text": [
            "Accuracy: 0.50\n",
            "Accuracy: 0.50\n",
            "Accuracy: 0.50\n",
            "Accuracy: 0.50\n",
            "Accuracy: 0.50\n",
            "Accuracy: 0.50\n",
            "Accuracy: 0.50\n",
            "Accuracy: 0.50\n",
            "Accuracy: 0.50\n",
            "Accuracy: 0.50\n",
            "Accuracy: 0.50\n"
          ]
        },
        {
          "output_type": "stream",
          "name": "stderr",
          "text": []
        },
        {
          "output_type": "stream",
          "name": "stdout",
          "text": [
            "Accuracy: 0.50\n",
            "Accuracy: 0.50\n",
            "Accuracy: 0.50\n",
            "Accuracy: 0.50\n",
            "Accuracy: 0.50\n",
            "Accuracy: 0.50\n",
            "Accuracy: 0.50\n",
            "Accuracy: 0.50\n",
            "Accuracy: 0.50\n",
            "Accuracy: 0.50\n",
            "Accuracy: 0.50\n"
          ]
        },
        {
          "output_type": "stream",
          "name": "stderr",
          "text": [
            "Single Sample Perceptron Training: 100%|██████████| 100000/100000 [00:01<00:00, 51231.41it/s]\n"
          ]
        },
        {
          "output_type": "stream",
          "name": "stdout",
          "text": [
            "Accuracy: 0.50\n",
            "Best Model: [[1.9826818  0.23427457 2.99758966]]\n"
          ]
        },
        {
          "output_type": "display_data",
          "data": {
            "text/plain": [
              "<Figure size 640x480 with 1 Axes>"
            ],
            "image/png": "[encoded data removed]"
          },
          "metadata": {}
        }
      ]
    },
    {
      "cell_type": "code",
      "source": [
        "plot_model(best_model,y,labels)"
      ],
      "metadata": {
        "colab": {
          "base_uri": "https://localhost:8080/",
          "height": 472
        },
        "id": "4gzZbtOfHaRB",
        "outputId": "60729e47-e6d1-4e32-e949-0b8737b7586b"
      },
      "execution_count": null,
      "outputs": [
        {
          "output_type": "stream",
          "name": "stderr",
          "text": [
            "WARNING:matplotlib.legend:No artists with labels found to put in legend.  Note that artists whose label start with an underscore are ignored when legend() is called with no argument.\n"
          ]
        },
        {
          "output_type": "display_data",
          "data": {
            "text/plain": [
              "<Figure size 640x480 with 1 Axes>"
            ],
            "image/png": "[encoded data removed]"
          },
          "metadata": {}
        }
      ]
    },
    {
      "cell_type": "markdown",
      "source": [
        "### **Question 2** \n",
        "\n",
        "The data, the equation, and the notice from the previous question apply to this one too.\n",
        "\n",
        "**Questions:**\n",
        "\n",
        "1. Create a function called *train batch* that implements the Batch Perceptron algorithm. The arguments of the function should be:\n",
        "\n",
        " (a) the same as the *train single sample* in Question 1 +\n",
        " (b) theta := the value for the theta criterion\n",
        " (c) batch size and the function should return:\n",
        " (a) the same as the *train single sample* in Question 1 +\n",
        " (b) error history := list of error values\n",
        "\n",
        " The algorithm should be implemented according to the notes. Extra functionalities include computing and n samples printing the model's accuracy and the error every batch size iterations. Also, you should save and return only the best model. The error here is the absolute sum of the updating step, that is the value we use to update the weights. **Bonus 2.5%:** Use the tqdm library to print the progress of the model along with the accuracy and the error during training.\n",
        "\n"
      ],
      "metadata": {
        "id": "dZ_3m5RaE6w_"
      }
    },
    {
      "cell_type": "markdown",
      "source": [
        "**Solution**\n",
        "\n",
        "This question is similar to the previous ones, except we check for misclassified samples and update the gradient using batches of features instead of a single feature. Batching is performed using sampling without replacement, and the update step is performed by summing over the misclassified samples. In more detail [1]:\n",
        "\n",
        "**Algorithm** fixed-variable-increment batch perceptron:\n",
        "\n",
        "---\n",
        "**begin:** initialize $\\mathbf{a}, ~\\eta(k), ~k=0, ~\\text{threshold} ~\\theta$\n",
        "\n",
        "**do** $k = (k+1)$\n",
        "\n",
        " $$\\displaystyle \\mathbf{a} \\leftarrow a + \\eta(k) \\sum_{y \\in \\mathcal{Y}_k}  \\mathbf{y}$$\n",
        "\n",
        "  $$\\textbf{until} ~~\\displaystyle \\eta(k) \\sum_{y \\in \\mathcal{Y}_k}  \\mathbf{y} < \\theta$$\n",
        "\n",
        "**end**\n",
        "\n",
        "where $\\eta(k)$ is the fixed-variable learning rate dependent on iteration k.\n",
        "\n",
        "This is implemented in the *train_batch* function, with the two additional parameters *batch_size* (size of the randomly sampled batch, without replacement) and *theta* (theta termination criterion):"
      ],
      "metadata": {
        "id": "qWLXm3ykFlso"
      }
    },
    {
      "cell_type": "code",
      "source": [
        "def train_batch(a, y, labels, n_iterations, lr, variable_lr, batch_size, theta):\n",
        "    acc_history = []\n",
        "    error_history = []\n",
        "    best_accuracy = float(\"-inf\")\n",
        "    best_model = None\n",
        "    \n",
        "    labels = np.where(labels == 0, -1, labels)\n",
        "    n_samples = len(labels)\n",
        "    \n",
        "    for iteration in tqdm(range(n_iterations), desc=\"Batch perceptron training\"):\n",
        "        error = np.zeros_like(a)\n",
        "        \n",
        "        indices = np.random.choice(n_samples, size=batch_size, replace=False)\n",
        "        batch_y = y[indices]\n",
        "        batch_labels = labels[indices]\n",
        "        \n",
        "        for k in range(batch_size):\n",
        "            x = batch_y[k].astype(a.dtype)\n",
        "            label = batch_labels[k]\n",
        "            \n",
        "            if np.sign(np.dot(a, x)) != label:\n",
        "                error += x.astype(a.dtype)\n",
        "        \n",
        "        a += lr * error\n",
        "        \n",
        "        #compute accuracy and abs error every n_samples / batch_size iterations\n",
        "        if (iteration % (n_samples / batch_size)) == 0:\n",
        "          accuracy = np.mean([np.sign(np.dot(a, x)) == label for x, label in zip(y, labels)])\n",
        "          acc_history.append(accuracy)\n",
        "          tqdm.write(f\"Accuracy: {accuracy:.2f}\")\n",
        "          error_history.append(np.abs(np.sum(error)))\n",
        "          tqdm.write(f\"Absolute Error: {np.sum(np.abs(error)):.2f}\")\n",
        "\n",
        "          if accuracy > best_accuracy:\n",
        "            best_accuracy = accuracy\n",
        "            best_model = np.copy(a)\n",
        "        \n",
        "        if np.sum(np.abs(error)) <= theta:\n",
        "            tqdm.write(\"Terminating due to the theta criterion\")\n",
        "            break\n",
        "\n",
        "        if best_model is None:\n",
        "         best_accuracy = 0\n",
        "         best_model = np.zeros_like(a)\n",
        "    \n",
        "    return best_model, acc_history, error_history"
      ],
      "metadata": {
        "id": "FIoVjWOEZpMp"
      },
      "execution_count": null,
      "outputs": []
    },
    {
      "cell_type": "markdown",
      "source": [
        "2. Train a linear model using the function *train batch* you have implemented. Use the following hyperparameters:\n",
        "\n",
        " (a) n_iterations = 100000\n",
        "\n",
        " (b) theta = 0.01\n",
        "\n",
        " (c) batch_size = 16\n",
        "\n",
        " (d) lr = 100000\n",
        "\n",
        " (e) variable_lr = False"
      ],
      "metadata": {
        "id": "RMID92T7qdo8"
      }
    },
    {
      "cell_type": "markdown",
      "source": [
        "**Solution**"
      ],
      "metadata": {
        "id": "-sclzl0IHCCU"
      }
    },
    {
      "cell_type": "code",
      "source": [
        "a = np.random.rand(1,3) #including bias trick\n",
        "a[:-1] = 1\n",
        "\n",
        "n_iterations = 10**5\n",
        "lr = 1\n",
        "theta = 0.01\n",
        "batch_size = 16\n",
        "variable_lr = False\n",
        "\n",
        "best_model, acc_history, error_history = train_batch(a, y, labels, n_iterations, lr, variable_lr, batch_size, theta)\n",
        "\n",
        "print(best_model)"
      ],
      "metadata": {
        "colab": {
          "base_uri": "https://localhost:8080/"
        },
        "id": "lHsbjPlfgZ9y",
        "outputId": "59e19717-ab52-4dd5-dbbd-b80b3efa946e"
      },
      "execution_count": null,
      "outputs": [
        {
          "output_type": "stream",
          "name": "stderr",
          "text": [
            "Batch perceptron training:   0%|          | 262/100000 [00:00<00:38, 2619.03it/s]"
          ]
        },
        {
          "output_type": "stream",
          "name": "stdout",
          "text": [
            "Accuracy: 0.45\n",
            "Absolute Error: 43.32\n",
            "Accuracy: 0.45\n",
            "Absolute Error: 54.23\n",
            "Accuracy: 0.46\n",
            "Absolute Error: 44.58\n",
            "Accuracy: 0.46\n",
            "Absolute Error: 39.02\n",
            "Accuracy: 0.46\n",
            "Absolute Error: 24.60\n",
            "Accuracy: 0.45\n",
            "Absolute Error: 52.79\n"
          ]
        },
        {
          "output_type": "stream",
          "name": "stderr",
          "text": [
            "Batch perceptron training:   1%|▏         | 1251/100000 [00:00<00:34, 2881.57it/s]"
          ]
        },
        {
          "output_type": "stream",
          "name": "stdout",
          "text": [
            "Accuracy: 0.46\n",
            "Absolute Error: 40.07\n",
            "Accuracy: 0.46\n",
            "Absolute Error: 49.91\n",
            "Accuracy: 0.45\n",
            "Absolute Error: 49.98\n",
            "Accuracy: 0.45\n",
            "Absolute Error: 31.96\n",
            "Accuracy: 0.45\n",
            "Absolute Error: 44.91\n"
          ]
        },
        {
          "output_type": "stream",
          "name": "stderr",
          "text": [
            "Batch perceptron training:   2%|▏         | 1826/100000 [00:00<00:37, 2588.15it/s]"
          ]
        },
        {
          "output_type": "stream",
          "name": "stdout",
          "text": [
            "Accuracy: 0.45\n",
            "Absolute Error: 36.13\n",
            "Accuracy: 0.45\n",
            "Absolute Error: 43.06\n",
            "Accuracy: 0.45\n",
            "Absolute Error: 24.66\n",
            "Accuracy: 0.45\n",
            "Absolute Error: 49.50\n"
          ]
        },
        {
          "output_type": "stream",
          "name": "stderr",
          "text": [
            "Batch perceptron training:   2%|▏         | 2089/100000 [00:00<00:41, 2344.52it/s]"
          ]
        },
        {
          "output_type": "stream",
          "name": "stdout",
          "text": [
            "Accuracy: 0.45\n",
            "Absolute Error: 56.99\n",
            "Accuracy: 0.45\n",
            "Absolute Error: 56.24\n",
            "Accuracy: 0.45\n",
            "Absolute Error: 25.38\n"
          ]
        },
        {
          "output_type": "stream",
          "name": "stderr",
          "text": [
            "Batch perceptron training:   2%|▏         | 2329/100000 [00:01<00:51, 1901.97it/s]"
          ]
        },
        {
          "output_type": "stream",
          "name": "stdout",
          "text": [
            "Accuracy: 0.45\n",
            "Absolute Error: 60.66\n",
            "Accuracy: 0.45\n",
            "Absolute Error: 55.32\n",
            "Accuracy: 0.45\n",
            "Absolute Error: 49.96\n"
          ]
        },
        {
          "output_type": "stream",
          "name": "stderr",
          "text": []
        },
        {
          "output_type": "stream",
          "name": "stdout",
          "text": [
            "Accuracy: 0.45\n",
            "Absolute Error: 49.21\n",
            "Accuracy: 0.45\n",
            "Absolute Error: 61.51\n",
            "Accuracy: 0.45\n",
            "Absolute Error: 69.03\n"
          ]
        },
        {
          "output_type": "stream",
          "name": "stderr",
          "text": [
            "Batch perceptron training:   3%|▎         | 3361/100000 [00:01<00:53, 1809.59it/s]"
          ]
        },
        {
          "output_type": "stream",
          "name": "stdout",
          "text": [
            "Accuracy: 0.45\n",
            "Absolute Error: 42.73\n",
            "Accuracy: 0.45\n",
            "Absolute Error: 36.02\n",
            "Accuracy: 0.45\n",
            "Absolute Error: 49.36\n"
          ]
        },
        {
          "output_type": "stream",
          "name": "stderr",
          "text": [
            "Batch perceptron training:   4%|▎         | 3546/100000 [00:01<01:00, 1587.81it/s]"
          ]
        },
        {
          "output_type": "stream",
          "name": "stdout",
          "text": [
            "Accuracy: 0.45\n",
            "Absolute Error: 46.51\n",
            "Accuracy: 0.45\n",
            "Absolute Error: 31.69\n",
            "Accuracy: 0.45\n",
            "Absolute Error: 48.50\n"
          ]
        },
        {
          "output_type": "stream",
          "name": "stderr",
          "text": []
        },
        {
          "output_type": "stream",
          "name": "stdout",
          "text": [
            "Accuracy: 0.45\n",
            "Absolute Error: 44.16\n",
            "Accuracy: 0.45\n",
            "Absolute Error: 37.45\n",
            "Accuracy: 0.45\n"
          ]
        },
        {
          "output_type": "stream",
          "name": "stderr",
          "text": [
            "Batch perceptron training:   4%|▍         | 4165/100000 [00:02<01:15, 1268.59it/s]"
          ]
        },
        {
          "output_type": "stream",
          "name": "stdout",
          "text": [
            "Absolute Error: 48.38\n",
            "Accuracy: 0.45\n",
            "Absolute Error: 72.13\n",
            "Accuracy: 0.45\n"
          ]
        },
        {
          "output_type": "stream",
          "name": "stderr",
          "text": []
        },
        {
          "output_type": "stream",
          "name": "stdout",
          "text": [
            "Absolute Error: 55.32\n",
            "Accuracy: 0.45\n",
            "Absolute Error: 46.13\n",
            "Accuracy: 0.45\n",
            "Absolute Error: 64.76\n",
            "Accuracy: 0.45\n",
            "Absolute Error: 52.79\n",
            "Accuracy: 0.45\n",
            "Absolute Error: 75.07\n"
          ]
        },
        {
          "output_type": "stream",
          "name": "stderr",
          "text": [
            "Batch perceptron training:   5%|▌         | 5263/100000 [00:02<00:40, 2321.46it/s]"
          ]
        },
        {
          "output_type": "stream",
          "name": "stdout",
          "text": [
            "Accuracy: 0.45\n",
            "Absolute Error: 52.16\n",
            "Accuracy: 0.45\n",
            "Absolute Error: 45.37\n",
            "Accuracy: 0.45\n",
            "Absolute Error: 26.85\n",
            "Accuracy: 0.45\n",
            "Absolute Error: 39.10\n",
            "Accuracy: 0.45\n",
            "Absolute Error: 37.42\n"
          ]
        },
        {
          "output_type": "stream",
          "name": "stderr",
          "text": [
            "Batch perceptron training:   6%|▌         | 5849/100000 [00:02<00:35, 2630.40it/s]"
          ]
        },
        {
          "output_type": "stream",
          "name": "stdout",
          "text": [
            "Accuracy: 0.45\n",
            "Absolute Error: 53.21\n",
            "Accuracy: 0.45\n",
            "Absolute Error: 43.52\n",
            "Accuracy: 0.45\n",
            "Absolute Error: 74.18\n",
            "Accuracy: 0.45\n",
            "Absolute Error: 48.51\n",
            "Accuracy: 0.45\n",
            "Absolute Error: 54.49\n"
          ]
        },
        {
          "output_type": "stream",
          "name": "stderr",
          "text": [
            "Batch perceptron training:   6%|▋         | 6477/100000 [00:03<00:32, 2843.65it/s]"
          ]
        },
        {
          "output_type": "stream",
          "name": "stdout",
          "text": [
            "Accuracy: 0.45\n",
            "Absolute Error: 65.21\n",
            "Accuracy: 0.45\n",
            "Absolute Error: 45.66\n",
            "Accuracy: 0.45\n",
            "Absolute Error: 29.75\n",
            "Accuracy: 0.45\n",
            "Absolute Error: 42.72\n",
            "Accuracy: 0.45\n",
            "Absolute Error: 45.65\n"
          ]
        },
        {
          "output_type": "stream",
          "name": "stderr",
          "text": [
            "Batch perceptron training:   7%|▋         | 7126/100000 [00:03<00:31, 2944.42it/s]"
          ]
        },
        {
          "output_type": "stream",
          "name": "stdout",
          "text": [
            "Accuracy: 0.45\n",
            "Absolute Error: 64.96\n",
            "Accuracy: 0.45\n",
            "Absolute Error: 25.70\n",
            "Accuracy: 0.45\n",
            "Absolute Error: 45.31\n",
            "Accuracy: 0.45\n",
            "Absolute Error: 39.82\n",
            "Accuracy: 0.45\n",
            "Absolute Error: 50.04\n",
            "Accuracy: 0.45\n"
          ]
        },
        {
          "output_type": "stream",
          "name": "stderr",
          "text": [
            "Batch perceptron training:   8%|▊         | 7751/100000 [00:03<00:31, 2917.42it/s]"
          ]
        },
        {
          "output_type": "stream",
          "name": "stdout",
          "text": [
            "Absolute Error: 63.22\n",
            "Accuracy: 0.45\n",
            "Absolute Error: 32.77\n",
            "Accuracy: 0.45\n",
            "Absolute Error: 55.57\n",
            "Accuracy: 0.45\n",
            "Absolute Error: 60.38\n",
            "Accuracy: 0.45\n",
            "Absolute Error: 29.90\n"
          ]
        },
        {
          "output_type": "stream",
          "name": "stderr",
          "text": [
            "Batch perceptron training:   8%|▊         | 8353/100000 [00:03<00:31, 2926.58it/s]"
          ]
        },
        {
          "output_type": "stream",
          "name": "stdout",
          "text": [
            "Accuracy: 0.45\n",
            "Absolute Error: 22.27\n",
            "Accuracy: 0.45\n",
            "Absolute Error: 65.46\n",
            "Accuracy: 0.45\n",
            "Absolute Error: 57.22\n",
            "Accuracy: 0.45\n",
            "Absolute Error: 50.74\n",
            "Accuracy: 0.45\n",
            "Absolute Error: 42.55\n"
          ]
        },
        {
          "output_type": "stream",
          "name": "stderr",
          "text": [
            "Batch perceptron training:   9%|▉         | 8933/100000 [00:04<00:33, 2756.92it/s]"
          ]
        },
        {
          "output_type": "stream",
          "name": "stdout",
          "text": [
            "Accuracy: 0.45\n",
            "Absolute Error: 55.57\n",
            "Accuracy: 0.45\n",
            "Absolute Error: 28.40\n",
            "Accuracy: 0.45\n",
            "Absolute Error: 42.50\n",
            "Accuracy: 0.45\n",
            "Absolute Error: 37.27\n",
            "Accuracy: 0.45\n",
            "Absolute Error: 40.24\n"
          ]
        },
        {
          "output_type": "stream",
          "name": "stderr",
          "text": [
            "Batch perceptron training:  10%|▉         | 9528/100000 [00:04<00:32, 2746.91it/s]"
          ]
        },
        {
          "output_type": "stream",
          "name": "stdout",
          "text": [
            "Accuracy: 0.45\n",
            "Absolute Error: 61.15\n",
            "Accuracy: 0.45\n",
            "Absolute Error: 47.46\n",
            "Accuracy: 0.45\n",
            "Absolute Error: 36.41\n",
            "Accuracy: 0.45\n",
            "Absolute Error: 44.54\n",
            "Accuracy: 0.45\n",
            "Absolute Error: 43.16\n"
          ]
        },
        {
          "output_type": "stream",
          "name": "stderr",
          "text": [
            "Batch perceptron training:  10%|█         | 10154/100000 [00:04<00:32, 2763.72it/s]"
          ]
        },
        {
          "output_type": "stream",
          "name": "stdout",
          "text": [
            "Accuracy: 0.45\n",
            "Absolute Error: 41.73\n",
            "Accuracy: 0.45\n",
            "Absolute Error: 41.41\n",
            "Accuracy: 0.45\n",
            "Absolute Error: 46.26\n",
            "Accuracy: 0.45\n",
            "Absolute Error: 20.72\n",
            "Accuracy: 0.45\n",
            "Absolute Error: 59.00\n"
          ]
        },
        {
          "output_type": "stream",
          "name": "stderr",
          "text": [
            "Batch perceptron training:  11%|█         | 10876/100000 [00:04<00:29, 2998.20it/s]"
          ]
        },
        {
          "output_type": "stream",
          "name": "stdout",
          "text": [
            "Accuracy: 0.45\n",
            "Absolute Error: 44.78\n",
            "Accuracy: 0.45\n",
            "Absolute Error: 45.10\n",
            "Accuracy: 0.45\n",
            "Absolute Error: 41.01\n",
            "Accuracy: 0.45\n",
            "Absolute Error: 78.54\n",
            "Accuracy: 0.45\n",
            "Absolute Error: 63.99\n",
            "Accuracy: 0.45\n",
            "Absolute Error: 42.25\n"
          ]
        },
        {
          "output_type": "stream",
          "name": "stderr",
          "text": [
            "Batch perceptron training:  12%|█▏        | 11866/100000 [00:04<00:27, 3205.99it/s]"
          ]
        },
        {
          "output_type": "stream",
          "name": "stdout",
          "text": [
            "Accuracy: 0.45\n",
            "Absolute Error: 49.81\n",
            "Accuracy: 0.45\n",
            "Absolute Error: 59.36\n",
            "Accuracy: 0.45\n",
            "Absolute Error: 57.29\n",
            "Accuracy: 0.45\n",
            "Absolute Error: 55.55\n",
            "Accuracy: 0.45\n",
            "Absolute Error: 55.08\n",
            "Accuracy: 0.45\n"
          ]
        },
        {
          "output_type": "stream",
          "name": "stderr",
          "text": [
            "Batch perceptron training:  12%|█▏        | 12188/100000 [00:05<00:29, 2998.54it/s]"
          ]
        },
        {
          "output_type": "stream",
          "name": "stdout",
          "text": [
            "Absolute Error: 43.35\n",
            "Accuracy: 0.45\n",
            "Absolute Error: 28.06\n",
            "Accuracy: 0.45\n",
            "Absolute Error: 34.35\n",
            "Accuracy: 0.45\n",
            "Absolute Error: 57.53\n",
            "Accuracy: 0.45\n",
            "Absolute Error: 31.68\n"
          ]
        },
        {
          "output_type": "stream",
          "name": "stderr",
          "text": [
            "Batch perceptron training:  13%|█▎        | 12815/100000 [00:05<00:29, 2961.42it/s]"
          ]
        },
        {
          "output_type": "stream",
          "name": "stdout",
          "text": [
            "Accuracy: 0.45\n",
            "Absolute Error: 35.80\n",
            "Accuracy: 0.45\n",
            "Absolute Error: 34.86\n",
            "Accuracy: 0.45\n",
            "Absolute Error: 45.51\n",
            "Accuracy: 0.45\n",
            "Absolute Error: 48.78\n",
            "Accuracy: 0.45\n",
            "Absolute Error: 41.73\n"
          ]
        },
        {
          "output_type": "stream",
          "name": "stderr",
          "text": [
            "Batch perceptron training:  13%|█▎        | 13405/100000 [00:05<00:30, 2826.74it/s]"
          ]
        },
        {
          "output_type": "stream",
          "name": "stdout",
          "text": [
            "Accuracy: 0.45\n",
            "Absolute Error: 58.11\n",
            "Accuracy: 0.45\n",
            "Absolute Error: 47.93\n",
            "Accuracy: 0.45\n",
            "Absolute Error: 52.53\n",
            "Accuracy: 0.45\n",
            "Absolute Error: 49.19\n",
            "Accuracy: 0.45\n",
            "Absolute Error: 36.73\n",
            "Accuracy: 0.45\n",
            "Absolute Error: 55.98\n"
          ]
        },
        {
          "output_type": "stream",
          "name": "stderr",
          "text": []
        },
        {
          "output_type": "stream",
          "name": "stdout",
          "text": [
            "Accuracy: 0.45\n",
            "Absolute Error: 44.05\n",
            "Accuracy: 0.45\n",
            "Absolute Error: 30.23\n",
            "Accuracy: 0.45\n",
            "Absolute Error: 57.62\n",
            "Accuracy: 0.45\n",
            "Absolute Error: 60.86\n",
            "Accuracy: 0.45\n",
            "Absolute Error: 33.47\n",
            "Accuracy: 0.45\n",
            "Absolute Error: 41.72\n"
          ]
        },
        {
          "output_type": "stream",
          "name": "stderr",
          "text": [
            "Batch perceptron training:  15%|█▌        | 15042/100000 [00:06<00:29, 2855.79it/s]"
          ]
        },
        {
          "output_type": "stream",
          "name": "stdout",
          "text": [
            "Accuracy: 0.45\n",
            "Absolute Error: 53.61\n",
            "Accuracy: 0.45\n",
            "Absolute Error: 48.00\n",
            "Accuracy: 0.45\n",
            "Absolute Error: 51.23\n",
            "Accuracy: 0.45\n",
            "Absolute Error: 24.88\n"
          ]
        },
        {
          "output_type": "stream",
          "name": "stderr",
          "text": [
            "Batch perceptron training:  16%|█▌        | 15694/100000 [00:06<00:28, 2967.14it/s]"
          ]
        },
        {
          "output_type": "stream",
          "name": "stdout",
          "text": [
            "Accuracy: 0.45\n",
            "Absolute Error: 44.04\n",
            "Accuracy: 0.45\n",
            "Absolute Error: 57.85\n",
            "Accuracy: 0.45\n",
            "Absolute Error: 40.76\n",
            "Accuracy: 0.45\n",
            "Absolute Error: 61.33\n",
            "Accuracy: 0.45\n",
            "Absolute Error: 59.49\n"
          ]
        },
        {
          "output_type": "stream",
          "name": "stderr",
          "text": []
        },
        {
          "output_type": "stream",
          "name": "stdout",
          "text": [
            "Accuracy: 0.45\n",
            "Absolute Error: 24.92\n",
            "Accuracy: 0.45\n",
            "Absolute Error: 58.87\n",
            "Accuracy: 0.45\n",
            "Absolute Error: 33.75\n",
            "Accuracy: 0.45\n",
            "Absolute Error: 58.26\n",
            "Accuracy: 0.45\n",
            "Absolute Error: 47.04\n"
          ]
        },
        {
          "output_type": "stream",
          "name": "stderr",
          "text": [
            "Batch perceptron training:  17%|█▋        | 16674/100000 [00:06<00:28, 2922.46it/s]"
          ]
        },
        {
          "output_type": "stream",
          "name": "stdout",
          "text": [
            "Accuracy: 0.45\n",
            "Absolute Error: 36.80\n",
            "Accuracy: 0.45\n",
            "Absolute Error: 52.24\n",
            "Accuracy: 0.45\n",
            "Absolute Error: 42.86\n",
            "Accuracy: 0.45\n",
            "Absolute Error: 65.83\n",
            "Accuracy: 0.45\n",
            "Absolute Error: 50.83\n"
          ]
        },
        {
          "output_type": "stream",
          "name": "stderr",
          "text": [
            "Batch perceptron training:  17%|█▋        | 17363/100000 [00:06<00:26, 3103.49it/s]"
          ]
        },
        {
          "output_type": "stream",
          "name": "stdout",
          "text": [
            "Accuracy: 0.45\n",
            "Absolute Error: 48.14\n",
            "Accuracy: 0.45\n",
            "Absolute Error: 52.16\n",
            "Accuracy: 0.45\n",
            "Absolute Error: 42.68\n",
            "Accuracy: 0.45\n",
            "Absolute Error: 47.09\n",
            "Accuracy: 0.45\n",
            "Absolute Error: 30.18\n"
          ]
        },
        {
          "output_type": "stream",
          "name": "stderr",
          "text": [
            "Batch perceptron training:  18%|█▊        | 17992/100000 [00:07<00:27, 3019.66it/s]"
          ]
        },
        {
          "output_type": "stream",
          "name": "stdout",
          "text": [
            "Accuracy: 0.45\n",
            "Absolute Error: 46.70\n",
            "Accuracy: 0.45\n",
            "Absolute Error: 50.52\n",
            "Accuracy: 0.45\n",
            "Absolute Error: 41.73\n",
            "Accuracy: 0.45\n",
            "Absolute Error: 54.83\n",
            "Accuracy: 0.45\n",
            "Absolute Error: 48.34\n"
          ]
        },
        {
          "output_type": "stream",
          "name": "stderr",
          "text": []
        },
        {
          "output_type": "stream",
          "name": "stdout",
          "text": [
            "Accuracy: 0.45\n",
            "Absolute Error: 44.01\n",
            "Accuracy: 0.45\n",
            "Absolute Error: 52.18\n",
            "Accuracy: 0.45\n",
            "Absolute Error: 33.15\n",
            "Accuracy: 0.45\n",
            "Absolute Error: 49.25\n",
            "Accuracy: 0.45\n",
            "Absolute Error: 62.66\n",
            "Accuracy: 0.45\n"
          ]
        },
        {
          "output_type": "stream",
          "name": "stderr",
          "text": [
            "Batch perceptron training:  20%|█▉        | 19590/100000 [00:07<00:26, 3063.83it/s]"
          ]
        },
        {
          "output_type": "stream",
          "name": "stdout",
          "text": [
            "Absolute Error: 36.86\n",
            "Accuracy: 0.45\n",
            "Absolute Error: 31.68\n",
            "Accuracy: 0.45\n",
            "Absolute Error: 13.61\n",
            "Accuracy: 0.45\n",
            "Absolute Error: 58.46\n",
            "Accuracy: 0.45\n",
            "Absolute Error: 45.44\n",
            "Accuracy: 0.45\n",
            "Absolute Error: 46.93\n"
          ]
        },
        {
          "output_type": "stream",
          "name": "stderr",
          "text": [
            "Batch perceptron training:  20%|██        | 20251/100000 [00:07<00:26, 3057.52it/s]"
          ]
        },
        {
          "output_type": "stream",
          "name": "stdout",
          "text": [
            "Accuracy: 0.45\n",
            "Absolute Error: 39.20\n",
            "Accuracy: 0.45\n",
            "Absolute Error: 44.64\n",
            "Accuracy: 0.45\n",
            "Absolute Error: 33.26\n",
            "Accuracy: 0.45\n",
            "Absolute Error: 61.62\n",
            "Accuracy: 0.45\n",
            "Absolute Error: 29.32\n",
            "Accuracy: 0.45\n",
            "Absolute Error: 36.63\n"
          ]
        },
        {
          "output_type": "stream",
          "name": "stderr",
          "text": [
            "Batch perceptron training:  21%|██        | 20894/100000 [00:07<00:26, 3020.83it/s]"
          ]
        },
        {
          "output_type": "stream",
          "name": "stdout",
          "text": [
            "Accuracy: 0.45\n",
            "Absolute Error: 67.76\n",
            "Accuracy: 0.45\n",
            "Absolute Error: 25.18\n",
            "Accuracy: 0.45\n",
            "Absolute Error: 52.06\n",
            "Accuracy: 0.45\n",
            "Absolute Error: 67.14\n",
            "Accuracy: 0.45\n",
            "Absolute Error: 29.54\n"
          ]
        },
        {
          "output_type": "stream",
          "name": "stderr",
          "text": [
            "Batch perceptron training:  22%|██▏       | 21501/100000 [00:08<00:26, 2970.64it/s]"
          ]
        },
        {
          "output_type": "stream",
          "name": "stdout",
          "text": [
            "Accuracy: 0.45\n",
            "Absolute Error: 57.24\n",
            "Accuracy: 0.45\n",
            "Absolute Error: 44.27\n",
            "Accuracy: 0.45\n",
            "Absolute Error: 23.79\n",
            "Accuracy: 0.45\n",
            "Absolute Error: 42.32\n",
            "Accuracy: 0.45\n",
            "Absolute Error: 39.20\n"
          ]
        },
        {
          "output_type": "stream",
          "name": "stderr",
          "text": [
            "Batch perceptron training:  22%|██▏       | 22154/100000 [00:08<00:27, 2881.21it/s]"
          ]
        },
        {
          "output_type": "stream",
          "name": "stdout",
          "text": [
            "Accuracy: 0.45\n",
            "Absolute Error: 26.78\n",
            "Accuracy: 0.45\n",
            "Absolute Error: 43.46\n",
            "Accuracy: 0.45\n",
            "Absolute Error: 39.22\n",
            "Accuracy: 0.45\n",
            "Absolute Error: 69.04\n",
            "Accuracy: 0.45\n",
            "Absolute Error: 24.62\n"
          ]
        },
        {
          "output_type": "stream",
          "name": "stderr",
          "text": [
            "Batch perceptron training:  23%|██▎       | 22751/100000 [00:08<00:27, 2829.90it/s]"
          ]
        },
        {
          "output_type": "stream",
          "name": "stdout",
          "text": [
            "Accuracy: 0.45\n",
            "Absolute Error: 30.98\n",
            "Accuracy: 0.45\n",
            "Absolute Error: 61.61\n",
            "Accuracy: 0.45\n",
            "Absolute Error: 66.79\n",
            "Accuracy: 0.45\n",
            "Absolute Error: 38.17\n",
            "Accuracy: 0.45\n",
            "Absolute Error: 39.03\n"
          ]
        },
        {
          "output_type": "stream",
          "name": "stderr",
          "text": [
            "Batch perceptron training:  23%|██▎       | 23107/100000 [00:08<00:25, 3035.59it/s]"
          ]
        },
        {
          "output_type": "stream",
          "name": "stdout",
          "text": [
            "Accuracy: 0.45\n",
            "Absolute Error: 43.31\n",
            "Accuracy: 0.45\n",
            "Absolute Error: 60.73\n",
            "Accuracy: 0.45\n",
            "Absolute Error: 28.92\n",
            "Accuracy: 0.45\n",
            "Absolute Error: 70.66\n",
            "Accuracy: 0.45\n",
            "Absolute Error: 43.77\n"
          ]
        },
        {
          "output_type": "stream",
          "name": "stderr",
          "text": [
            "Batch perceptron training:  24%|██▍       | 24002/100000 [00:09<00:27, 2814.69it/s]"
          ]
        },
        {
          "output_type": "stream",
          "name": "stdout",
          "text": [
            "Accuracy: 0.45\n",
            "Absolute Error: 41.90\n",
            "Accuracy: 0.45\n",
            "Absolute Error: 38.98\n",
            "Accuracy: 0.45\n",
            "Absolute Error: 65.79\n",
            "Accuracy: 0.45\n",
            "Absolute Error: 9.83\n",
            "Accuracy: 0.45\n",
            "Absolute Error: 36.69\n"
          ]
        },
        {
          "output_type": "stream",
          "name": "stderr",
          "text": [
            "Batch perceptron training:  25%|██▍       | 24626/100000 [00:09<00:26, 2808.04it/s]"
          ]
        },
        {
          "output_type": "stream",
          "name": "stdout",
          "text": [
            "Accuracy: 0.45\n",
            "Absolute Error: 26.62\n",
            "Accuracy: 0.45\n",
            "Absolute Error: 23.09\n",
            "Accuracy: 0.45\n",
            "Absolute Error: 52.89\n",
            "Accuracy: 0.45\n",
            "Absolute Error: 44.23\n",
            "Accuracy: 0.45\n",
            "Absolute Error: 31.64\n"
          ]
        },
        {
          "output_type": "stream",
          "name": "stderr",
          "text": [
            "Batch perceptron training:  25%|██▌       | 25200/100000 [00:09<00:27, 2708.91it/s]"
          ]
        },
        {
          "output_type": "stream",
          "name": "stdout",
          "text": [
            "Accuracy: 0.45\n",
            "Absolute Error: 50.31\n",
            "Accuracy: 0.45\n",
            "Absolute Error: 54.48\n",
            "Accuracy: 0.45\n",
            "Absolute Error: 37.03\n",
            "Accuracy: 0.45\n",
            "Absolute Error: 46.92\n",
            "Accuracy: 0.45\n"
          ]
        },
        {
          "output_type": "stream",
          "name": "stderr",
          "text": [
            "Batch perceptron training:  26%|██▌       | 25801/100000 [00:09<00:26, 2822.16it/s]"
          ]
        },
        {
          "output_type": "stream",
          "name": "stdout",
          "text": [
            "Absolute Error: 52.38\n",
            "Accuracy: 0.45\n",
            "Absolute Error: 54.02\n",
            "Accuracy: 0.45\n",
            "Absolute Error: 53.82\n",
            "Accuracy: 0.45\n",
            "Absolute Error: 38.34\n",
            "Accuracy: 0.45\n",
            "Absolute Error: 49.07\n"
          ]
        },
        {
          "output_type": "stream",
          "name": "stderr",
          "text": [
            "Batch perceptron training:  26%|██▋       | 26376/100000 [00:09<00:26, 2750.37it/s]"
          ]
        },
        {
          "output_type": "stream",
          "name": "stdout",
          "text": [
            "Accuracy: 0.45\n",
            "Absolute Error: 43.50\n",
            "Accuracy: 0.45\n",
            "Absolute Error: 57.28\n",
            "Accuracy: 0.45\n",
            "Absolute Error: 68.59\n",
            "Accuracy: 0.45\n",
            "Absolute Error: 76.55\n",
            "Accuracy: 0.45\n",
            "Absolute Error: 31.39\n"
          ]
        },
        {
          "output_type": "stream",
          "name": "stderr",
          "text": [
            "Batch perceptron training:  27%|██▋       | 26937/100000 [00:10<00:28, 2524.82it/s]"
          ]
        },
        {
          "output_type": "stream",
          "name": "stdout",
          "text": [
            "Accuracy: 0.45\n",
            "Absolute Error: 42.51\n",
            "Accuracy: 0.45\n",
            "Absolute Error: 39.43\n",
            "Accuracy: 0.45\n",
            "Absolute Error: 56.75\n",
            "Accuracy: 0.45\n",
            "Absolute Error: 42.69\n"
          ]
        },
        {
          "output_type": "stream",
          "name": "stderr",
          "text": [
            "Batch perceptron training:  27%|██▋       | 27444/100000 [00:10<00:29, 2438.95it/s]"
          ]
        },
        {
          "output_type": "stream",
          "name": "stdout",
          "text": [
            "Accuracy: 0.45\n",
            "Absolute Error: 44.72\n",
            "Accuracy: 0.45\n",
            "Absolute Error: 46.20\n",
            "Accuracy: 0.45\n",
            "Absolute Error: 40.87\n",
            "Accuracy: 0.45\n",
            "Absolute Error: 37.64\n"
          ]
        },
        {
          "output_type": "stream",
          "name": "stderr",
          "text": [
            "Batch perceptron training:  28%|██▊       | 27931/100000 [00:10<00:30, 2376.86it/s]"
          ]
        },
        {
          "output_type": "stream",
          "name": "stdout",
          "text": [
            "Accuracy: 0.45\n",
            "Absolute Error: 51.23\n",
            "Accuracy: 0.45\n",
            "Absolute Error: 51.48\n",
            "Accuracy: 0.45\n",
            "Absolute Error: 64.94\n",
            "Accuracy: 0.45\n",
            "Absolute Error: 60.68\n"
          ]
        },
        {
          "output_type": "stream",
          "name": "stderr",
          "text": [
            "Batch perceptron training:  28%|██▊       | 28457/100000 [00:10<00:28, 2500.01it/s]"
          ]
        },
        {
          "output_type": "stream",
          "name": "stdout",
          "text": [
            "Accuracy: 0.45\n",
            "Absolute Error: 47.81\n",
            "Accuracy: 0.45\n",
            "Absolute Error: 39.57\n",
            "Accuracy: 0.45\n",
            "Absolute Error: 45.20\n",
            "Accuracy: 0.45\n",
            "Absolute Error: 29.33\n",
            "Accuracy: 0.45\n",
            "Absolute Error: 19.91\n"
          ]
        },
        {
          "output_type": "stream",
          "name": "stderr",
          "text": [
            "Batch perceptron training:  29%|██▉       | 28961/100000 [00:11<00:30, 2364.09it/s]"
          ]
        },
        {
          "output_type": "stream",
          "name": "stdout",
          "text": [
            "Accuracy: 0.45\n",
            "Absolute Error: 52.04\n",
            "Accuracy: 0.45\n",
            "Absolute Error: 42.23\n",
            "Accuracy: 0.45\n",
            "Absolute Error: 68.27\n",
            "Accuracy: 0.45\n",
            "Absolute Error: 42.59\n"
          ]
        },
        {
          "output_type": "stream",
          "name": "stderr",
          "text": []
        },
        {
          "output_type": "stream",
          "name": "stdout",
          "text": [
            "Accuracy: 0.45\n",
            "Absolute Error: 36.09\n",
            "Accuracy: 0.45\n",
            "Absolute Error: 46.50\n",
            "Accuracy: 0.45\n",
            "Absolute Error: 56.63\n",
            "Accuracy: 0.45\n",
            "Absolute Error: 18.59\n"
          ]
        },
        {
          "output_type": "stream",
          "name": "stderr",
          "text": []
        },
        {
          "output_type": "stream",
          "name": "stdout",
          "text": [
            "Accuracy: 0.45\n",
            "Absolute Error: 40.70\n",
            "Accuracy: 0.45\n",
            "Absolute Error: 50.12\n",
            "Accuracy: 0.45\n",
            "Absolute Error: 48.06\n",
            "Accuracy: 0.45\n",
            "Absolute Error: 30.36\n",
            "Accuracy: 0.45\n"
          ]
        },
        {
          "output_type": "stream",
          "name": "stderr",
          "text": [
            "Batch perceptron training:  30%|███       | 30456/100000 [00:11<00:28, 2469.84it/s]"
          ]
        },
        {
          "output_type": "stream",
          "name": "stdout",
          "text": [
            "Absolute Error: 19.07\n",
            "Accuracy: 0.45\n",
            "Absolute Error: 39.24\n",
            "Accuracy: 0.45\n",
            "Absolute Error: 39.07\n",
            "Accuracy: 0.45\n",
            "Absolute Error: 54.00\n",
            "Accuracy: 0.45\n"
          ]
        },
        {
          "output_type": "stream",
          "name": "stderr",
          "text": [
            "Batch perceptron training:  31%|███       | 30972/100000 [00:11<00:27, 2528.03it/s]"
          ]
        },
        {
          "output_type": "stream",
          "name": "stdout",
          "text": [
            "Absolute Error: 24.12\n",
            "Accuracy: 0.45\n",
            "Absolute Error: 52.23\n",
            "Accuracy: 0.45\n",
            "Absolute Error: 22.68\n",
            "Accuracy: 0.45\n",
            "Absolute Error: 45.26\n",
            "Accuracy: 0.45\n",
            "Absolute Error: 53.31\n"
          ]
        },
        {
          "output_type": "stream",
          "name": "stderr",
          "text": [
            "Batch perceptron training:  32%|███▏      | 31766/100000 [00:12<00:26, 2533.40it/s]"
          ]
        },
        {
          "output_type": "stream",
          "name": "stdout",
          "text": [
            "Accuracy: 0.45\n",
            "Absolute Error: 58.65\n",
            "Accuracy: 0.45\n",
            "Absolute Error: 38.94\n",
            "Accuracy: 0.45\n",
            "Absolute Error: 34.98\n",
            "Accuracy: 0.45\n",
            "Absolute Error: 34.18\n",
            "Accuracy: 0.45\n",
            "Absolute Error: 27.18\n"
          ]
        },
        {
          "output_type": "stream",
          "name": "stderr",
          "text": [
            "Batch perceptron training:  32%|███▏      | 32270/100000 [00:12<00:27, 2435.58it/s]"
          ]
        },
        {
          "output_type": "stream",
          "name": "stdout",
          "text": [
            "Accuracy: 0.45\n",
            "Absolute Error: 43.07\n",
            "Accuracy: 0.45\n",
            "Absolute Error: 58.45\n",
            "Accuracy: 0.45\n",
            "Absolute Error: 47.93\n",
            "Accuracy: 0.45\n",
            "Absolute Error: 41.72\n"
          ]
        },
        {
          "output_type": "stream",
          "name": "stderr",
          "text": [
            "Batch perceptron training:  33%|███▎      | 32776/100000 [00:12<00:27, 2449.42it/s]"
          ]
        },
        {
          "output_type": "stream",
          "name": "stdout",
          "text": [
            "Accuracy: 0.45\n",
            "Absolute Error: 43.85\n",
            "Accuracy: 0.45\n",
            "Absolute Error: 56.40\n",
            "Accuracy: 0.45\n",
            "Absolute Error: 29.57\n",
            "Accuracy: 0.45\n",
            "Absolute Error: 59.04\n"
          ]
        },
        {
          "output_type": "stream",
          "name": "stderr",
          "text": [
            "Batch perceptron training:  33%|███▎      | 33260/100000 [00:12<00:29, 2262.07it/s]"
          ]
        },
        {
          "output_type": "stream",
          "name": "stdout",
          "text": [
            "Accuracy: 0.45\n",
            "Absolute Error: 48.81\n",
            "Accuracy: 0.45\n",
            "Absolute Error: 40.66\n",
            "Accuracy: 0.45\n",
            "Absolute Error: 46.03\n",
            "Accuracy: 0.45\n",
            "Absolute Error: 39.04\n"
          ]
        },
        {
          "output_type": "stream",
          "name": "stderr",
          "text": [
            "Batch perceptron training:  34%|███▍      | 33751/100000 [00:12<00:29, 2214.59it/s]"
          ]
        },
        {
          "output_type": "stream",
          "name": "stdout",
          "text": [
            "Accuracy: 0.45\n",
            "Absolute Error: 63.71\n",
            "Accuracy: 0.45\n",
            "Absolute Error: 31.57\n",
            "Accuracy: 0.45\n",
            "Absolute Error: 50.74\n",
            "Accuracy: 0.45\n",
            "Absolute Error: 62.92\n"
          ]
        },
        {
          "output_type": "stream",
          "name": "stderr",
          "text": [
            "Batch perceptron training:  34%|███▍      | 34251/100000 [00:13<00:28, 2294.28it/s]"
          ]
        },
        {
          "output_type": "stream",
          "name": "stdout",
          "text": [
            "Accuracy: 0.45\n",
            "Absolute Error: 43.83\n",
            "Accuracy: 0.45\n",
            "Absolute Error: 34.63\n",
            "Accuracy: 0.45\n",
            "Absolute Error: 53.50\n",
            "Accuracy: 0.45\n",
            "Absolute Error: 39.98\n"
          ]
        },
        {
          "output_type": "stream",
          "name": "stderr",
          "text": [
            "Batch perceptron training:  35%|███▍      | 34849/100000 [00:13<00:24, 2636.21it/s]"
          ]
        },
        {
          "output_type": "stream",
          "name": "stdout",
          "text": [
            "Accuracy: 0.45\n",
            "Absolute Error: 30.93\n",
            "Accuracy: 0.45\n",
            "Absolute Error: 14.65\n",
            "Accuracy: 0.45\n",
            "Absolute Error: 51.27\n",
            "Accuracy: 0.45\n",
            "Absolute Error: 61.52\n",
            "Accuracy: 0.45\n",
            "Absolute Error: 22.03\n"
          ]
        },
        {
          "output_type": "stream",
          "name": "stderr",
          "text": [
            "Batch perceptron training:  35%|███▌      | 35376/100000 [00:13<00:25, 2528.64it/s]"
          ]
        },
        {
          "output_type": "stream",
          "name": "stdout",
          "text": [
            "Accuracy: 0.45\n",
            "Absolute Error: 43.34\n",
            "Accuracy: 0.45\n",
            "Absolute Error: 62.86\n",
            "Accuracy: 0.45\n",
            "Absolute Error: 44.70\n",
            "Accuracy: 0.45\n",
            "Absolute Error: 40.82\n",
            "Accuracy: 0.45\n",
            "Absolute Error: 59.90\n"
          ]
        },
        {
          "output_type": "stream",
          "name": "stderr",
          "text": [
            "Batch perceptron training:  36%|███▌      | 35976/100000 [00:13<00:23, 2692.70it/s]"
          ]
        },
        {
          "output_type": "stream",
          "name": "stdout",
          "text": [
            "Accuracy: 0.45\n",
            "Absolute Error: 43.84\n",
            "Accuracy: 0.45\n",
            "Absolute Error: 65.91\n",
            "Accuracy: 0.45\n",
            "Absolute Error: 55.68\n",
            "Accuracy: 0.45\n",
            "Absolute Error: 46.83\n",
            "Accuracy: 0.45\n",
            "Absolute Error: 50.11\n"
          ]
        },
        {
          "output_type": "stream",
          "name": "stderr",
          "text": [
            "Batch perceptron training:  37%|███▋      | 36520/100000 [00:14<00:24, 2609.06it/s]"
          ]
        },
        {
          "output_type": "stream",
          "name": "stdout",
          "text": [
            "Accuracy: 0.45\n",
            "Absolute Error: 36.22\n",
            "Accuracy: 0.45\n",
            "Absolute Error: 57.69\n",
            "Accuracy: 0.45\n",
            "Absolute Error: 40.40\n",
            "Accuracy: 0.45\n",
            "Absolute Error: 35.11\n",
            "Accuracy: 0.45\n",
            "Absolute Error: 48.37\n"
          ]
        },
        {
          "output_type": "stream",
          "name": "stderr",
          "text": [
            "Batch perceptron training:  37%|███▋      | 37390/100000 [00:14<00:22, 2733.05it/s]"
          ]
        },
        {
          "output_type": "stream",
          "name": "stdout",
          "text": [
            "Accuracy: 0.45\n",
            "Absolute Error: 43.52\n",
            "Accuracy: 0.45\n",
            "Absolute Error: 29.87\n",
            "Accuracy: 0.45\n",
            "Absolute Error: 42.20\n",
            "Accuracy: 0.45\n",
            "Absolute Error: 18.55\n",
            "Accuracy: 0.45\n",
            "Absolute Error: 48.07\n"
          ]
        },
        {
          "output_type": "stream",
          "name": "stderr",
          "text": [
            "Batch perceptron training:  38%|███▊      | 37978/100000 [00:14<00:22, 2785.98it/s]"
          ]
        },
        {
          "output_type": "stream",
          "name": "stdout",
          "text": [
            "Accuracy: 0.45\n",
            "Absolute Error: 56.90\n",
            "Accuracy: 0.45\n",
            "Absolute Error: 36.75\n",
            "Accuracy: 0.45\n",
            "Absolute Error: 34.49\n",
            "Accuracy: 0.45\n",
            "Absolute Error: 72.02\n",
            "Accuracy: 0.45\n",
            "Absolute Error: 61.78\n"
          ]
        },
        {
          "output_type": "stream",
          "name": "stderr",
          "text": [
            "Batch perceptron training:  39%|███▊      | 38618/100000 [00:14<00:21, 2893.53it/s]"
          ]
        },
        {
          "output_type": "stream",
          "name": "stdout",
          "text": [
            "Accuracy: 0.45\n",
            "Absolute Error: 31.43\n",
            "Accuracy: 0.45\n",
            "Absolute Error: 35.27\n",
            "Accuracy: 0.45\n",
            "Absolute Error: 41.96\n",
            "Accuracy: 0.45\n",
            "Absolute Error: 28.82\n",
            "Accuracy: 0.45\n",
            "Absolute Error: 36.31\n"
          ]
        },
        {
          "output_type": "stream",
          "name": "stderr",
          "text": [
            "Batch perceptron training:  39%|███▉      | 39251/100000 [00:15<00:21, 2812.16it/s]"
          ]
        },
        {
          "output_type": "stream",
          "name": "stdout",
          "text": [
            "Accuracy: 0.45\n",
            "Absolute Error: 63.36\n",
            "Accuracy: 0.45\n",
            "Absolute Error: 36.17\n",
            "Accuracy: 0.45\n",
            "Absolute Error: 37.03\n",
            "Accuracy: 0.45\n",
            "Absolute Error: 39.72\n",
            "Accuracy: 0.45\n",
            "Absolute Error: 31.09\n"
          ]
        },
        {
          "output_type": "stream",
          "name": "stderr",
          "text": [
            "Batch perceptron training:  40%|███▉      | 39876/100000 [00:15<00:21, 2853.96it/s]"
          ]
        },
        {
          "output_type": "stream",
          "name": "stdout",
          "text": [
            "Accuracy: 0.45\n",
            "Absolute Error: 34.30\n",
            "Accuracy: 0.45\n",
            "Absolute Error: 46.54\n",
            "Accuracy: 0.45\n",
            "Absolute Error: 38.33\n",
            "Accuracy: 0.45\n",
            "Absolute Error: 61.16\n",
            "Accuracy: 0.45\n",
            "Absolute Error: 57.11\n"
          ]
        },
        {
          "output_type": "stream",
          "name": "stderr",
          "text": [
            "Batch perceptron training:  40%|████      | 40450/100000 [00:15<00:20, 2839.79it/s]"
          ]
        },
        {
          "output_type": "stream",
          "name": "stdout",
          "text": [
            "Accuracy: 0.45\n",
            "Absolute Error: 61.89\n",
            "Accuracy: 0.45\n",
            "Absolute Error: 53.49\n",
            "Accuracy: 0.45\n",
            "Absolute Error: 38.69\n",
            "Accuracy: 0.45\n",
            "Absolute Error: 50.47\n",
            "Accuracy: 0.45\n",
            "Absolute Error: 35.82\n"
          ]
        },
        {
          "output_type": "stream",
          "name": "stderr",
          "text": [
            "Batch perceptron training:  41%|████      | 41030/100000 [00:15<00:21, 2773.18it/s]"
          ]
        },
        {
          "output_type": "stream",
          "name": "stdout",
          "text": [
            "Accuracy: 0.45\n",
            "Absolute Error: 23.89\n",
            "Accuracy: 0.45\n",
            "Absolute Error: 50.75\n",
            "Accuracy: 0.45\n",
            "Absolute Error: 31.44\n",
            "Accuracy: 0.45\n",
            "Absolute Error: 26.07\n",
            "Accuracy: 0.45\n",
            "Absolute Error: 39.57\n"
          ]
        },
        {
          "output_type": "stream",
          "name": "stderr",
          "text": [
            "Batch perceptron training:  42%|████▏     | 41640/100000 [00:15<00:21, 2675.76it/s]"
          ]
        },
        {
          "output_type": "stream",
          "name": "stdout",
          "text": [
            "Accuracy: 0.45\n",
            "Absolute Error: 53.57\n",
            "Accuracy: 0.45\n",
            "Absolute Error: 58.09\n",
            "Accuracy: 0.45\n",
            "Absolute Error: 32.44\n",
            "Accuracy: 0.45\n",
            "Absolute Error: 51.46\n",
            "Accuracy: 0.45\n",
            "Absolute Error: 45.03\n"
          ]
        },
        {
          "output_type": "stream",
          "name": "stderr",
          "text": [
            "Batch perceptron training:  42%|████▏     | 42238/100000 [00:16<00:20, 2841.70it/s]"
          ]
        },
        {
          "output_type": "stream",
          "name": "stdout",
          "text": [
            "Accuracy: 0.45\n",
            "Absolute Error: 59.31\n",
            "Accuracy: 0.45\n",
            "Absolute Error: 44.96\n",
            "Accuracy: 0.45\n",
            "Absolute Error: 47.55\n",
            "Accuracy: 0.45\n",
            "Absolute Error: 58.23\n",
            "Accuracy: 0.45\n",
            "Absolute Error: 18.12\n"
          ]
        },
        {
          "output_type": "stream",
          "name": "stderr",
          "text": [
            "Batch perceptron training:  43%|████▎     | 42803/100000 [00:16<00:20, 2736.31it/s]"
          ]
        },
        {
          "output_type": "stream",
          "name": "stdout",
          "text": [
            "Accuracy: 0.45\n",
            "Absolute Error: 62.24\n",
            "Accuracy: 0.45\n",
            "Absolute Error: 48.75\n",
            "Accuracy: 0.45\n",
            "Absolute Error: 28.41\n",
            "Accuracy: 0.45\n",
            "Absolute Error: 37.39\n",
            "Accuracy: 0.45\n",
            "Absolute Error: 47.23\n"
          ]
        },
        {
          "output_type": "stream",
          "name": "stderr",
          "text": [
            "Batch perceptron training:  44%|████▎     | 43730/100000 [00:16<00:19, 2940.76it/s]"
          ]
        },
        {
          "output_type": "stream",
          "name": "stdout",
          "text": [
            "Accuracy: 0.45\n",
            "Absolute Error: 48.69\n",
            "Accuracy: 0.45\n",
            "Absolute Error: 47.37\n",
            "Accuracy: 0.45\n",
            "Absolute Error: 48.84\n",
            "Accuracy: 0.45\n",
            "Absolute Error: 35.57\n",
            "Accuracy: 0.45\n",
            "Absolute Error: 44.72\n"
          ]
        },
        {
          "output_type": "stream",
          "name": "stderr",
          "text": [
            "Batch perceptron training:  44%|████▍     | 44026/100000 [00:16<00:20, 2746.98it/s]"
          ]
        },
        {
          "output_type": "stream",
          "name": "stdout",
          "text": [
            "Accuracy: 0.45\n",
            "Absolute Error: 25.58\n",
            "Accuracy: 0.45\n",
            "Absolute Error: 49.41\n",
            "Accuracy: 0.45\n",
            "Absolute Error: 47.31\n",
            "Accuracy: 0.45\n",
            "Absolute Error: 60.02\n",
            "Accuracy: 0.45\n",
            "Absolute Error: 47.67\n"
          ]
        },
        {
          "output_type": "stream",
          "name": "stderr",
          "text": [
            "Batch perceptron training:  45%|████▍     | 44876/100000 [00:17<00:20, 2673.86it/s]"
          ]
        },
        {
          "output_type": "stream",
          "name": "stdout",
          "text": [
            "Accuracy: 0.45\n",
            "Absolute Error: 38.83\n",
            "Accuracy: 0.45\n",
            "Absolute Error: 51.48\n",
            "Accuracy: 0.45\n",
            "Absolute Error: 54.57\n",
            "Accuracy: 0.45\n",
            "Absolute Error: 52.61\n",
            "Accuracy: 0.45\n",
            "Absolute Error: 44.17\n"
          ]
        },
        {
          "output_type": "stream",
          "name": "stderr",
          "text": [
            "Batch perceptron training:  45%|████▌     | 45414/100000 [00:17<00:20, 2671.66it/s]"
          ]
        },
        {
          "output_type": "stream",
          "name": "stdout",
          "text": [
            "Accuracy: 0.45\n",
            "Absolute Error: 22.74\n",
            "Accuracy: 0.45\n",
            "Absolute Error: 38.32\n",
            "Accuracy: 0.45\n",
            "Absolute Error: 34.86\n",
            "Accuracy: 0.45\n",
            "Absolute Error: 46.61\n",
            "Accuracy: 0.45\n",
            "Absolute Error: 44.36\n"
          ]
        },
        {
          "output_type": "stream",
          "name": "stderr",
          "text": [
            "Batch perceptron training:  46%|████▌     | 46000/100000 [00:17<00:19, 2774.16it/s]"
          ]
        },
        {
          "output_type": "stream",
          "name": "stdout",
          "text": [
            "Accuracy: 0.45\n",
            "Absolute Error: 38.98\n",
            "Accuracy: 0.45\n",
            "Absolute Error: 45.57\n",
            "Accuracy: 0.45\n",
            "Absolute Error: 29.98\n",
            "Accuracy: 0.45\n",
            "Absolute Error: 56.65\n",
            "Accuracy: 0.45\n",
            "Absolute Error: 36.12\n"
          ]
        },
        {
          "output_type": "stream",
          "name": "stderr",
          "text": [
            "Batch perceptron training:  47%|████▋     | 46587/100000 [00:17<00:19, 2698.01it/s]"
          ]
        },
        {
          "output_type": "stream",
          "name": "stdout",
          "text": [
            "Accuracy: 0.45\n",
            "Absolute Error: 21.99\n",
            "Accuracy: 0.45\n",
            "Absolute Error: 60.70\n",
            "Accuracy: 0.45\n",
            "Absolute Error: 44.73\n",
            "Accuracy: 0.45\n",
            "Absolute Error: 66.67\n",
            "Accuracy: 0.45\n",
            "Absolute Error: 37.29\n"
          ]
        },
        {
          "output_type": "stream",
          "name": "stderr",
          "text": [
            "Batch perceptron training:  47%|████▋     | 47182/100000 [00:17<00:19, 2745.48it/s]"
          ]
        },
        {
          "output_type": "stream",
          "name": "stdout",
          "text": [
            "Accuracy: 0.45\n",
            "Absolute Error: 42.77\n",
            "Accuracy: 0.45\n",
            "Absolute Error: 32.57\n",
            "Accuracy: 0.45\n",
            "Absolute Error: 44.78\n",
            "Accuracy: 0.45\n",
            "Absolute Error: 28.78\n",
            "Accuracy: 0.45\n",
            "Absolute Error: 50.06\n"
          ]
        },
        {
          "output_type": "stream",
          "name": "stderr",
          "text": [
            "Batch perceptron training:  48%|████▊     | 47751/100000 [00:18<00:19, 2642.24it/s]"
          ]
        },
        {
          "output_type": "stream",
          "name": "stdout",
          "text": [
            "Accuracy: 0.45\n",
            "Absolute Error: 28.40\n",
            "Accuracy: 0.45\n",
            "Absolute Error: 36.25\n",
            "Accuracy: 0.45\n",
            "Absolute Error: 53.34\n",
            "Accuracy: 0.45\n",
            "Absolute Error: 48.57\n",
            "Accuracy: 0.45\n",
            "Absolute Error: 48.39\n"
          ]
        },
        {
          "output_type": "stream",
          "name": "stderr",
          "text": [
            "Batch perceptron training:  48%|████▊     | 48372/100000 [00:18<00:18, 2840.32it/s]"
          ]
        },
        {
          "output_type": "stream",
          "name": "stdout",
          "text": [
            "Accuracy: 0.45\n",
            "Absolute Error: 42.01\n",
            "Accuracy: 0.45\n",
            "Absolute Error: 78.41\n",
            "Accuracy: 0.45\n",
            "Absolute Error: 52.73\n",
            "Accuracy: 0.45\n",
            "Absolute Error: 40.05\n",
            "Accuracy: 0.45\n",
            "Absolute Error: 45.48\n"
          ]
        },
        {
          "output_type": "stream",
          "name": "stderr",
          "text": [
            "Batch perceptron training:  49%|████▉     | 49270/100000 [00:18<00:18, 2677.10it/s]"
          ]
        },
        {
          "output_type": "stream",
          "name": "stdout",
          "text": [
            "Accuracy: 0.45\n",
            "Absolute Error: 54.54\n",
            "Accuracy: 0.45\n",
            "Absolute Error: 19.99\n",
            "Accuracy: 0.45\n",
            "Absolute Error: 42.65\n",
            "Accuracy: 0.45\n",
            "Absolute Error: 38.06\n",
            "Accuracy: 0.45\n",
            "Absolute Error: 32.79\n"
          ]
        },
        {
          "output_type": "stream",
          "name": "stderr",
          "text": [
            "Batch perceptron training:  50%|████▉     | 49818/100000 [00:18<00:18, 2691.55it/s]"
          ]
        },
        {
          "output_type": "stream",
          "name": "stdout",
          "text": [
            "Accuracy: 0.45\n",
            "Absolute Error: 28.35\n",
            "Accuracy: 0.45\n",
            "Absolute Error: 48.02\n",
            "Accuracy: 0.45\n",
            "Absolute Error: 29.13\n",
            "Accuracy: 0.45\n",
            "Absolute Error: 29.55\n",
            "Accuracy: 0.45\n",
            "Absolute Error: 43.95\n"
          ]
        },
        {
          "output_type": "stream",
          "name": "stderr",
          "text": [
            "Batch perceptron training:  50%|█████     | 50397/100000 [00:19<00:18, 2613.48it/s]"
          ]
        },
        {
          "output_type": "stream",
          "name": "stdout",
          "text": [
            "Accuracy: 0.45\n",
            "Absolute Error: 53.08\n",
            "Accuracy: 0.45\n",
            "Absolute Error: 29.88\n",
            "Accuracy: 0.45\n",
            "Absolute Error: 31.76\n",
            "Accuracy: 0.45\n",
            "Absolute Error: 41.96\n",
            "Accuracy: 0.45\n",
            "Absolute Error: 36.19\n"
          ]
        },
        {
          "output_type": "stream",
          "name": "stderr",
          "text": [
            "Batch perceptron training:  51%|█████     | 51004/100000 [00:19<00:17, 2744.62it/s]"
          ]
        },
        {
          "output_type": "stream",
          "name": "stdout",
          "text": [
            "Accuracy: 0.45\n",
            "Absolute Error: 42.59\n",
            "Accuracy: 0.45\n",
            "Absolute Error: 55.59\n",
            "Accuracy: 0.45\n",
            "Absolute Error: 43.36\n",
            "Accuracy: 0.45\n",
            "Absolute Error: 43.02\n",
            "Accuracy: 0.45\n",
            "Absolute Error: 45.50\n"
          ]
        },
        {
          "output_type": "stream",
          "name": "stderr",
          "text": [
            "Batch perceptron training:  52%|█████▏    | 51590/100000 [00:19<00:17, 2810.54it/s]"
          ]
        },
        {
          "output_type": "stream",
          "name": "stdout",
          "text": [
            "Accuracy: 0.45\n",
            "Absolute Error: 39.24\n",
            "Accuracy: 0.45\n",
            "Absolute Error: 70.86\n",
            "Accuracy: 0.45\n",
            "Absolute Error: 44.71\n",
            "Accuracy: 0.45\n",
            "Absolute Error: 69.99\n",
            "Accuracy: 0.45\n",
            "Absolute Error: 47.30\n"
          ]
        },
        {
          "output_type": "stream",
          "name": "stderr",
          "text": [
            "Batch perceptron training:  52%|█████▏    | 52172/100000 [00:19<00:16, 2839.00it/s]"
          ]
        },
        {
          "output_type": "stream",
          "name": "stdout",
          "text": [
            "Accuracy: 0.45\n",
            "Absolute Error: 52.25\n",
            "Accuracy: 0.45\n",
            "Absolute Error: 50.08\n",
            "Accuracy: 0.45\n",
            "Absolute Error: 57.73\n",
            "Accuracy: 0.45\n",
            "Absolute Error: 60.06\n",
            "Accuracy: 0.45\n",
            "Absolute Error: 50.17\n"
          ]
        },
        {
          "output_type": "stream",
          "name": "stderr",
          "text": [
            "Batch perceptron training:  53%|█████▎    | 52787/100000 [00:20<00:17, 2774.31it/s]"
          ]
        },
        {
          "output_type": "stream",
          "name": "stdout",
          "text": [
            "Accuracy: 0.45\n",
            "Absolute Error: 49.73\n",
            "Accuracy: 0.45\n",
            "Absolute Error: 42.78\n",
            "Accuracy: 0.45\n",
            "Absolute Error: 52.64\n",
            "Accuracy: 0.45\n",
            "Absolute Error: 56.45\n",
            "Accuracy: 0.45\n",
            "Absolute Error: 71.36\n"
          ]
        },
        {
          "output_type": "stream",
          "name": "stderr",
          "text": [
            "Batch perceptron training:  54%|█████▎    | 53668/100000 [00:20<00:16, 2815.37it/s]"
          ]
        },
        {
          "output_type": "stream",
          "name": "stdout",
          "text": [
            "Accuracy: 0.45\n",
            "Absolute Error: 49.52\n",
            "Accuracy: 0.45\n",
            "Absolute Error: 52.02\n",
            "Accuracy: 0.45\n",
            "Absolute Error: 66.46\n",
            "Accuracy: 0.45\n",
            "Absolute Error: 33.04\n",
            "Accuracy: 0.45\n",
            "Absolute Error: 62.86\n"
          ]
        },
        {
          "output_type": "stream",
          "name": "stderr",
          "text": [
            "Batch perceptron training:  54%|█████▍    | 54254/100000 [00:20<00:16, 2702.25it/s]"
          ]
        },
        {
          "output_type": "stream",
          "name": "stdout",
          "text": [
            "Accuracy: 0.45\n",
            "Absolute Error: 36.61\n",
            "Accuracy: 0.45\n",
            "Absolute Error: 46.77\n",
            "Accuracy: 0.45\n",
            "Absolute Error: 42.75\n",
            "Accuracy: 0.45\n",
            "Absolute Error: 52.93\n",
            "Accuracy: 0.45\n",
            "Absolute Error: 31.29\n"
          ]
        },
        {
          "output_type": "stream",
          "name": "stderr",
          "text": [
            "Batch perceptron training:  55%|█████▍    | 54819/100000 [00:20<00:16, 2757.67it/s]"
          ]
        },
        {
          "output_type": "stream",
          "name": "stdout",
          "text": [
            "Accuracy: 0.45\n",
            "Absolute Error: 67.09\n",
            "Accuracy: 0.45\n",
            "Absolute Error: 44.21\n",
            "Accuracy: 0.45\n",
            "Absolute Error: 40.60\n",
            "Accuracy: 0.45\n",
            "Absolute Error: 39.06\n",
            "Accuracy: 0.45\n",
            "Absolute Error: 46.54\n"
          ]
        },
        {
          "output_type": "stream",
          "name": "stderr",
          "text": [
            "Batch perceptron training:  55%|█████▌    | 55373/100000 [00:20<00:16, 2732.98it/s]"
          ]
        },
        {
          "output_type": "stream",
          "name": "stdout",
          "text": [
            "Accuracy: 0.45\n",
            "Absolute Error: 72.62\n",
            "Accuracy: 0.45\n",
            "Absolute Error: 42.96\n",
            "Accuracy: 0.45\n",
            "Absolute Error: 18.47\n",
            "Accuracy: 0.45\n",
            "Absolute Error: 40.89\n",
            "Accuracy: 0.45\n",
            "Absolute Error: 42.86\n"
          ]
        },
        {
          "output_type": "stream",
          "name": "stderr",
          "text": [
            "Batch perceptron training:  56%|█████▌    | 55928/100000 [00:21<00:16, 2729.02it/s]"
          ]
        },
        {
          "output_type": "stream",
          "name": "stdout",
          "text": [
            "Accuracy: 0.45\n",
            "Absolute Error: 29.17\n",
            "Accuracy: 0.45\n",
            "Absolute Error: 49.82\n",
            "Accuracy: 0.45\n",
            "Absolute Error: 15.35\n",
            "Accuracy: 0.45\n",
            "Absolute Error: 48.12\n",
            "Accuracy: 0.45\n",
            "Absolute Error: 52.59\n"
          ]
        },
        {
          "output_type": "stream",
          "name": "stderr",
          "text": [
            "Batch perceptron training:  57%|█████▋    | 56770/100000 [00:21<00:16, 2649.23it/s]"
          ]
        },
        {
          "output_type": "stream",
          "name": "stdout",
          "text": [
            "Accuracy: 0.45\n",
            "Absolute Error: 31.97\n",
            "Accuracy: 0.45\n",
            "Absolute Error: 44.21\n",
            "Accuracy: 0.45\n",
            "Absolute Error: 51.80\n",
            "Accuracy: 0.45\n",
            "Absolute Error: 44.26\n",
            "Accuracy: 0.45\n",
            "Absolute Error: 42.98\n"
          ]
        },
        {
          "output_type": "stream",
          "name": "stderr",
          "text": [
            "Batch perceptron training:  57%|█████▋    | 57367/100000 [00:21<00:15, 2782.48it/s]"
          ]
        },
        {
          "output_type": "stream",
          "name": "stdout",
          "text": [
            "Accuracy: 0.45\n",
            "Absolute Error: 47.92\n",
            "Accuracy: 0.45\n",
            "Absolute Error: 44.33\n",
            "Accuracy: 0.45\n",
            "Absolute Error: 53.69\n",
            "Accuracy: 0.45\n",
            "Absolute Error: 56.87\n",
            "Accuracy: 0.45\n",
            "Absolute Error: 54.86\n"
          ]
        },
        {
          "output_type": "stream",
          "name": "stderr",
          "text": []
        },
        {
          "output_type": "stream",
          "name": "stdout",
          "text": [
            "Accuracy: 0.45\n",
            "Absolute Error: 45.41\n",
            "Accuracy: 0.45\n",
            "Absolute Error: 51.70\n",
            "Accuracy: 0.45\n",
            "Absolute Error: 41.08\n",
            "Accuracy: 0.45\n",
            "Absolute Error: 34.38\n",
            "Accuracy: 0.45\n"
          ]
        },
        {
          "output_type": "stream",
          "name": "stderr",
          "text": [
            "Batch perceptron training:  58%|█████▊    | 58480/100000 [00:22<00:15, 2634.74it/s]"
          ]
        },
        {
          "output_type": "stream",
          "name": "stdout",
          "text": [
            "Absolute Error: 34.86\n",
            "Accuracy: 0.45\n",
            "Absolute Error: 61.18\n",
            "Accuracy: 0.45\n",
            "Absolute Error: 61.23\n",
            "Accuracy: 0.45\n",
            "Absolute Error: 65.66\n",
            "Accuracy: 0.45\n",
            "Absolute Error: 25.55\n"
          ]
        },
        {
          "output_type": "stream",
          "name": "stderr",
          "text": [
            "Batch perceptron training:  59%|█████▉    | 59077/100000 [00:22<00:14, 2766.79it/s]"
          ]
        },
        {
          "output_type": "stream",
          "name": "stdout",
          "text": [
            "Accuracy: 0.45\n",
            "Absolute Error: 38.32\n",
            "Accuracy: 0.45\n",
            "Absolute Error: 33.48\n",
            "Accuracy: 0.45\n",
            "Absolute Error: 54.63\n",
            "Accuracy: 0.45\n",
            "Absolute Error: 28.36\n",
            "Accuracy: 0.45\n",
            "Absolute Error: 43.62\n"
          ]
        },
        {
          "output_type": "stream",
          "name": "stderr",
          "text": [
            "Batch perceptron training:  60%|█████▉    | 59627/100000 [00:22<00:15, 2627.31it/s]"
          ]
        },
        {
          "output_type": "stream",
          "name": "stdout",
          "text": [
            "Accuracy: 0.45\n",
            "Absolute Error: 43.50\n",
            "Accuracy: 0.45\n",
            "Absolute Error: 52.09\n",
            "Accuracy: 0.45\n",
            "Absolute Error: 56.58\n",
            "Accuracy: 0.45\n",
            "Absolute Error: 47.83\n",
            "Accuracy: 0.45\n",
            "Absolute Error: 43.74\n"
          ]
        },
        {
          "output_type": "stream",
          "name": "stderr",
          "text": [
            "Batch perceptron training:  60%|██████    | 60199/100000 [00:22<00:14, 2683.51it/s]"
          ]
        },
        {
          "output_type": "stream",
          "name": "stdout",
          "text": [
            "Accuracy: 0.45\n",
            "Absolute Error: 44.16\n",
            "Accuracy: 0.45\n",
            "Absolute Error: 55.11\n",
            "Accuracy: 0.45\n",
            "Absolute Error: 27.15\n",
            "Accuracy: 0.45\n",
            "Absolute Error: 51.00\n",
            "Accuracy: 0.45\n",
            "Absolute Error: 64.47\n"
          ]
        },
        {
          "output_type": "stream",
          "name": "stderr",
          "text": [
            "Batch perceptron training:  61%|██████    | 61051/100000 [00:23<00:14, 2733.22it/s]"
          ]
        },
        {
          "output_type": "stream",
          "name": "stdout",
          "text": [
            "Accuracy: 0.45\n",
            "Absolute Error: 38.65\n",
            "Accuracy: 0.45\n",
            "Absolute Error: 48.23\n",
            "Accuracy: 0.45\n",
            "Absolute Error: 53.85\n",
            "Accuracy: 0.45\n",
            "Absolute Error: 39.88\n",
            "Accuracy: 0.45\n",
            "Absolute Error: 57.08\n"
          ]
        },
        {
          "output_type": "stream",
          "name": "stderr",
          "text": [
            "Batch perceptron training:  61%|██████▏   | 61327/100000 [00:23<00:14, 2738.82it/s]"
          ]
        },
        {
          "output_type": "stream",
          "name": "stdout",
          "text": [
            "Accuracy: 0.45\n",
            "Absolute Error: 56.41\n",
            "Accuracy: 0.45\n",
            "Absolute Error: 44.43\n",
            "Accuracy: 0.45\n",
            "Absolute Error: 41.91\n",
            "Accuracy: 0.45\n",
            "Absolute Error: 66.34\n"
          ]
        },
        {
          "output_type": "stream",
          "name": "stderr",
          "text": [
            "Batch perceptron training:  62%|██████▏   | 62100/100000 [00:23<00:15, 2410.92it/s]"
          ]
        },
        {
          "output_type": "stream",
          "name": "stdout",
          "text": [
            "Accuracy: 0.45\n",
            "Absolute Error: 26.64\n",
            "Accuracy: 0.45\n",
            "Absolute Error: 32.50\n",
            "Accuracy: 0.45\n",
            "Absolute Error: 51.24\n",
            "Accuracy: 0.45\n",
            "Absolute Error: 40.18\n"
          ]
        },
        {
          "output_type": "stream",
          "name": "stderr",
          "text": [
            "Batch perceptron training:  63%|██████▎   | 62579/100000 [00:23<00:16, 2331.68it/s]"
          ]
        },
        {
          "output_type": "stream",
          "name": "stdout",
          "text": [
            "Accuracy: 0.45\n",
            "Absolute Error: 51.52\n",
            "Accuracy: 0.45\n",
            "Absolute Error: 59.63\n",
            "Accuracy: 0.45\n",
            "Absolute Error: 42.29\n",
            "Accuracy: 0.45\n",
            "Absolute Error: 33.62\n"
          ]
        },
        {
          "output_type": "stream",
          "name": "stderr",
          "text": [
            "Batch perceptron training:  63%|██████▎   | 63101/100000 [00:23<00:15, 2403.30it/s]"
          ]
        },
        {
          "output_type": "stream",
          "name": "stdout",
          "text": [
            "Accuracy: 0.45\n",
            "Absolute Error: 53.71\n",
            "Accuracy: 0.45\n",
            "Absolute Error: 61.86\n",
            "Accuracy: 0.45\n",
            "Absolute Error: 46.56\n",
            "Accuracy: 0.45\n",
            "Absolute Error: 46.65\n"
          ]
        },
        {
          "output_type": "stream",
          "name": "stderr",
          "text": [
            "Batch perceptron training:  64%|██████▎   | 63626/100000 [00:24<00:15, 2406.47it/s]"
          ]
        },
        {
          "output_type": "stream",
          "name": "stdout",
          "text": [
            "Accuracy: 0.45\n",
            "Absolute Error: 40.13\n",
            "Accuracy: 0.45\n",
            "Absolute Error: 52.34\n",
            "Accuracy: 0.45\n",
            "Absolute Error: 32.62\n",
            "Accuracy: 0.45\n",
            "Absolute Error: 49.13\n",
            "Accuracy: 0.45\n",
            "Absolute Error: 47.26\n"
          ]
        },
        {
          "output_type": "stream",
          "name": "stderr",
          "text": [
            "Batch perceptron training:  64%|██████▍   | 64165/100000 [00:24<00:14, 2555.63it/s]"
          ]
        },
        {
          "output_type": "stream",
          "name": "stdout",
          "text": [
            "Accuracy: 0.45\n",
            "Absolute Error: 39.71\n",
            "Accuracy: 0.45\n",
            "Absolute Error: 40.02\n",
            "Accuracy: 0.45\n",
            "Absolute Error: 52.78\n",
            "Accuracy: 0.45\n",
            "Absolute Error: 32.11\n",
            "Accuracy: 0.45\n",
            "Absolute Error: 51.38\n"
          ]
        },
        {
          "output_type": "stream",
          "name": "stderr",
          "text": [
            "Batch perceptron training:  65%|██████▍   | 64730/100000 [00:24<00:13, 2695.67it/s]"
          ]
        },
        {
          "output_type": "stream",
          "name": "stdout",
          "text": [
            "Accuracy: 0.45\n",
            "Absolute Error: 22.66\n",
            "Accuracy: 0.45\n",
            "Absolute Error: 57.95\n",
            "Accuracy: 0.45\n",
            "Absolute Error: 62.09\n",
            "Accuracy: 0.45\n",
            "Absolute Error: 63.90\n",
            "Accuracy: 0.45\n",
            "Absolute Error: 46.92\n"
          ]
        },
        {
          "output_type": "stream",
          "name": "stderr",
          "text": [
            "Batch perceptron training:  65%|██████▌   | 65265/100000 [00:24<00:13, 2522.85it/s]"
          ]
        },
        {
          "output_type": "stream",
          "name": "stdout",
          "text": [
            "Accuracy: 0.45\n",
            "Absolute Error: 29.25\n",
            "Accuracy: 0.45\n",
            "Absolute Error: 45.64\n",
            "Accuracy: 0.45\n",
            "Absolute Error: 52.73\n",
            "Accuracy: 0.45\n",
            "Absolute Error: 37.17\n",
            "Accuracy: 0.45\n",
            "Absolute Error: 41.99\n"
          ]
        },
        {
          "output_type": "stream",
          "name": "stderr",
          "text": [
            "Batch perceptron training:  66%|██████▌   | 66075/100000 [00:25<00:13, 2591.99it/s]"
          ]
        },
        {
          "output_type": "stream",
          "name": "stdout",
          "text": [
            "Accuracy: 0.45\n",
            "Absolute Error: 49.33\n",
            "Accuracy: 0.45\n",
            "Absolute Error: 53.63\n",
            "Accuracy: 0.45\n",
            "Absolute Error: 44.34\n",
            "Accuracy: 0.45\n",
            "Absolute Error: 45.91\n"
          ]
        },
        {
          "output_type": "stream",
          "name": "stderr",
          "text": [
            "Batch perceptron training:  67%|██████▋   | 66596/100000 [00:25<00:13, 2479.62it/s]"
          ]
        },
        {
          "output_type": "stream",
          "name": "stdout",
          "text": [
            "Accuracy: 0.45\n",
            "Absolute Error: 35.76\n",
            "Accuracy: 0.45\n",
            "Absolute Error: 43.62\n",
            "Accuracy: 0.45\n",
            "Absolute Error: 24.78\n",
            "Accuracy: 0.45\n",
            "Absolute Error: 35.26\n"
          ]
        },
        {
          "output_type": "stream",
          "name": "stderr",
          "text": [
            "                                                                                   "
          ]
        },
        {
          "output_type": "stream",
          "name": "stdout",
          "text": [
            "Accuracy: 0.45\n",
            "Absolute Error: 26.58\n",
            "Accuracy: 0.45\n",
            "Absolute Error: 65.18\n",
            "Accuracy: 0.45\n",
            "Absolute Error: 53.04\n",
            "Accuracy: 0.45\n",
            "Absolute Error: 47.02\n",
            "Accuracy: 0.45\n"
          ]
        },
        {
          "output_type": "stream",
          "name": "stderr",
          "text": [
            "Batch perceptron training:  68%|██████▊   | 67626/100000 [00:25<00:13, 2419.82it/s]"
          ]
        },
        {
          "output_type": "stream",
          "name": "stdout",
          "text": [
            "Absolute Error: 14.87\n",
            "Accuracy: 0.45\n",
            "Absolute Error: 50.42\n",
            "Accuracy: 0.45\n",
            "Absolute Error: 40.06\n",
            "Accuracy: 0.45\n",
            "Absolute Error: 40.89\n",
            "Accuracy: 0.45\n",
            "Absolute Error: 30.53\n"
          ]
        },
        {
          "output_type": "stream",
          "name": "stderr",
          "text": [
            "Batch perceptron training:  68%|██████▊   | 68156/100000 [00:25<00:12, 2526.70it/s]"
          ]
        },
        {
          "output_type": "stream",
          "name": "stdout",
          "text": [
            "Accuracy: 0.45\n",
            "Absolute Error: 38.40\n",
            "Accuracy: 0.45\n",
            "Absolute Error: 42.67\n",
            "Accuracy: 0.45\n",
            "Absolute Error: 26.42\n",
            "Accuracy: 0.45\n",
            "Absolute Error: 18.40\n",
            "Accuracy: 0.45\n",
            "Absolute Error: 30.14\n"
          ]
        },
        {
          "output_type": "stream",
          "name": "stderr",
          "text": [
            "Batch perceptron training:  69%|██████▊   | 68694/100000 [00:26<00:12, 2605.42it/s]"
          ]
        },
        {
          "output_type": "stream",
          "name": "stdout",
          "text": [
            "Accuracy: 0.45\n",
            "Absolute Error: 56.58\n",
            "Accuracy: 0.45\n",
            "Absolute Error: 26.40\n",
            "Accuracy: 0.45\n",
            "Absolute Error: 51.98\n",
            "Accuracy: 0.45\n",
            "Absolute Error: 44.72\n",
            "Accuracy: 0.45\n",
            "Absolute Error: 24.05\n"
          ]
        },
        {
          "output_type": "stream",
          "name": "stderr",
          "text": [
            "Batch perceptron training:  69%|██████▉   | 69226/100000 [00:26<00:11, 2622.11it/s]"
          ]
        },
        {
          "output_type": "stream",
          "name": "stdout",
          "text": [
            "Accuracy: 0.45\n",
            "Absolute Error: 43.67\n",
            "Accuracy: 0.45\n",
            "Absolute Error: 49.81\n",
            "Accuracy: 0.45\n",
            "Absolute Error: 52.74\n",
            "Accuracy: 0.45\n",
            "Absolute Error: 59.68\n"
          ]
        },
        {
          "output_type": "stream",
          "name": "stderr",
          "text": [
            "Batch perceptron training:  70%|██████▉   | 69727/100000 [00:26<00:14, 2128.55it/s]"
          ]
        },
        {
          "output_type": "stream",
          "name": "stdout",
          "text": [
            "Accuracy: 0.45\n",
            "Absolute Error: 31.17\n",
            "Accuracy: 0.45\n",
            "Absolute Error: 32.07\n",
            "Accuracy: 0.45\n",
            "Absolute Error: 50.19\n",
            "Accuracy: 0.45\n"
          ]
        },
        {
          "output_type": "stream",
          "name": "stderr",
          "text": [
            "Batch perceptron training:  70%|███████   | 70155/100000 [00:26<00:15, 1943.98it/s]"
          ]
        },
        {
          "output_type": "stream",
          "name": "stdout",
          "text": [
            "Absolute Error: 55.16\n",
            "Accuracy: 0.45\n",
            "Absolute Error: 34.80\n",
            "Accuracy: 0.45\n",
            "Absolute Error: 53.90\n",
            "Accuracy: 0.45\n",
            "Absolute Error: 59.56\n"
          ]
        },
        {
          "output_type": "stream",
          "name": "stderr",
          "text": [
            "Batch perceptron training:  71%|███████   | 70577/100000 [00:27<00:15, 1846.26it/s]"
          ]
        },
        {
          "output_type": "stream",
          "name": "stdout",
          "text": [
            "Accuracy: 0.45\n",
            "Absolute Error: 38.98\n",
            "Accuracy: 0.45\n",
            "Absolute Error: 64.07\n",
            "Accuracy: 0.45\n",
            "Absolute Error: 31.85\n"
          ]
        },
        {
          "output_type": "stream",
          "name": "stderr",
          "text": [
            "Batch perceptron training:  71%|███████   | 71001/100000 [00:27<00:15, 1847.46it/s]"
          ]
        },
        {
          "output_type": "stream",
          "name": "stdout",
          "text": [
            "Accuracy: 0.45\n",
            "Absolute Error: 32.87\n",
            "Accuracy: 0.45\n",
            "Absolute Error: 32.89\n",
            "Accuracy: 0.45\n",
            "Absolute Error: 45.21\n",
            "Accuracy: 0.45\n",
            "Absolute Error: 47.89\n"
          ]
        },
        {
          "output_type": "stream",
          "name": "stderr",
          "text": [
            "Batch perceptron training:  72%|███████▏  | 71675/100000 [00:27<00:13, 2049.20it/s]"
          ]
        },
        {
          "output_type": "stream",
          "name": "stdout",
          "text": [
            "Accuracy: 0.45\n",
            "Absolute Error: 45.86\n",
            "Accuracy: 0.45\n",
            "Absolute Error: 30.55\n",
            "Accuracy: 0.45\n",
            "Absolute Error: 39.17\n",
            "Accuracy: 0.45\n",
            "Absolute Error: 40.27\n"
          ]
        },
        {
          "output_type": "stream",
          "name": "stderr",
          "text": [
            "Batch perceptron training:  72%|███████▏  | 72126/100000 [00:27<00:13, 2119.22it/s]"
          ]
        },
        {
          "output_type": "stream",
          "name": "stdout",
          "text": [
            "Accuracy: 0.45\n",
            "Absolute Error: 39.28\n",
            "Accuracy: 0.45\n",
            "Absolute Error: 52.29\n",
            "Accuracy: 0.45\n",
            "Absolute Error: 38.90\n",
            "Accuracy: 0.45\n",
            "Absolute Error: 57.07\n"
          ]
        },
        {
          "output_type": "stream",
          "name": "stderr",
          "text": [
            "Batch perceptron training:  73%|███████▎  | 72666/100000 [00:28<00:11, 2418.90it/s]"
          ]
        },
        {
          "output_type": "stream",
          "name": "stdout",
          "text": [
            "Accuracy: 0.45\n",
            "Absolute Error: 37.17\n",
            "Accuracy: 0.45\n",
            "Absolute Error: 71.34\n",
            "Accuracy: 0.45\n",
            "Absolute Error: 67.54\n",
            "Accuracy: 0.45\n",
            "Absolute Error: 27.02\n",
            "Accuracy: 0.45\n",
            "Absolute Error: 51.99\n"
          ]
        },
        {
          "output_type": "stream",
          "name": "stderr",
          "text": [
            "Batch perceptron training:  73%|███████▎  | 73224/100000 [00:28<00:10, 2585.52it/s]"
          ]
        },
        {
          "output_type": "stream",
          "name": "stdout",
          "text": [
            "Accuracy: 0.45\n",
            "Absolute Error: 42.03\n",
            "Accuracy: 0.45\n",
            "Absolute Error: 61.87\n",
            "Accuracy: 0.45\n",
            "Absolute Error: 57.29\n",
            "Accuracy: 0.45\n",
            "Absolute Error: 41.76\n",
            "Accuracy: 0.45\n",
            "Absolute Error: 41.44\n"
          ]
        },
        {
          "output_type": "stream",
          "name": "stderr",
          "text": [
            "Batch perceptron training:  74%|███████▍  | 73759/100000 [00:28<00:10, 2559.97it/s]"
          ]
        },
        {
          "output_type": "stream",
          "name": "stdout",
          "text": [
            "Accuracy: 0.45\n",
            "Absolute Error: 65.92\n",
            "Accuracy: 0.45\n",
            "Absolute Error: 56.79\n",
            "Accuracy: 0.45\n",
            "Absolute Error: 26.77\n",
            "Accuracy: 0.45\n",
            "Absolute Error: 47.39\n",
            "Accuracy: 0.45\n",
            "Absolute Error: 56.64\n"
          ]
        },
        {
          "output_type": "stream",
          "name": "stderr",
          "text": [
            "Batch perceptron training:  75%|███████▍  | 74626/100000 [00:28<00:09, 2716.65it/s]"
          ]
        },
        {
          "output_type": "stream",
          "name": "stdout",
          "text": [
            "Accuracy: 0.45\n",
            "Absolute Error: 31.11\n",
            "Accuracy: 0.45\n",
            "Absolute Error: 31.89\n",
            "Accuracy: 0.45\n",
            "Absolute Error: 27.16\n",
            "Accuracy: 0.45\n",
            "Absolute Error: 35.32\n",
            "Accuracy: 0.45\n",
            "Absolute Error: 61.94\n"
          ]
        },
        {
          "output_type": "stream",
          "name": "stderr",
          "text": [
            "Batch perceptron training:  75%|███████▌  | 75167/100000 [00:28<00:09, 2640.53it/s]"
          ]
        },
        {
          "output_type": "stream",
          "name": "stdout",
          "text": [
            "Accuracy: 0.45\n",
            "Absolute Error: 33.41\n",
            "Accuracy: 0.45\n",
            "Absolute Error: 44.43\n",
            "Accuracy: 0.45\n",
            "Absolute Error: 52.88\n",
            "Accuracy: 0.45\n",
            "Absolute Error: 44.59\n",
            "Accuracy: 0.45\n",
            "Absolute Error: 48.95\n"
          ]
        },
        {
          "output_type": "stream",
          "name": "stderr",
          "text": []
        },
        {
          "output_type": "stream",
          "name": "stdout",
          "text": [
            "Accuracy: 0.45\n",
            "Absolute Error: 50.12\n",
            "Accuracy: 0.45\n",
            "Absolute Error: 36.69\n",
            "Accuracy: 0.45\n",
            "Absolute Error: 63.68\n",
            "Accuracy: 0.45\n",
            "Absolute Error: 41.61\n",
            "Accuracy: 0.45\n"
          ]
        },
        {
          "output_type": "stream",
          "name": "stderr",
          "text": [
            "Batch perceptron training:  76%|███████▌  | 76246/100000 [00:29<00:09, 2629.34it/s]"
          ]
        },
        {
          "output_type": "stream",
          "name": "stdout",
          "text": [
            "Absolute Error: 54.55\n",
            "Accuracy: 0.45\n",
            "Absolute Error: 58.60\n",
            "Accuracy: 0.45\n",
            "Absolute Error: 50.19\n",
            "Accuracy: 0.45\n",
            "Absolute Error: 57.79\n",
            "Accuracy: 0.45\n",
            "Absolute Error: 52.45\n"
          ]
        },
        {
          "output_type": "stream",
          "name": "stderr",
          "text": [
            "Batch perceptron training:  77%|███████▋  | 76773/100000 [00:29<00:08, 2581.52it/s]"
          ]
        },
        {
          "output_type": "stream",
          "name": "stdout",
          "text": [
            "Accuracy: 0.45\n",
            "Absolute Error: 33.84\n",
            "Accuracy: 0.45\n",
            "Absolute Error: 67.28\n",
            "Accuracy: 0.45\n",
            "Absolute Error: 39.24\n",
            "Accuracy: 0.45\n",
            "Absolute Error: 56.07\n",
            "Accuracy: 0.45\n",
            "Absolute Error: 61.14\n"
          ]
        },
        {
          "output_type": "stream",
          "name": "stderr",
          "text": [
            "Batch perceptron training:  78%|███████▊  | 77679/100000 [00:29<00:08, 2734.91it/s]"
          ]
        },
        {
          "output_type": "stream",
          "name": "stdout",
          "text": [
            "Accuracy: 0.45\n",
            "Absolute Error: 44.66\n",
            "Accuracy: 0.45\n",
            "Absolute Error: 44.01\n",
            "Accuracy: 0.45\n",
            "Absolute Error: 33.79\n",
            "Accuracy: 0.45\n",
            "Absolute Error: 23.87\n",
            "Accuracy: 0.45\n",
            "Absolute Error: 44.76\n"
          ]
        },
        {
          "output_type": "stream",
          "name": "stderr",
          "text": []
        },
        {
          "output_type": "stream",
          "name": "stdout",
          "text": [
            "Accuracy: 0.45\n",
            "Absolute Error: 62.85\n",
            "Accuracy: 0.45\n",
            "Absolute Error: 44.48\n",
            "Accuracy: 0.45\n",
            "Absolute Error: 58.04\n",
            "Accuracy: 0.45\n",
            "Absolute Error: 46.67\n",
            "Accuracy: 0.45\n"
          ]
        },
        {
          "output_type": "stream",
          "name": "stderr",
          "text": [
            "Batch perceptron training:  79%|███████▊  | 78521/100000 [00:30<00:08, 2569.29it/s]"
          ]
        },
        {
          "output_type": "stream",
          "name": "stdout",
          "text": [
            "Absolute Error: 38.60\n",
            "Accuracy: 0.45\n",
            "Absolute Error: 36.80\n",
            "Accuracy: 0.45\n",
            "Absolute Error: 83.41\n",
            "Accuracy: 0.45\n",
            "Absolute Error: 40.56\n",
            "Accuracy: 0.45\n",
            "Absolute Error: 27.39\n"
          ]
        },
        {
          "output_type": "stream",
          "name": "stderr",
          "text": [
            "Batch perceptron training:  79%|███████▉  | 79376/100000 [00:30<00:07, 2606.77it/s]"
          ]
        },
        {
          "output_type": "stream",
          "name": "stdout",
          "text": [
            "Accuracy: 0.45\n",
            "Absolute Error: 59.92\n",
            "Accuracy: 0.45\n",
            "Absolute Error: 50.07\n",
            "Accuracy: 0.45\n",
            "Absolute Error: 19.98\n",
            "Accuracy: 0.45\n",
            "Absolute Error: 37.10\n",
            "Accuracy: 0.45\n",
            "Absolute Error: 38.22\n"
          ]
        },
        {
          "output_type": "stream",
          "name": "stderr",
          "text": [
            "Batch perceptron training:  80%|███████▉  | 79967/100000 [00:30<00:07, 2765.85it/s]"
          ]
        },
        {
          "output_type": "stream",
          "name": "stdout",
          "text": [
            "Accuracy: 0.45\n",
            "Absolute Error: 55.44\n",
            "Accuracy: 0.45\n",
            "Absolute Error: 33.21\n",
            "Accuracy: 0.45\n",
            "Absolute Error: 48.82\n",
            "Accuracy: 0.45\n",
            "Absolute Error: 46.84\n",
            "Accuracy: 0.45\n",
            "Absolute Error: 32.85\n"
          ]
        },
        {
          "output_type": "stream",
          "name": "stderr",
          "text": [
            "                                                                                   "
          ]
        },
        {
          "output_type": "stream",
          "name": "stdout",
          "text": [
            "Accuracy: 0.45\n",
            "Absolute Error: 42.11\n",
            "Accuracy: 0.45\n",
            "Absolute Error: 53.32\n",
            "Accuracy: 0.45\n",
            "Absolute Error: 77.24\n",
            "Accuracy: 0.45\n",
            "Absolute Error: 51.11\n"
          ]
        },
        {
          "output_type": "stream",
          "name": "stderr",
          "text": [
            "Batch perceptron training:  81%|████████  | 81056/100000 [00:31<00:07, 2540.53it/s]"
          ]
        },
        {
          "output_type": "stream",
          "name": "stdout",
          "text": [
            "Accuracy: 0.45\n",
            "Absolute Error: 39.59\n",
            "Accuracy: 0.45\n",
            "Absolute Error: 37.70\n",
            "Accuracy: 0.45\n",
            "Absolute Error: 37.44\n",
            "Accuracy: 0.45\n",
            "Absolute Error: 46.41\n",
            "Accuracy: 0.45\n",
            "Absolute Error: 41.12\n"
          ]
        },
        {
          "output_type": "stream",
          "name": "stderr",
          "text": [
            "Batch perceptron training:  82%|████████▏ | 81566/100000 [00:31<00:07, 2469.03it/s]"
          ]
        },
        {
          "output_type": "stream",
          "name": "stdout",
          "text": [
            "Accuracy: 0.45\n",
            "Absolute Error: 47.81\n",
            "Accuracy: 0.45\n",
            "Absolute Error: 59.50\n",
            "Accuracy: 0.45\n",
            "Absolute Error: 62.19\n",
            "Accuracy: 0.45\n",
            "Absolute Error: 51.81\n",
            "Accuracy: 0.45\n",
            "Absolute Error: 52.63\n"
          ]
        },
        {
          "output_type": "stream",
          "name": "stderr",
          "text": [
            "Batch perceptron training:  82%|████████▏ | 82143/100000 [00:31<00:06, 2609.32it/s]"
          ]
        },
        {
          "output_type": "stream",
          "name": "stdout",
          "text": [
            "Accuracy: 0.45\n",
            "Absolute Error: 59.09\n",
            "Accuracy: 0.45\n",
            "Absolute Error: 53.00\n",
            "Accuracy: 0.45\n",
            "Absolute Error: 37.88\n",
            "Accuracy: 0.45\n",
            "Absolute Error: 28.70\n",
            "Accuracy: 0.45\n",
            "Absolute Error: 47.88\n"
          ]
        },
        {
          "output_type": "stream",
          "name": "stderr",
          "text": [
            "Batch perceptron training:  83%|████████▎ | 82962/100000 [00:31<00:06, 2569.91it/s]"
          ]
        },
        {
          "output_type": "stream",
          "name": "stdout",
          "text": [
            "Accuracy: 0.45\n",
            "Absolute Error: 44.79\n",
            "Accuracy: 0.45\n",
            "Absolute Error: 46.91\n",
            "Accuracy: 0.45\n",
            "Absolute Error: 46.06\n",
            "Accuracy: 0.45\n",
            "Absolute Error: 66.04\n"
          ]
        },
        {
          "output_type": "stream",
          "name": "stderr",
          "text": [
            "Batch perceptron training:  84%|████████▎ | 83573/100000 [00:32<00:05, 2770.37it/s]"
          ]
        },
        {
          "output_type": "stream",
          "name": "stdout",
          "text": [
            "Accuracy: 0.45\n",
            "Absolute Error: 42.05\n",
            "Accuracy: 0.45\n",
            "Absolute Error: 48.19\n",
            "Accuracy: 0.45\n",
            "Absolute Error: 26.70\n",
            "Accuracy: 0.45\n",
            "Absolute Error: 49.13\n",
            "Accuracy: 0.45\n",
            "Absolute Error: 26.89\n"
          ]
        },
        {
          "output_type": "stream",
          "name": "stderr",
          "text": [
            "Batch perceptron training:  84%|████████▍ | 84129/100000 [00:32<00:06, 2636.24it/s]"
          ]
        },
        {
          "output_type": "stream",
          "name": "stdout",
          "text": [
            "Accuracy: 0.45\n",
            "Absolute Error: 26.86\n",
            "Accuracy: 0.45\n",
            "Absolute Error: 28.11\n",
            "Accuracy: 0.45\n",
            "Absolute Error: 48.75\n",
            "Accuracy: 0.45\n",
            "Absolute Error: 68.64\n",
            "Accuracy: 0.45\n",
            "Absolute Error: 40.66\n"
          ]
        },
        {
          "output_type": "stream",
          "name": "stderr",
          "text": [
            "Batch perceptron training:  85%|████████▍ | 84659/100000 [00:32<00:05, 2617.25it/s]"
          ]
        },
        {
          "output_type": "stream",
          "name": "stdout",
          "text": [
            "Accuracy: 0.45\n",
            "Absolute Error: 53.36\n",
            "Accuracy: 0.45\n",
            "Absolute Error: 55.02\n",
            "Accuracy: 0.45\n",
            "Absolute Error: 35.19\n",
            "Accuracy: 0.45\n",
            "Absolute Error: 44.70\n",
            "Accuracy: 0.45\n",
            "Absolute Error: 61.73\n"
          ]
        },
        {
          "output_type": "stream",
          "name": "stderr",
          "text": [
            "Batch perceptron training:  85%|████████▌ | 85255/100000 [00:32<00:05, 2583.34it/s]"
          ]
        },
        {
          "output_type": "stream",
          "name": "stdout",
          "text": [
            "Accuracy: 0.45\n",
            "Absolute Error: 59.88\n",
            "Accuracy: 0.45\n",
            "Absolute Error: 27.74\n",
            "Accuracy: 0.45\n",
            "Absolute Error: 37.99\n",
            "Accuracy: 0.45\n",
            "Absolute Error: 44.22\n"
          ]
        },
        {
          "output_type": "stream",
          "name": "stderr",
          "text": [
            "Batch perceptron training:  86%|████████▌ | 85774/100000 [00:33<00:05, 2489.21it/s]"
          ]
        },
        {
          "output_type": "stream",
          "name": "stdout",
          "text": [
            "Accuracy: 0.45\n",
            "Absolute Error: 50.29\n",
            "Accuracy: 0.45\n",
            "Absolute Error: 46.10\n",
            "Accuracy: 0.45\n",
            "Absolute Error: 59.71\n",
            "Accuracy: 0.45\n",
            "Absolute Error: 69.42\n",
            "Accuracy: 0.45\n",
            "Absolute Error: 50.84\n"
          ]
        },
        {
          "output_type": "stream",
          "name": "stderr",
          "text": []
        },
        {
          "output_type": "stream",
          "name": "stdout",
          "text": [
            "Accuracy: 0.45\n",
            "Absolute Error: 70.31\n",
            "Accuracy: 0.45\n",
            "Absolute Error: 70.08\n",
            "Accuracy: 0.45\n",
            "Absolute Error: 43.79\n",
            "Accuracy: 0.45\n",
            "Absolute Error: 32.17\n",
            "Accuracy: 0.45\n"
          ]
        },
        {
          "output_type": "stream",
          "name": "stderr",
          "text": [
            "Batch perceptron training:  87%|████████▋ | 86848/100000 [00:33<00:05, 2557.62it/s]"
          ]
        },
        {
          "output_type": "stream",
          "name": "stdout",
          "text": [
            "Absolute Error: 22.56\n",
            "Accuracy: 0.45\n",
            "Absolute Error: 25.10\n",
            "Accuracy: 0.45\n",
            "Absolute Error: 26.11\n",
            "Accuracy: 0.45\n",
            "Absolute Error: 46.02\n",
            "Accuracy: 0.45\n",
            "Absolute Error: 55.30\n"
          ]
        },
        {
          "output_type": "stream",
          "name": "stderr",
          "text": [
            "Batch perceptron training:  87%|████████▋ | 87393/100000 [00:33<00:04, 2608.10it/s]"
          ]
        },
        {
          "output_type": "stream",
          "name": "stdout",
          "text": [
            "Accuracy: 0.45\n",
            "Absolute Error: 68.12\n",
            "Accuracy: 0.45\n",
            "Absolute Error: 53.87\n",
            "Accuracy: 0.45\n",
            "Absolute Error: 41.11\n",
            "Accuracy: 0.45\n",
            "Absolute Error: 55.67\n",
            "Accuracy: 0.45\n",
            "Absolute Error: 40.90\n"
          ]
        },
        {
          "output_type": "stream",
          "name": "stderr",
          "text": [
            "Batch perceptron training:  88%|████████▊ | 88187/100000 [00:33<00:04, 2520.24it/s]"
          ]
        },
        {
          "output_type": "stream",
          "name": "stdout",
          "text": [
            "Accuracy: 0.45\n",
            "Absolute Error: 44.66\n",
            "Accuracy: 0.45\n",
            "Absolute Error: 78.58\n",
            "Accuracy: 0.45\n",
            "Absolute Error: 41.23\n",
            "Accuracy: 0.45\n",
            "Absolute Error: 59.37\n"
          ]
        },
        {
          "output_type": "stream",
          "name": "stderr",
          "text": []
        },
        {
          "output_type": "stream",
          "name": "stdout",
          "text": [
            "Accuracy: 0.45\n",
            "Absolute Error: 48.91\n",
            "Accuracy: 0.45\n",
            "Absolute Error: 23.09\n",
            "Accuracy: 0.45\n",
            "Absolute Error: 46.80\n",
            "Accuracy: 0.45\n",
            "Absolute Error: 63.43\n",
            "Accuracy: 0.45\n"
          ]
        },
        {
          "output_type": "stream",
          "name": "stderr",
          "text": [
            "Batch perceptron training:  89%|████████▉ | 89264/100000 [00:34<00:04, 2493.03it/s]"
          ]
        },
        {
          "output_type": "stream",
          "name": "stdout",
          "text": [
            "Absolute Error: 23.83\n",
            "Accuracy: 0.45\n",
            "Absolute Error: 46.89\n",
            "Accuracy: 0.45\n",
            "Absolute Error: 65.68\n",
            "Accuracy: 0.45\n",
            "Absolute Error: 34.05\n",
            "Accuracy: 0.45\n",
            "Absolute Error: 38.16\n"
          ]
        },
        {
          "output_type": "stream",
          "name": "stderr",
          "text": [
            "Batch perceptron training:  90%|████████▉ | 89811/100000 [00:34<00:03, 2600.25it/s]"
          ]
        },
        {
          "output_type": "stream",
          "name": "stdout",
          "text": [
            "Accuracy: 0.45\n",
            "Absolute Error: 37.54\n",
            "Accuracy: 0.45\n",
            "Absolute Error: 44.67\n",
            "Accuracy: 0.45\n",
            "Absolute Error: 64.13\n",
            "Accuracy: 0.45\n",
            "Absolute Error: 33.30\n",
            "Accuracy: 0.45\n",
            "Absolute Error: 21.81\n"
          ]
        },
        {
          "output_type": "stream",
          "name": "stderr",
          "text": [
            "Batch perceptron training:  90%|█████████ | 90332/100000 [00:34<00:03, 2546.73it/s]"
          ]
        },
        {
          "output_type": "stream",
          "name": "stdout",
          "text": [
            "Accuracy: 0.45\n",
            "Absolute Error: 36.26\n",
            "Accuracy: 0.45\n",
            "Absolute Error: 55.44\n",
            "Accuracy: 0.45\n",
            "Absolute Error: 50.61\n",
            "Accuracy: 0.45\n",
            "Absolute Error: 41.30\n",
            "Accuracy: 0.45\n",
            "Absolute Error: 33.05\n"
          ]
        },
        {
          "output_type": "stream",
          "name": "stderr",
          "text": [
            "Batch perceptron training:  91%|█████████ | 90885/100000 [00:35<00:03, 2557.29it/s]"
          ]
        },
        {
          "output_type": "stream",
          "name": "stdout",
          "text": [
            "Accuracy: 0.45\n",
            "Absolute Error: 49.23\n",
            "Accuracy: 0.45\n",
            "Absolute Error: 37.45\n",
            "Accuracy: 0.45\n",
            "Absolute Error: 46.09\n",
            "Accuracy: 0.45\n",
            "Absolute Error: 42.89\n",
            "Accuracy: 0.45\n",
            "Absolute Error: 56.96\n"
          ]
        },
        {
          "output_type": "stream",
          "name": "stderr",
          "text": [
            "Batch perceptron training:  92%|█████████▏| 91699/100000 [00:35<00:03, 2603.25it/s]"
          ]
        },
        {
          "output_type": "stream",
          "name": "stdout",
          "text": [
            "Accuracy: 0.45\n",
            "Absolute Error: 51.86\n",
            "Accuracy: 0.45\n",
            "Absolute Error: 59.74\n",
            "Accuracy: 0.45\n",
            "Absolute Error: 57.56\n",
            "Accuracy: 0.45\n",
            "Absolute Error: 43.32\n",
            "Accuracy: 0.45\n",
            "Absolute Error: 33.15\n"
          ]
        },
        {
          "output_type": "stream",
          "name": "stderr",
          "text": [
            "                                                                                   "
          ]
        },
        {
          "output_type": "stream",
          "name": "stdout",
          "text": [
            "Accuracy: 0.45\n",
            "Absolute Error: 46.45\n",
            "Accuracy: 0.45\n",
            "Absolute Error: 51.71\n",
            "Accuracy: 0.45\n",
            "Absolute Error: 41.05\n",
            "Accuracy: 0.45\n",
            "Absolute Error: 55.91\n"
          ]
        },
        {
          "output_type": "stream",
          "name": "stderr",
          "text": [
            "Batch perceptron training:  93%|█████████▎| 92772/100000 [00:35<00:02, 2529.26it/s]"
          ]
        },
        {
          "output_type": "stream",
          "name": "stdout",
          "text": [
            "Accuracy: 0.45\n",
            "Absolute Error: 52.17\n",
            "Accuracy: 0.45\n",
            "Absolute Error: 40.89\n",
            "Accuracy: 0.45\n",
            "Absolute Error: 59.22\n",
            "Accuracy: 0.45\n",
            "Absolute Error: 54.56\n",
            "Accuracy: 0.45\n",
            "Absolute Error: 33.31\n"
          ]
        },
        {
          "output_type": "stream",
          "name": "stderr",
          "text": [
            "Batch perceptron training:  93%|█████████▎| 93307/100000 [00:35<00:02, 2579.41it/s]"
          ]
        },
        {
          "output_type": "stream",
          "name": "stdout",
          "text": [
            "Accuracy: 0.45\n",
            "Absolute Error: 39.44\n",
            "Accuracy: 0.45\n",
            "Absolute Error: 31.48\n",
            "Accuracy: 0.45\n",
            "Absolute Error: 30.94\n",
            "Accuracy: 0.45\n",
            "Absolute Error: 28.39\n"
          ]
        },
        {
          "output_type": "stream",
          "name": "stderr",
          "text": [
            "                                                                                   "
          ]
        },
        {
          "output_type": "stream",
          "name": "stdout",
          "text": [
            "Accuracy: 0.45\n",
            "Absolute Error: 41.46\n",
            "Accuracy: 0.45\n",
            "Absolute Error: 46.11\n",
            "Accuracy: 0.45\n",
            "Absolute Error: 34.79\n",
            "Accuracy: 0.45\n",
            "Absolute Error: 42.52\n",
            "Accuracy: 0.45\n"
          ]
        },
        {
          "output_type": "stream",
          "name": "stderr",
          "text": []
        },
        {
          "output_type": "stream",
          "name": "stdout",
          "text": [
            "Absolute Error: 60.19\n",
            "Accuracy: 0.45\n",
            "Absolute Error: 33.86\n",
            "Accuracy: 0.45\n",
            "Absolute Error: 37.99\n",
            "Accuracy: 0.45\n",
            "Absolute Error: 41.18\n",
            "Accuracy: 0.45\n"
          ]
        },
        {
          "output_type": "stream",
          "name": "stderr",
          "text": []
        },
        {
          "output_type": "stream",
          "name": "stdout",
          "text": [
            "Absolute Error: 37.47\n",
            "Accuracy: 0.45\n",
            "Absolute Error: 47.10\n",
            "Accuracy: 0.45\n",
            "Absolute Error: 26.13\n",
            "Accuracy: 0.45\n",
            "Absolute Error: 66.36\n",
            "Accuracy: 0.45\n"
          ]
        },
        {
          "output_type": "stream",
          "name": "stderr",
          "text": [
            "Batch perceptron training:  95%|█████████▌| 95418/100000 [00:36<00:01, 2554.44it/s]"
          ]
        },
        {
          "output_type": "stream",
          "name": "stdout",
          "text": [
            "Absolute Error: 57.10\n",
            "Accuracy: 0.45\n",
            "Absolute Error: 45.56\n",
            "Accuracy: 0.45\n",
            "Absolute Error: 42.83\n",
            "Accuracy: 0.45\n",
            "Absolute Error: 54.79\n",
            "Accuracy: 0.45\n",
            "Absolute Error: 60.50\n"
          ]
        },
        {
          "output_type": "stream",
          "name": "stderr",
          "text": [
            "Batch perceptron training:  96%|█████████▌| 95952/100000 [00:36<00:01, 2492.81it/s]"
          ]
        },
        {
          "output_type": "stream",
          "name": "stdout",
          "text": [
            "Accuracy: 0.45\n",
            "Absolute Error: 54.07\n",
            "Accuracy: 0.45\n",
            "Absolute Error: 50.42\n",
            "Accuracy: 0.45\n",
            "Absolute Error: 51.60\n",
            "Accuracy: 0.45\n",
            "Absolute Error: 29.23\n"
          ]
        },
        {
          "output_type": "stream",
          "name": "stderr",
          "text": [
            "Batch perceptron training:  96%|█████████▋| 96500/100000 [00:37<00:01, 2565.23it/s]"
          ]
        },
        {
          "output_type": "stream",
          "name": "stdout",
          "text": [
            "Accuracy: 0.45\n",
            "Absolute Error: 33.71\n",
            "Accuracy: 0.45\n",
            "Absolute Error: 24.03\n",
            "Accuracy: 0.45\n",
            "Absolute Error: 43.69\n",
            "Accuracy: 0.45\n",
            "Absolute Error: 36.06\n"
          ]
        },
        {
          "output_type": "stream",
          "name": "stderr",
          "text": [
            "Batch perceptron training:  97%|█████████▋| 97001/100000 [00:37<00:01, 2217.96it/s]"
          ]
        },
        {
          "output_type": "stream",
          "name": "stdout",
          "text": [
            "Accuracy: 0.45\n",
            "Absolute Error: 44.48\n",
            "Accuracy: 0.45\n",
            "Absolute Error: 55.08\n",
            "Accuracy: 0.45\n",
            "Absolute Error: 42.02\n",
            "Accuracy: 0.45\n",
            "Absolute Error: 39.88\n"
          ]
        },
        {
          "output_type": "stream",
          "name": "stderr",
          "text": [
            "Batch perceptron training:  98%|█████████▊| 97501/100000 [00:37<00:01, 2251.02it/s]"
          ]
        },
        {
          "output_type": "stream",
          "name": "stdout",
          "text": [
            "Accuracy: 0.45\n",
            "Absolute Error: 41.28\n",
            "Accuracy: 0.45\n",
            "Absolute Error: 26.11\n",
            "Accuracy: 0.45\n",
            "Absolute Error: 56.17\n",
            "Accuracy: 0.45\n",
            "Absolute Error: 44.26\n"
          ]
        },
        {
          "output_type": "stream",
          "name": "stderr",
          "text": [
            "Batch perceptron training:  98%|█████████▊| 97974/100000 [00:37<00:00, 2240.82it/s]"
          ]
        },
        {
          "output_type": "stream",
          "name": "stdout",
          "text": [
            "Accuracy: 0.45\n",
            "Absolute Error: 38.87\n",
            "Accuracy: 0.45\n",
            "Absolute Error: 69.71\n",
            "Accuracy: 0.45\n",
            "Absolute Error: 19.28\n",
            "Accuracy: 0.45\n",
            "Absolute Error: 59.42\n"
          ]
        },
        {
          "output_type": "stream",
          "name": "stderr",
          "text": [
            "Batch perceptron training:  98%|█████████▊| 98479/100000 [00:38<00:00, 2328.26it/s]"
          ]
        },
        {
          "output_type": "stream",
          "name": "stdout",
          "text": [
            "Accuracy: 0.45\n",
            "Absolute Error: 51.05\n",
            "Accuracy: 0.45\n",
            "Absolute Error: 50.22\n",
            "Accuracy: 0.45\n",
            "Absolute Error: 37.87\n",
            "Accuracy: 0.45\n",
            "Absolute Error: 57.25\n"
          ]
        },
        {
          "output_type": "stream",
          "name": "stderr",
          "text": [
            "Batch perceptron training:  99%|█████████▉| 98990/100000 [00:38<00:00, 2453.64it/s]"
          ]
        },
        {
          "output_type": "stream",
          "name": "stdout",
          "text": [
            "Accuracy: 0.45\n",
            "Absolute Error: 30.77\n",
            "Accuracy: 0.45\n",
            "Absolute Error: 49.36\n",
            "Accuracy: 0.45\n",
            "Absolute Error: 34.78\n",
            "Accuracy: 0.45\n",
            "Absolute Error: 45.22\n",
            "Accuracy: 0.45\n",
            "Absolute Error: 58.75\n"
          ]
        },
        {
          "output_type": "stream",
          "name": "stderr",
          "text": [
            "Batch perceptron training: 100%|█████████▉| 99527/100000 [00:38<00:00, 2493.59it/s]"
          ]
        },
        {
          "output_type": "stream",
          "name": "stdout",
          "text": [
            "Accuracy: 0.45\n",
            "Absolute Error: 31.41\n",
            "Accuracy: 0.45\n",
            "Absolute Error: 54.60\n",
            "Accuracy: 0.45\n",
            "Absolute Error: 41.89\n",
            "Accuracy: 0.45\n",
            "Absolute Error: 64.92\n",
            "Accuracy: 0.45\n",
            "Absolute Error: 47.71\n"
          ]
        },
        {
          "output_type": "stream",
          "name": "stderr",
          "text": [
            "Batch perceptron training: 100%|██████████| 100000/100000 [00:38<00:00, 2585.52it/s]"
          ]
        },
        {
          "output_type": "stream",
          "name": "stdout",
          "text": [
            "Accuracy: 0.45\n",
            "Absolute Error: 34.88\n",
            "[[2751.00411287 6528.86645587 2208.25979115]]\n"
          ]
        },
        {
          "output_type": "stream",
          "name": "stderr",
          "text": [
            "\n"
          ]
        }
      ]
    },
    {
      "cell_type": "markdown",
      "source": [
        "3. Plot the history of the accuracy and the error during training. Use the *plt.subplot* function.\n"
      ],
      "metadata": {
        "id": "Z4gN5TRPSnvZ"
      }
    },
    {
      "cell_type": "markdown",
      "source": [
        "**Solution**\n",
        "\n",
        "As asked, using the *plt.subplot* function: "
      ],
      "metadata": {
        "id": "wVzXs97ASpzS"
      }
    },
    {
      "cell_type": "code",
      "source": [
        "plt.subplot(2, 1, 1)\n",
        "plt.plot(error_history)\n",
        "plt.xlabel('Iteration')\n",
        "plt.ylabel('Error')\n",
        "plt.title('Error History')\n",
        "\n",
        "plt.subplot(2, 1, 2)\n",
        "plt.plot(acc_history)\n",
        "plt.xlabel('Iteration')\n",
        "plt.ylabel('Accuracy')\n",
        "plt.title('Accuracy History')\n",
        "\n",
        "plt.tight_layout()\n",
        "plt.show()"
      ],
      "metadata": {
        "colab": {
          "base_uri": "https://localhost:8080/",
          "height": 486
        },
        "id": "teFR7fmOL5U_",
        "outputId": "03d24403-ee12-44d3-e3a1-badc7cf172bc"
      },
      "execution_count": null,
      "outputs": [
        {
          "output_type": "display_data",
          "data": {
            "text/plain": [
              "<Figure size 640x480 with 2 Axes>"
            ],
            "image/png": "[encoded data removed]"
          },
          "metadata": {}
        }
      ]
    },
    {
      "cell_type": "markdown",
      "source": [
        "\n",
        "4. Plot the data and the trained model. Use the *plot_model* function you implemented before.\n"
      ],
      "metadata": {
        "id": "k-AZWqaaS1rh"
      }
    },
    {
      "cell_type": "markdown",
      "source": [
        "**Solution**\n",
        "\n",
        "Using the *plot_model* function created earlier:"
      ],
      "metadata": {
        "id": "cpggIBKwS3on"
      }
    },
    {
      "cell_type": "code",
      "source": [
        "plot_model(best_model,y,labels)"
      ],
      "metadata": {
        "colab": {
          "base_uri": "https://localhost:8080/",
          "height": 472
        },
        "id": "JXoZvkSxNYMO",
        "outputId": "2f11e2a4-d0d4-4ae4-a64a-ba113a80373a"
      },
      "execution_count": null,
      "outputs": [
        {
          "output_type": "stream",
          "name": "stderr",
          "text": [
            "WARNING:matplotlib.legend:No artists with labels found to put in legend.  Note that artists whose label start with an underscore are ignored when legend() is called with no argument.\n"
          ]
        },
        {
          "output_type": "display_data",
          "data": {
            "text/plain": [
              "<Figure size 640x480 with 1 Axes>"
            ],
            "image/png": "[encoded data removed]"
          },
          "metadata": {}
        }
      ]
    },
    {
      "cell_type": "markdown",
      "source": [
        "5. Retrain the model with a variable learning rate. Use the Scheduler you implemented in Question 1. Plot the dataset and the trained model as before. What do you notice now? Is the difference between training with a fixed and a variable learning rate the same as before? Justify your answer.\n"
      ],
      "metadata": {
        "id": "OKXinW4SS-WS"
      }
    },
    {
      "cell_type": "markdown",
      "source": [
        "**Solution**\n",
        "\n",
        "Like in Question 1 and using the same Scheduler class, the modified *train_batch* function is:"
      ],
      "metadata": {
        "id": "lZJ5WmRcS_8G"
      }
    },
    {
      "cell_type": "code",
      "source": [
        "def train_batch(a, y, labels, n_iterations, lr, variable_lr, batch_size, theta):\n",
        "    acc_history = []\n",
        "    error_history = []\n",
        "    best_accuracy = -1\n",
        "    best_model = float(\"-inf\")\n",
        "    \n",
        "    labels = np.where(labels == 0, -1, labels)\n",
        "    n_samples = len(labels)\n",
        "    \n",
        "    if variable_lr:\n",
        "      scheduler = Scheduler(lr, n_samples)\n",
        "    \n",
        "    for iteration in tqdm(range(n_iterations),desc=\"Batch perceptron training\"):\n",
        "        error = np.zeros_like(a)\n",
        "        \n",
        "        # Randomly select a batch of samples\n",
        "        indices = np.random.choice(n_samples, size=batch_size, replace=False)\n",
        "        batch_y = y[indices]\n",
        "        batch_labels = labels[indices]\n",
        "        \n",
        "        for k in range(batch_size):\n",
        "            x = batch_y[k].astype(a.dtype)\n",
        "            label = batch_labels[k]\n",
        "            \n",
        "            if np.sign(np.dot(a, x)) != label:\n",
        "                error += x.astype(a.dtype)\n",
        "        \n",
        "        if variable_lr:\n",
        "          lr = scheduler.get_next_lr()\n",
        "\n",
        "        a += lr * error\n",
        "        \n",
        "        if (iteration % (n_samples / batch_size)) == 0:\n",
        "            accuracy = np.mean([np.sign(np.dot(a, x)) == label for x, label in zip(y, labels)])\n",
        "            acc_history.append(accuracy)\n",
        "            tqdm.write(f\"Accuracy: {accuracy:.2f}\")\n",
        "            error_history.append(np.abs(np.sum(error)))\n",
        "            tqdm.write(f\"Absolute Error: {np.sum(np.abs(error)):.2f}\")\n",
        "\n",
        "\n",
        "            if accuracy > best_accuracy:\n",
        "                best_accuracy = accuracy\n",
        "                best_model = np.copy(a)\n",
        "        \n",
        "        if np.sum(np.abs(error)) <= theta:\n",
        "            tqdm.write(\"Terminating due to the theta criterion\")\n",
        "            break\n",
        "\n",
        "        if best_model is None:\n",
        "         best_accuracy = 0\n",
        "         best_model = np.zeros_like(a)\n",
        "    \n",
        "    return best_model, acc_history, error_history"
      ],
      "metadata": {
        "id": "zy6iMFOli5WD"
      },
      "execution_count": null,
      "outputs": []
    },
    {
      "cell_type": "markdown",
      "source": [
        "We now train the model again:"
      ],
      "metadata": {
        "id": "C6M-JBdxTHXY"
      }
    },
    {
      "cell_type": "code",
      "source": [
        "n_iterations = 10**5\n",
        "lr = 1\n",
        "theta = 0.01\n",
        "batch_size = 16\n",
        "variable_lr = True\n",
        "\n",
        "# Train the model using the batch perceptron algorithm\n",
        "best_model, acc_history, error_history = train_batch(a, y, labels, n_iterations, lr, variable_lr, batch_size, theta)\n",
        "\n",
        "print(best_model)"
      ],
      "metadata": {
        "colab": {
          "base_uri": "https://localhost:8080/"
        },
        "id": "Mh2iqOj7i6QN",
        "outputId": "aee75a43-a0f3-4560-d057-06fbe7d07dc2"
      },
      "execution_count": null,
      "outputs": [
        {
          "output_type": "stream",
          "name": "stderr",
          "text": [
            "Batch perceptron training:   1%|          | 626/100000 [00:00<00:33, 3002.76it/s]"
          ]
        },
        {
          "output_type": "stream",
          "name": "stdout",
          "text": [
            "Accuracy: 0.45\n",
            "Absolute Error: 57.88\n",
            "Accuracy: 0.45\n",
            "Absolute Error: 47.43\n",
            "Accuracy: 0.45\n",
            "Absolute Error: 50.56\n",
            "Accuracy: 0.45\n",
            "Absolute Error: 35.92\n",
            "Accuracy: 0.45\n",
            "Absolute Error: 54.99\n",
            "Accuracy: 0.45\n",
            "Absolute Error: 51.94\n"
          ]
        },
        {
          "output_type": "stream",
          "name": "stderr",
          "text": [
            "Batch perceptron training:   1%|          | 972/100000 [00:00<00:30, 3203.49it/s]"
          ]
        },
        {
          "output_type": "stream",
          "name": "stdout",
          "text": [
            "Accuracy: 0.45\n",
            "Absolute Error: 45.27\n",
            "Accuracy: 0.45\n",
            "Absolute Error: 42.09\n",
            "Accuracy: 0.45\n",
            "Absolute Error: 46.82\n",
            "Accuracy: 0.45\n",
            "Absolute Error: 45.65\n",
            "Accuracy: 0.45\n",
            "Absolute Error: 42.69\n"
          ]
        },
        {
          "output_type": "stream",
          "name": "stderr",
          "text": [
            "Batch perceptron training:   2%|▏         | 1911/100000 [00:00<00:34, 2808.49it/s]"
          ]
        },
        {
          "output_type": "stream",
          "name": "stdout",
          "text": [
            "Accuracy: 0.45\n",
            "Absolute Error: 42.37\n",
            "Accuracy: 0.45\n",
            "Absolute Error: 44.56\n",
            "Accuracy: 0.45\n",
            "Absolute Error: 34.11\n",
            "Accuracy: 0.45\n",
            "Absolute Error: 48.14\n",
            "Accuracy: 0.45\n",
            "Absolute Error: 38.01\n"
          ]
        },
        {
          "output_type": "stream",
          "name": "stderr",
          "text": [
            "Batch perceptron training:   3%|▎         | 2501/100000 [00:00<00:35, 2761.81it/s]"
          ]
        },
        {
          "output_type": "stream",
          "name": "stdout",
          "text": [
            "Accuracy: 0.45\n",
            "Absolute Error: 55.62\n",
            "Accuracy: 0.45\n",
            "Absolute Error: 42.60\n",
            "Accuracy: 0.45\n",
            "Absolute Error: 38.24\n",
            "Accuracy: 0.45\n",
            "Absolute Error: 45.17\n",
            "Accuracy: 0.45\n",
            "Absolute Error: 45.70\n"
          ]
        },
        {
          "output_type": "stream",
          "name": "stderr",
          "text": [
            "Batch perceptron training:   3%|▎         | 3148/100000 [00:01<00:34, 2841.40it/s]"
          ]
        },
        {
          "output_type": "stream",
          "name": "stdout",
          "text": [
            "Accuracy: 0.45\n",
            "Absolute Error: 39.95\n",
            "Accuracy: 0.45\n",
            "Absolute Error: 40.28\n",
            "Accuracy: 0.45\n",
            "Absolute Error: 34.35\n",
            "Accuracy: 0.45\n",
            "Absolute Error: 39.56\n",
            "Accuracy: 0.45\n",
            "Absolute Error: 36.86\n"
          ]
        },
        {
          "output_type": "stream",
          "name": "stderr",
          "text": [
            "Batch perceptron training:   3%|▎         | 3443/100000 [00:01<00:33, 2871.69it/s]"
          ]
        },
        {
          "output_type": "stream",
          "name": "stdout",
          "text": [
            "Accuracy: 0.45\n",
            "Absolute Error: 52.36\n",
            "Accuracy: 0.45\n",
            "Absolute Error: 57.35\n",
            "Accuracy: 0.45\n",
            "Absolute Error: 41.04\n",
            "Accuracy: 0.45\n",
            "Absolute Error: 26.95\n"
          ]
        },
        {
          "output_type": "stream",
          "name": "stderr",
          "text": [
            "Batch perceptron training:   4%|▍         | 3998/100000 [00:01<00:39, 2443.37it/s]"
          ]
        },
        {
          "output_type": "stream",
          "name": "stdout",
          "text": [
            "Accuracy: 0.45\n",
            "Absolute Error: 16.83\n",
            "Accuracy: 0.45\n",
            "Absolute Error: 46.60\n",
            "Accuracy: 0.45\n",
            "Absolute Error: 51.18\n",
            "Accuracy: 0.45\n",
            "Absolute Error: 39.86\n"
          ]
        },
        {
          "output_type": "stream",
          "name": "stderr",
          "text": [
            "Batch perceptron training:   4%|▍         | 4491/100000 [00:01<00:40, 2359.87it/s]"
          ]
        },
        {
          "output_type": "stream",
          "name": "stdout",
          "text": [
            "Accuracy: 0.45\n",
            "Absolute Error: 54.69\n",
            "Accuracy: 0.45\n",
            "Absolute Error: 48.64\n",
            "Accuracy: 0.45\n",
            "Absolute Error: 69.99\n",
            "Accuracy: 0.45\n",
            "Absolute Error: 60.02\n"
          ]
        },
        {
          "output_type": "stream",
          "name": "stderr",
          "text": [
            "Batch perceptron training:   5%|▌         | 5251/100000 [00:02<00:40, 2333.56it/s]"
          ]
        },
        {
          "output_type": "stream",
          "name": "stdout",
          "text": [
            "Accuracy: 0.45\n",
            "Absolute Error: 51.62\n",
            "Accuracy: 0.45\n",
            "Absolute Error: 33.62\n",
            "Accuracy: 0.45\n",
            "Absolute Error: 28.90\n",
            "Accuracy: 0.45\n",
            "Absolute Error: 42.91\n",
            "Accuracy: 0.45\n",
            "Absolute Error: 59.64\n"
          ]
        },
        {
          "output_type": "stream",
          "name": "stderr",
          "text": [
            "                                                                                  "
          ]
        },
        {
          "output_type": "stream",
          "name": "stdout",
          "text": [
            "Accuracy: 0.45\n",
            "Absolute Error: 58.94\n",
            "Accuracy: 0.45\n",
            "Absolute Error: 41.98\n",
            "Accuracy: 0.45\n",
            "Absolute Error: 39.85\n",
            "Accuracy: 0.45\n",
            "Absolute Error: 42.98\n",
            "Accuracy: 0.45\n"
          ]
        },
        {
          "output_type": "stream",
          "name": "stderr",
          "text": [
            "Batch perceptron training:   6%|▋         | 6279/100000 [00:02<00:37, 2489.15it/s]"
          ]
        },
        {
          "output_type": "stream",
          "name": "stdout",
          "text": [
            "Absolute Error: 53.32\n",
            "Accuracy: 0.45\n",
            "Absolute Error: 49.22\n",
            "Accuracy: 0.45\n",
            "Absolute Error: 37.48\n",
            "Accuracy: 0.45\n",
            "Absolute Error: 42.27\n",
            "Accuracy: 0.45\n",
            "Absolute Error: 55.23\n"
          ]
        },
        {
          "output_type": "stream",
          "name": "stderr",
          "text": [
            "Batch perceptron training:   7%|▋         | 6817/100000 [00:02<00:35, 2594.05it/s]"
          ]
        },
        {
          "output_type": "stream",
          "name": "stdout",
          "text": [
            "Accuracy: 0.45\n",
            "Absolute Error: 33.99\n",
            "Accuracy: 0.45\n",
            "Absolute Error: 63.42\n",
            "Accuracy: 0.45\n",
            "Absolute Error: 72.00\n",
            "Accuracy: 0.45\n",
            "Absolute Error: 37.81\n"
          ]
        },
        {
          "output_type": "stream",
          "name": "stderr",
          "text": [
            "Batch perceptron training:   7%|▋         | 7329/100000 [00:02<00:37, 2442.71it/s]"
          ]
        },
        {
          "output_type": "stream",
          "name": "stdout",
          "text": [
            "Accuracy: 0.45\n",
            "Absolute Error: 61.73\n",
            "Accuracy: 0.45\n",
            "Absolute Error: 26.75\n",
            "Accuracy: 0.45\n",
            "Absolute Error: 46.21\n",
            "Accuracy: 0.45\n",
            "Absolute Error: 50.78\n"
          ]
        },
        {
          "output_type": "stream",
          "name": "stderr",
          "text": []
        },
        {
          "output_type": "stream",
          "name": "stdout",
          "text": [
            "Accuracy: 0.45\n",
            "Absolute Error: 52.27\n",
            "Accuracy: 0.45\n",
            "Absolute Error: 25.76\n",
            "Accuracy: 0.45\n",
            "Absolute Error: 48.60\n",
            "Accuracy: 0.45\n",
            "Absolute Error: 55.77\n"
          ]
        },
        {
          "output_type": "stream",
          "name": "stderr",
          "text": []
        },
        {
          "output_type": "stream",
          "name": "stdout",
          "text": [
            "Accuracy: 0.45\n",
            "Absolute Error: 47.44\n",
            "Accuracy: 0.45\n",
            "Absolute Error: 53.61\n",
            "Accuracy: 0.45\n",
            "Absolute Error: 42.42\n",
            "Accuracy: 0.45\n",
            "Absolute Error: 66.84\n",
            "Accuracy: 0.45\n"
          ]
        },
        {
          "output_type": "stream",
          "name": "stderr",
          "text": [
            "Batch perceptron training:   9%|▉         | 8827/100000 [00:03<00:37, 2433.78it/s]"
          ]
        },
        {
          "output_type": "stream",
          "name": "stdout",
          "text": [
            "Absolute Error: 44.52\n",
            "Accuracy: 0.45\n",
            "Absolute Error: 35.71\n",
            "Accuracy: 0.45\n",
            "Absolute Error: 67.84\n",
            "Accuracy: 0.45\n",
            "Absolute Error: 45.04\n"
          ]
        },
        {
          "output_type": "stream",
          "name": "stderr",
          "text": [
            "Batch perceptron training:   9%|▉         | 9306/100000 [00:03<00:39, 2273.45it/s]"
          ]
        },
        {
          "output_type": "stream",
          "name": "stdout",
          "text": [
            "Accuracy: 0.45\n",
            "Absolute Error: 46.13\n",
            "Accuracy: 0.45\n",
            "Absolute Error: 34.95\n",
            "Accuracy: 0.45\n",
            "Absolute Error: 50.23\n",
            "Accuracy: 0.45\n",
            "Absolute Error: 48.96\n"
          ]
        },
        {
          "output_type": "stream",
          "name": "stderr",
          "text": [
            "Batch perceptron training:  10%|▉         | 9763/100000 [00:03<00:40, 2235.98it/s]"
          ]
        },
        {
          "output_type": "stream",
          "name": "stdout",
          "text": [
            "Accuracy: 0.45\n",
            "Absolute Error: 52.17\n",
            "Accuracy: 0.45\n",
            "Absolute Error: 72.81\n",
            "Accuracy: 0.45\n",
            "Absolute Error: 40.18\n",
            "Accuracy: 0.45\n",
            "Absolute Error: 53.20\n"
          ]
        },
        {
          "output_type": "stream",
          "name": "stderr",
          "text": [
            "Batch perceptron training:  11%|█         | 10501/100000 [00:04<00:37, 2355.48it/s]"
          ]
        },
        {
          "output_type": "stream",
          "name": "stdout",
          "text": [
            "Accuracy: 0.45\n",
            "Absolute Error: 52.26\n",
            "Accuracy: 0.45\n",
            "Absolute Error: 45.93\n",
            "Accuracy: 0.45\n",
            "Absolute Error: 39.31\n",
            "Accuracy: 0.45\n",
            "Absolute Error: 34.00\n",
            "Accuracy: 0.45\n",
            "Absolute Error: 46.90\n"
          ]
        },
        {
          "output_type": "stream",
          "name": "stderr",
          "text": [
            "Batch perceptron training:  11%|█         | 11126/100000 [00:04<00:34, 2583.59it/s]"
          ]
        },
        {
          "output_type": "stream",
          "name": "stdout",
          "text": [
            "Accuracy: 0.45\n",
            "Absolute Error: 57.82\n",
            "Accuracy: 0.45\n",
            "Absolute Error: 40.99\n",
            "Accuracy: 0.45\n",
            "Absolute Error: 41.09\n",
            "Accuracy: 0.45\n",
            "Absolute Error: 44.58\n",
            "Accuracy: 0.45\n",
            "Absolute Error: 33.92\n"
          ]
        },
        {
          "output_type": "stream",
          "name": "stderr",
          "text": [
            "Batch perceptron training:  12%|█▏        | 11747/100000 [00:04<00:30, 2868.84it/s]"
          ]
        },
        {
          "output_type": "stream",
          "name": "stdout",
          "text": [
            "Accuracy: 0.45\n",
            "Absolute Error: 55.28\n",
            "Accuracy: 0.45\n",
            "Absolute Error: 48.67\n",
            "Accuracy: 0.45\n",
            "Absolute Error: 40.50\n",
            "Accuracy: 0.45\n",
            "Absolute Error: 44.29\n",
            "Accuracy: 0.45\n",
            "Absolute Error: 37.97\n"
          ]
        },
        {
          "output_type": "stream",
          "name": "stderr",
          "text": [
            "Batch perceptron training:  12%|█▏        | 12376/100000 [00:04<00:30, 2849.16it/s]"
          ]
        },
        {
          "output_type": "stream",
          "name": "stdout",
          "text": [
            "Accuracy: 0.45\n",
            "Absolute Error: 33.64\n",
            "Accuracy: 0.45\n",
            "Absolute Error: 36.63\n",
            "Accuracy: 0.45\n",
            "Absolute Error: 44.34\n",
            "Accuracy: 0.45\n",
            "Absolute Error: 43.06\n",
            "Accuracy: 0.45\n",
            "Absolute Error: 59.46\n"
          ]
        },
        {
          "output_type": "stream",
          "name": "stderr",
          "text": [
            "Batch perceptron training:  13%|█▎        | 12958/100000 [00:05<00:30, 2877.90it/s]"
          ]
        },
        {
          "output_type": "stream",
          "name": "stdout",
          "text": [
            "Accuracy: 0.45\n",
            "Absolute Error: 60.93\n",
            "Accuracy: 0.45\n",
            "Absolute Error: 67.79\n",
            "Accuracy: 0.45\n",
            "Absolute Error: 61.11\n",
            "Accuracy: 0.45\n",
            "Absolute Error: 44.23\n",
            "Accuracy: 0.45\n",
            "Absolute Error: 41.43\n"
          ]
        },
        {
          "output_type": "stream",
          "name": "stderr",
          "text": [
            "Batch perceptron training:  14%|█▎        | 13531/100000 [00:05<00:31, 2745.38it/s]"
          ]
        },
        {
          "output_type": "stream",
          "name": "stdout",
          "text": [
            "Accuracy: 0.45\n",
            "Absolute Error: 51.22\n",
            "Accuracy: 0.45\n",
            "Absolute Error: 37.69\n",
            "Accuracy: 0.45\n",
            "Absolute Error: 26.41\n",
            "Accuracy: 0.45\n",
            "Absolute Error: 51.39\n",
            "Accuracy: 0.45\n",
            "Absolute Error: 45.08\n"
          ]
        },
        {
          "output_type": "stream",
          "name": "stderr",
          "text": [
            "Batch perceptron training:  14%|█▍        | 14162/100000 [00:05<00:30, 2816.76it/s]"
          ]
        },
        {
          "output_type": "stream",
          "name": "stdout",
          "text": [
            "Accuracy: 0.45\n",
            "Absolute Error: 31.42\n",
            "Accuracy: 0.45\n",
            "Absolute Error: 49.14\n",
            "Accuracy: 0.45\n",
            "Absolute Error: 66.89\n",
            "Accuracy: 0.45\n",
            "Absolute Error: 54.79\n",
            "Accuracy: 0.45\n",
            "Absolute Error: 35.60\n"
          ]
        },
        {
          "output_type": "stream",
          "name": "stderr",
          "text": [
            "Batch perceptron training:  14%|█▍        | 14366/100000 [00:05<00:33, 2594.04it/s]"
          ]
        },
        {
          "output_type": "stream",
          "name": "stdout",
          "text": [
            "Terminating due to the theta criterion\n",
            "[[1090841.20265464 2596050.80809398  874029.25979115]]\n"
          ]
        },
        {
          "output_type": "stream",
          "name": "stderr",
          "text": [
            "\n"
          ]
        }
      ]
    },
    {
      "cell_type": "code",
      "source": [
        "plt.subplot(2, 1, 1)\n",
        "plt.plot(error_history)\n",
        "plt.xlabel('Iteration')\n",
        "plt.ylabel('Error')\n",
        "plt.title('Error History')\n",
        "\n",
        "plt.subplot(2, 1, 2)\n",
        "plt.plot(acc_history)\n",
        "plt.xlabel('Iteration')\n",
        "plt.ylabel('Accuracy')\n",
        "plt.title('Accuracy History')\n",
        "\n",
        "plt.tight_layout()\n",
        "\n",
        "plt.show()"
      ],
      "metadata": {
        "colab": {
          "base_uri": "https://localhost:8080/",
          "height": 486
        },
        "id": "eeMCDMxXjte9",
        "outputId": "d87063be-4642-41bc-8d31-640cee9ffaff"
      },
      "execution_count": null,
      "outputs": [
        {
          "output_type": "display_data",
          "data": {
            "text/plain": [
              "<Figure size 640x480 with 2 Axes>"
            ],
            "image/png": "[encoded data removed]"
          },
          "metadata": {}
        }
      ]
    },
    {
      "cell_type": "code",
      "source": [
        "plot_model(best_model,y,labels)"
      ],
      "metadata": {
        "colab": {
          "base_uri": "https://localhost:8080/",
          "height": 472
        },
        "id": "NZN7-oQWjvSM",
        "outputId": "79657119-2aa3-4ef9-ba43-301982600a76"
      },
      "execution_count": null,
      "outputs": [
        {
          "output_type": "stream",
          "name": "stderr",
          "text": [
            "WARNING:matplotlib.legend:No artists with labels found to put in legend.  Note that artists whose label start with an underscore are ignored when legend() is called with no argument.\n"
          ]
        },
        {
          "output_type": "display_data",
          "data": {
            "text/plain": [
              "<Figure size 640x480 with 1 Axes>"
            ],
            "image/png": "[encoded data removed]"
          },
          "metadata": {}
        }
      ]
    },
    {
      "cell_type": "markdown",
      "source": [
        "From our data there is no clear difference between training the batch perceptron with a fixed learning rate or a variable learning rate. This may be due to one or more of the following:\n",
        "\n",
        "- *Choice of the decaying learning rate*. Different learning rates suit different characteristics of the data.\n",
        "\n",
        "- *Choice of the initial learning rate*. A learning rate that is too large will cause the learning model to compute drastic updates and diverge rapidly, while a too small learning rate will require many updates before reaching a local extrema.\n",
        "\n",
        "- *Batch size*. Since the selection of the batch influences the noise introduced during the update of the weights, a small batch size leads to more stochastic updates while a larger batch size (compared to the size of the data) will lead to better generalization and smooth out the loss landscape to reduce the presence of local extrema. This may be beneficial, but if the batch size it too large, it can lead to difficulties in finding sharper and more accurate minima that generalize the model in a more optimal way.\n",
        "\n",
        "Overall, a number of possible parameter configurations (such as the learning rate, fixed or variable learning rate, batch size, theta, epochs (a single pass through all the samples) etc) must be tested and fine-tuned in order to yield the best possible model, often using random walks on the space of possible configurations, called *hyperparameter tuning* [3]. It should be noted again, as stated in the beginning of the assignment, that the given data is not linearly separable, which should also be taken into consideration.\n",
        "\n",
        "\n",
        "\n",
        "---\n",
        "\n"
      ],
      "metadata": {
        "id": "X0E0kPAKTPqE"
      }
    },
    {
      "cell_type": "markdown",
      "source": [
        "### **References**\n",
        "\n",
        "1. Duda, R. O., & Hart, P. E. (2006). *Pattern classification*. John Wiley & Sons.\n",
        "\n",
        "2. Wasserman, L. (2004). *All of Statistics: A concise course in Statistical Inference* (Vol. 26). New York: Springer.\n",
        "\n",
        "3. Goodfellow, I., Bengio, Y., & Courville, A. (2016). Deep Learning. MIT Press.\n",
        "\n",
        " "
      ],
      "metadata": {
        "id": "9ukhtSeBYAon"
      }
    }
  ]
}